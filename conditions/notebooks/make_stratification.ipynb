{
 "cells": [
  {
   "cell_type": "markdown",
   "metadata": {},
   "source": [
    "Simplified version of prepare_stratification.ipynb. Currently, only uses one T &S profile (#21)."
   ]
  },
  {
   "cell_type": "code",
   "execution_count": 6,
   "metadata": {
    "collapsed": false
   },
   "outputs": [],
   "source": [
    "import numpy as np\n",
    "import netCDF4 as nc\n",
    "import scipy.io as sio\n",
    "from scipy import interpolate\n",
    "import datetime\n",
    "import matplotlib.pyplot as plt\n",
    "import  matplotlib.cm as cm\n",
    "\n",
    "from seawater import geostrophic\n",
    "from seawater import eos80\n",
    "\n",
    "%matplotlib inline\n",
    "\n",
    "import sys\n",
    "sys.path.append('/ocean/imachuca/Canyons/mackenzie_canyon/tools/')\n",
    "import functions_plot"
   ]
  },
  {
   "cell_type": "markdown",
   "metadata": {},
   "source": [
    "# Observations"
   ]
  },
  {
   "cell_type": "code",
   "execution_count": 7,
   "metadata": {
    "collapsed": true
   },
   "outputs": [],
   "source": [
    "# Load two datasets\n",
    "ts_data_shal = sio.loadmat('../data/for_stratification/canyonTSdata.mat')\n",
    "ts_data_deep = sio.loadmat('../data/for_stratification/canyonTSdata2.mat')"
   ]
  },
  {
   "cell_type": "code",
   "execution_count": 8,
   "metadata": {
    "collapsed": false
   },
   "outputs": [],
   "source": [
    "# Extract important variables\n",
    "longitudes = np.concatenate((ts_data_shal['loncanyon'][0], ts_data_deep['loncanyon2'][0]),axis=0)\n",
    "latitudes = np.concatenate((ts_data_shal['latcanyon'][0], ts_data_deep['latcanyon2'][0]),axis=0)\n",
    "years = np.concatenate((ts_data_shal['yrcanyon'][0], ts_data_deep['yrcanyon2'][0]),axis=0)\n",
    "days = np.concatenate((ts_data_shal['daycanyon'][0], ts_data_deep['daycanyon2'][0]),axis=0)\n",
    "con_temps = np.concatenate((ts_data_shal['tempcanyon'], ts_data_deep['tempcanyon2']),axis=1)\n",
    "abs_salts = np.concatenate((ts_data_shal['salcanyon'], ts_data_deep['salcanyon2']),axis=1)\n",
    "depths = np.concatenate((ts_data_shal['depthcanyon'], ts_data_deep['depthcanyon2']),axis=1) * -1\n",
    "\n",
    "# Dates these measurements were taken\n",
    "dates = []\n",
    "for i in range(len(days)):\n",
    "    date = (datetime.datetime(years[i], 1, 1) + datetime.timedelta(days[i] - 1)).strftime('%b %y')\n",
    "    dates.append(date)"
   ]
  },
  {
   "cell_type": "markdown",
   "metadata": {},
   "source": [
    "# Temperature and Salinity Interpolation Functions"
   ]
  },
  {
   "cell_type": "code",
   "execution_count": 9,
   "metadata": {
    "collapsed": true
   },
   "outputs": [],
   "source": [
    "def interpolate_votemper(interp_ctemp, data_temp, vertical_spacing, bathy_shape):\n",
    "    ''' This function interpolates the conservative temperature to the depths\n",
    "    specified in the vertical spacing. \n",
    "    \n",
    "    :arg interp_ctemp: interpolation function\n",
    "    :arg data_temp: conservative temperature data\n",
    "    :arg vertical_spacing: depth steps \n",
    "    :arg bathy_shape: domain bathymetry\n",
    "    '''\n",
    "    votemper = np.zeros((1, len(vertical_spacing), bathy_shape[0], bathy_shape[1]))\n",
    "    votemper[0,0,:,:] = data_temp[0]\n",
    "\n",
    "    for id in range(1, len(vertical_spacing)):\n",
    "        for x in range(0, bathy_shape[1]):\n",
    "            for y in range(0, bathy_shape[0]):\n",
    "                votemper[0, id, y, x] = interp_ctemp(vertical_spacing[id])\n",
    "    return votemper\n",
    "\n",
    "def interpolate_vosaline(interp_asalt, data_salt, vertical_spacing, bathy_shape):\n",
    "    ''' This function interpolates the absolute salinity to the depths\n",
    "    specified in the vertical spacing. \n",
    "    \n",
    "    :arg interp_asalt: interpolation function\n",
    "    :arg data_salt: absolute salinity data\n",
    "    :arg vertical_spacing: depth steps \n",
    "    :arg bathy_shape: domain bathymetry\n",
    "    '''\n",
    "    vosaline = np.zeros((1, len(vertical_spacing), bathy_shape[0], bathy_shape[1]))\n",
    "    vosaline[0,0,:,:] = data_salt[0]\n",
    "\n",
    "    for id in range(1, len(vertical_spacing)):\n",
    "        for x in range(0, bathy_shape[1]):\n",
    "            for y in range(0, bathy_shape[0]):\n",
    "                vosaline[0, id, y, x] = interp_asalt(vertical_spacing[id])\n",
    "    return vosaline"
   ]
  },
  {
   "cell_type": "code",
   "execution_count": 10,
   "metadata": {
    "collapsed": true
   },
   "outputs": [],
   "source": [
    "def fill_nans(data):\n",
    "    mask = np.isnan(data)\n",
    "    data[mask] = np.interp(np.flatnonzero(mask), np.flatnonzero(~mask), data[~mask])\n",
    "    return data"
   ]
  },
  {
   "cell_type": "code",
   "execution_count": 11,
   "metadata": {
    "collapsed": true
   },
   "outputs": [],
   "source": [
    "def prepare_profile(profile_number, depths, con_temps, abs_salts):\n",
    "   \n",
    "    full_depth = depths[:, profile_number]\n",
    "    ind_end = np.where(full_depth == np.nanmax(full_depth))[0][0]\n",
    "    prof_depth = full_depth[:ind_end+1]\n",
    "\n",
    "    full_ctemp = con_temps[:, profile_number]\n",
    "    prof_ctemp = full_ctemp[:ind_end+1]\n",
    "\n",
    "    full_asalt = abs_salts[:, profile_number]\n",
    "    prof_asalt = full_asalt[:ind_end+1]\n",
    "    \n",
    "    prof_depth = fill_nans(prof_depth)\n",
    "    prof_ctemp = fill_nans(prof_ctemp)\n",
    "    prof_asalt = fill_nans(prof_asalt)\n",
    "    \n",
    "    return prof_depth, prof_ctemp, prof_asalt"
   ]
  },
  {
   "cell_type": "code",
   "execution_count": 12,
   "metadata": {
    "collapsed": true
   },
   "outputs": [],
   "source": [
    "def prepare_interpolation(prof_depth, prof_ctemp, prof_asalt):\n",
    "\n",
    "    interp_ctemp = interpolate.interp1d(prof_depth, prof_ctemp, kind='cubic', \n",
    "                                    bounds_error=False, fill_value=prof_ctemp[-1], assume_sorted=False)\n",
    "    interp_asalt = interpolate.interp1d(prof_depth, prof_asalt, kind='cubic', \n",
    "                                    bounds_error=False, fill_value=prof_asalt[-1], assume_sorted=False)\n",
    "    \n",
    "    return interp_ctemp, interp_asalt"
   ]
  },
  {
   "cell_type": "code",
   "execution_count": 13,
   "metadata": {
    "collapsed": false
   },
   "outputs": [],
   "source": [
    "def generate_interpolation(interp_ctemp, interp_asalt, prof_ctemp, prof_asalt, vertical_spacing, bathy_shape):\n",
    "    \n",
    "    strat_votemper = interpolate_votemper(interp_ctemp, prof_ctemp, vertical_spacing, bathy_shape)\n",
    "    strat_vosaline = interpolate_vosaline(interp_asalt, prof_asalt, vertical_spacing, bathy_shape)\n",
    "    \n",
    "    return strat_votemper, strat_vosaline"
   ]
  },
  {
   "cell_type": "code",
   "execution_count": 14,
   "metadata": {
    "collapsed": true
   },
   "outputs": [],
   "source": [
    "def full_stratification(profile_number, depths, con_temps, abs_salts, vertical_spacing, bathy_shape):\n",
    "    \n",
    "    prof_depth, prof_ctemp, prof_asalt = prepare_profile(profile_number, depths, con_temps, abs_salts)\n",
    "    interp_ctemp, interp_asalt = prepare_interpolation(prof_depth, prof_ctemp, prof_asalt)\n",
    "    strat_votemper, strat_vosaline = generate_interpolation(interp_ctemp, interp_asalt, prof_ctemp, prof_asalt, \n",
    "                                                            vertical_spacing, bathy_shape)\n",
    "    \n",
    "    return strat_votemper, strat_vosaline, prof_depth, prof_ctemp, prof_asalt"
   ]
  },
  {
   "cell_type": "code",
   "execution_count": 15,
   "metadata": {
    "collapsed": false
   },
   "outputs": [],
   "source": [
    "def plot_interpolations(strat_votemper, strat_vosaline, prof_depth, prof_ctemp, prof_asalt,\n",
    "                        vertical_spacing, bathy_shape):\n",
    "\n",
    "    xs, ys = 58, 58; c = 'dodgerblue'\n",
    "    fig, (ax2, ax3, ax4) = plt.subplots(1,3,figsize=(14,6)); fig.tight_layout()\n",
    "\n",
    "    ax2.plot(vertical_spacing, c = 'forestgreen', lw = 2, marker = 'o', linestyle = '-')\n",
    "    ax2.set_title('depths ' + str(vertical_spacing.shape))\n",
    "    ax2.set_ylim(prof_depth[-1], 0)\n",
    "\n",
    "    ax3.plot(prof_ctemp, prof_depth, c = 'gray', lw=2, marker ='o', linestyle='-', label='data', alpha=0.4)\n",
    "    ax3.plot(strat_votemper[0, :, ys, xs], vertical_spacing, c=c, lw=2, marker ='o', linestyle='-', label='interp')\n",
    "    ax3.set_title('temperature ' + str(prof_ctemp.shape) + ' ' + str(strat_votemper.shape))\n",
    "    ax3.legend(loc=4); ax3.set_ylim(prof_depth[-1], 0)\n",
    "\n",
    "    ax4.plot(prof_asalt, prof_depth, c = 'gray', lw=2, marker ='o', linestyle='-', label='data', alpha=0.4)\n",
    "    ax4.plot(strat_vosaline[0, :, ys, xs], vertical_spacing, c=c, lw=2, marker ='o', linestyle='-', label='interp')\n",
    "    ax4.set_title('salinity ' + str(prof_asalt.shape) + ' ' + str(strat_vosaline.shape))\n",
    "    ax4.legend(loc=3); ax4.set_ylim(prof_depth[-1], 0)\n",
    "\n",
    "    plt.show()\n",
    "\n",
    "    return fig"
   ]
  },
  {
   "cell_type": "markdown",
   "metadata": {},
   "source": [
    "# Creating Individual Profile"
   ]
  },
  {
   "cell_type": "code",
   "execution_count": 26,
   "metadata": {
    "collapsed": false
   },
   "outputs": [],
   "source": [
    "path_bath = 'ideal_bathy_05.nc'\n",
    "path_mesh = 'mesh_mask.nc'\n",
    "\n",
    "file_bath = nc.Dataset('/ocean/imachuca/Canyons/mackenzie_canyon/bathymetry/NEMO_files/idealized/' + path_bath)\n",
    "file_mesh = nc.Dataset('/ocean/imachuca/Canyons/results_mackenzie/idealized/depth_levels/80_levels/versionC/' + path_mesh)\n",
    "\n",
    "bathy_shape = file_bath['Bathymetry'][:].shape\n",
    "vertical_spacing = file_mesh['gdept_1d'][0]"
   ]
  },
  {
   "cell_type": "code",
   "execution_count": 27,
   "metadata": {
    "collapsed": false
   },
   "outputs": [
    {
     "data": {
      "text/plain": [
       "<class 'netCDF4._netCDF4.Dataset'>\n",
       "root group (NETCDF4 data model, file format HDF5):\n",
       "    DOMAIN_number_total: 1\n",
       "    DOMAIN_number: 0\n",
       "    DOMAIN_dimensions_ids: [1 2]\n",
       "    DOMAIN_size_global: [237 177]\n",
       "    DOMAIN_size_local: [237 177]\n",
       "    DOMAIN_position_first: [1 1]\n",
       "    DOMAIN_position_last: [237 177]\n",
       "    DOMAIN_halo_size_start: [0 0]\n",
       "    DOMAIN_halo_size_end: [0 0]\n",
       "    DOMAIN_type: BOX\n",
       "    dimensions(sizes): x(237), y(177), z(80), t(1)\n",
       "    variables(dimensions): float32 \u001b[4mnav_lon\u001b[0m(y,x), float32 \u001b[4mnav_lat\u001b[0m(y,x), float32 \u001b[4mnav_lev\u001b[0m(z), float64 \u001b[4mtime_counter\u001b[0m(t), int8 \u001b[4mtmask\u001b[0m(t,z,y,x), int8 \u001b[4mumask\u001b[0m(t,z,y,x), int8 \u001b[4mvmask\u001b[0m(t,z,y,x), int8 \u001b[4mfmask\u001b[0m(t,z,y,x), int8 \u001b[4mtmaskutil\u001b[0m(t,y,x), int8 \u001b[4mumaskutil\u001b[0m(t,y,x), int8 \u001b[4mvmaskutil\u001b[0m(t,y,x), int8 \u001b[4mfmaskutil\u001b[0m(t,y,x), float32 \u001b[4mglamt\u001b[0m(t,y,x), float32 \u001b[4mglamu\u001b[0m(t,y,x), float32 \u001b[4mglamv\u001b[0m(t,y,x), float32 \u001b[4mglamf\u001b[0m(t,y,x), float32 \u001b[4mgphit\u001b[0m(t,y,x), float32 \u001b[4mgphiu\u001b[0m(t,y,x), float32 \u001b[4mgphiv\u001b[0m(t,y,x), float32 \u001b[4mgphif\u001b[0m(t,y,x), float64 \u001b[4me1t\u001b[0m(t,y,x), float64 \u001b[4me1u\u001b[0m(t,y,x), float64 \u001b[4me1v\u001b[0m(t,y,x), float64 \u001b[4me1f\u001b[0m(t,y,x), float64 \u001b[4me2t\u001b[0m(t,y,x), float64 \u001b[4me2u\u001b[0m(t,y,x), float64 \u001b[4me2v\u001b[0m(t,y,x), float64 \u001b[4me2f\u001b[0m(t,y,x), float64 \u001b[4mff\u001b[0m(t,y,x), int16 \u001b[4mmbathy\u001b[0m(t,y,x), int16 \u001b[4mmisf\u001b[0m(t,y,x), float32 \u001b[4misfdraft\u001b[0m(t,y,x), float64 \u001b[4me3t_0\u001b[0m(t,z,y,x), float64 \u001b[4me3u_0\u001b[0m(t,z,y,x), float64 \u001b[4me3v_0\u001b[0m(t,z,y,x), float64 \u001b[4me3w_0\u001b[0m(t,z,y,x), float32 \u001b[4mgdept_0\u001b[0m(t,z,y,x), float32 \u001b[4mgdepu\u001b[0m(t,z,y,x), float32 \u001b[4mgdepv\u001b[0m(t,z,y,x), float32 \u001b[4mgdepw_0\u001b[0m(t,z,y,x), float64 \u001b[4mgdept_1d\u001b[0m(t,z), float64 \u001b[4mgdepw_1d\u001b[0m(t,z), float64 \u001b[4me3t_1d\u001b[0m(t,z), float64 \u001b[4me3w_1d\u001b[0m(t,z)\n",
       "    groups: "
      ]
     },
     "execution_count": 27,
     "metadata": {},
     "output_type": "execute_result"
    }
   ],
   "source": [
    "file_mesh"
   ]
  },
  {
   "cell_type": "code",
   "execution_count": 28,
   "metadata": {
    "collapsed": false
   },
   "outputs": [
    {
     "data": {
      "text/plain": [
       "array([    4.375     ,    13.125     ,    21.875     ,    30.625     ,\n",
       "          39.375     ,    48.125     ,    56.875     ,    65.625     ,\n",
       "          74.375     ,    83.125     ,    91.875     ,   100.625     ,\n",
       "         109.375     ,   118.125     ,   126.875     ,   135.625     ,\n",
       "         144.375     ,   153.125     ,   161.875     ,   170.625     ,\n",
       "         179.375     ,   188.125     ,   196.875     ,   205.625     ,\n",
       "         214.375     ,   223.125     ,   231.875     ,   240.625     ,\n",
       "         249.375     ,   258.125     ,   266.875     ,   275.625     ,\n",
       "         284.375     ,   293.125     ,   301.875     ,   310.625     ,\n",
       "         319.375     ,   328.125     ,   336.875     ,   345.625     ,\n",
       "         354.375     ,   363.125     ,   371.875     ,   380.625     ,\n",
       "         389.375     ,   398.125     ,   406.875     ,   415.625     ,\n",
       "         424.375     ,   433.125     ,   441.87500001,   450.62500009,\n",
       "         459.3750007 ,   468.12500517,   476.87503822,   485.62528242,\n",
       "         494.3770867 ,   503.14041264,   511.98855468,   521.44659862,\n",
       "         534.67216812,   560.33189034,   598.42576529,   640.28716579,\n",
       "         682.7584682 ,   725.3145867 ,   767.88222686,   810.45142711,\n",
       "         853.02083851,   895.59027848,   938.15972232,   980.72916668,\n",
       "        1023.29861111,  1065.86805556,  1108.4375    ,  1151.00694444,\n",
       "        1193.57638889,  1236.14583333,  1278.71527778,  1321.28472222])"
      ]
     },
     "execution_count": 28,
     "metadata": {},
     "output_type": "execute_result"
    }
   ],
   "source": [
    "vertical_spacing"
   ]
  },
  {
   "cell_type": "code",
   "execution_count": 29,
   "metadata": {
    "collapsed": false
   },
   "outputs": [],
   "source": [
    "profile_number = 21\n",
    "strat_votemper, strat_vosaline, prof_depth, prof_ctemp, prof_asalt = full_stratification(profile_number, \n",
    "                                                                                         depths, con_temps, abs_salts, \n",
    "                                                                                        vertical_spacing, bathy_shape)"
   ]
  },
  {
   "cell_type": "code",
   "execution_count": 30,
   "metadata": {
    "collapsed": false
   },
   "outputs": [
    {
     "data": {
      "image/png": "[encoded data removed]",
      "text/plain": [
       "<matplotlib.figure.Figure at 0x7fafe6038f98>"
      ]
     },
     "metadata": {},
     "output_type": "display_data"
    }
   ],
   "source": [
    "fig = plot_interpolations(strat_votemper, strat_vosaline, prof_depth, prof_ctemp, prof_asalt,\n",
    "                        vertical_spacing, bathy_shape)"
   ]
  },
  {
   "cell_type": "code",
   "execution_count": 31,
   "metadata": {
    "collapsed": true
   },
   "outputs": [],
   "source": [
    "t_file = nc.Dataset('../NEMO_files/temperature/temperature_doubled_80.nc', 'w', zlib=True)\n",
    "t_file.createDimension('x',bathy_shape[1])\n",
    "t_file.createDimension('y',bathy_shape[0])\n",
    "t_file.createDimension('deptht',size = vertical_spacing.shape[0])\n",
    "t_file.createDimension('time_counter', None)\n",
    "deptht = t_file.createVariable('deptht', 'float32', ('deptht'))\n",
    "votemper = t_file.createVariable('votemper', 'float32', ('time_counter','deptht','y','x'))\n",
    "deptht = vertical_spacing\n",
    "votemper[0] = strat_votemper[:]\n",
    "t_file.close()\n",
    "\n",
    "s_file = nc.Dataset('../NEMO_files/salinity/salinity_doubled_80.nc', 'w', zlib=True)\n",
    "s_file.createDimension('x',bathy_shape[1])\n",
    "s_file.createDimension('y',bathy_shape[0])\n",
    "s_file.createDimension('deptht',size = vertical_spacing.shape[0])\n",
    "s_file.createDimension('time_counter', None)\n",
    "deptht = s_file.createVariable('deptht', 'float32', ('deptht'))\n",
    "vosaline = s_file.createVariable('vosaline', 'float32', ('time_counter','deptht','y','x'))\n",
    "deptht = vertical_spacing\n",
    "vosaline[0] = strat_vosaline[:]\n",
    "s_file.close()"
   ]
  },
  {
   "cell_type": "code",
   "execution_count": null,
   "metadata": {
    "collapsed": true
   },
   "outputs": [],
   "source": []
  }
 ],
 "metadata": {
  "kernelspec": {
   "display_name": "Python 3",
   "language": "python",
   "name": "python3"
  },
  "language_info": {
   "codemirror_mode": {
    "name": "ipython",
    "version": 3
   },
   "file_extension": ".py",
   "mimetype": "text/x-python",
   "name": "python",
   "nbconvert_exporter": "python",
   "pygments_lexer": "ipython3",
   "version": "3.5.0rc4"
  }
 },
 "nbformat": 4,
 "nbformat_minor": 0
}
