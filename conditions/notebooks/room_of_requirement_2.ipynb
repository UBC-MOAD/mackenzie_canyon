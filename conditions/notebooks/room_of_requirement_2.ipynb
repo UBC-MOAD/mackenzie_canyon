{
 "cells": [
  {
   "cell_type": "markdown",
   "metadata": {},
   "source": [
    "# Notes: NEMO's analytical function\n",
    "\n",
    "**[Page 57]** In the vertical, the model mesh is determined by four things: (1) the bathymetry given in meters (2) the number of levels of the model (jpk) (3) the analytical transformation z(i, j, k) and the vertical scale factors (4) the masking system (the number of wet model levels at each (i, j) column of points).\n",
    "\n",
    "**[Page 63]** In z-coordinate partial step (ln zps=.true.), the depths of the model levels are defined by the reference analytical function z0(k), except in the bottom layer. The thickness of the bottom layer is allowed to vary as a function of geographical location (lon, lat) to allow a better representation of the bathymetry.\n",
    "\n",
    "**[Page 60]** The reference coordinate transformation z0(k) defines the arrays gdept0 and gdepw0 for t- and w-points, respectively. The vertical location of w- and t-levels is defined from the analytic expression of the depth z0(k) whose analytical derivative with respect to k provides the vertical scale factors. \n",
    "\n",
    "It is possible to define a simple regular vertical grid by giving zero stretching (ppacr=0). It is often desirable to concentrate the vertical resolution near the ocean surface. The following function is proposed as a standard for\n",
    "a z-coordinate (with either full or partial steps):\n",
    "\n",
    "$z_0(k) = h_{sur} - h_0 k - h_1 log [ cosh ((k - h_{th}) / h_{cr})]$\n",
    "\n",
    "With $h_{cr}$ and jpk, the four parameters (h...) have been determined such that these are satisfied, through an optimisation procedure using a bisection method.\n",
    "$e_3(1 + 1/2) = 10$ and $e_3(jpk - 1/2) = 500$ and $z(1) = 0$ and $z(jpk) = -500$\n",
    "\n",
    "Rather than entering the parameters (h...) directly, set ppsur=ppa0=ppa1=999999 in namcfg and specify the following:\n",
    "* ppacr=hcr : stretching factor \n",
    "* ppkth=hth : level at which maximum stretching\n",
    "* ppdzmin : top layer minimum thickness\n",
    "* pphmax : total depth of the ocean\n",
    "\n",
    "**[Page 63]** With partial steps, layers from 1 to jpk-2 can have a thickness smaller than e3t(jk). The model deepest layer (jpk-1) is allowed to have either a smaller or larger thickness than e3t(jpk): the maximum thickness allowed is 2 * e3t(jpk -1)\n",
    "\n",
    "Two variables in the namdom namelist are used to define the partial step vertical grid. The mimimum water thickness (in meters) allowed for a cell partially filled with bathymetry at level jk is the minimum of rn_e3zps_min (thickness in meters, usually 20 m) or e3t(jk) * rn_e3zps_rat (a fraction, usually 10%, of the default thickness e3t(jk)).\n",
    "\n",
    "\n",
    "* phy_cst : initialization of ocean parameters and constants\n",
    "* dom_nam  : domain initialization through namelist read (Namelist namdom : space & time domain)   \n",
    "* zgr_z   : Reference vertical z-coordinates\n",
    "* dta_tsd_init : Temperature & Salinity data "
   ]
  },
  {
   "cell_type": "code",
   "execution_count": null,
   "metadata": {
    "collapsed": true
   },
   "outputs": [],
   "source": []
  }
 ],
 "metadata": {
  "kernelspec": {
   "display_name": "Python 3",
   "language": "python",
   "name": "python3"
  },
  "language_info": {
   "codemirror_mode": {
    "name": "ipython",
    "version": 3
   },
   "file_extension": ".py",
   "mimetype": "text/x-python",
   "name": "python",
   "nbconvert_exporter": "python",
   "pygments_lexer": "ipython3",
   "version": "3.5.0rc4"
  }
 },
 "nbformat": 4,
 "nbformat_minor": 0
}
