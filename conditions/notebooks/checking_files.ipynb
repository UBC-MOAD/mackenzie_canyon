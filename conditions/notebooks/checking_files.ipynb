{
 "cells": [
  {
   "cell_type": "code",
   "execution_count": 1,
   "metadata": {
    "collapsed": false
   },
   "outputs": [],
   "source": [
    "import netCDF4 as nc"
   ]
  },
  {
   "cell_type": "code",
   "execution_count": 2,
   "metadata": {
    "collapsed": true
   },
   "outputs": [],
   "source": [
    "bathy_file = nc.Dataset('../temporary_test/ideal_bathy_05.nc')\n",
    "coords_file = nc.Dataset('../temporary_test/coords_02.nc')\n",
    "sal_file = nc.Dataset('../temporary_test/salinity_doubled_20.nc')\n",
    "tem_file = nc.Dataset('../temporary_test/temperature_doubled_20.nc')\n",
    "bdy_file = nc.Dataset('../temporary_test/bdy_dta_doubled_20.nc')"
   ]
  },
  {
   "cell_type": "code",
   "execution_count": 3,
   "metadata": {
    "collapsed": false
   },
   "outputs": [
    {
     "data": {
      "text/plain": [
       "<class 'netCDF4._netCDF4.Dataset'>\n",
       "root group (NETCDF4 data model, file format HDF5):\n",
       "    title: Idealized Bathymetry Version 05\n",
       "    author: Idalia A. Machuca\n",
       "    institution: Dept of Earth, Ocean & Atmospheric Sciences, University of British Columbia\n",
       "    source: bitbucket.org/CanyonsUBC/mackenzie_canyon/bathymetry/notebooks/final_bathymetry.ipynb\n",
       "    description: 177x237. New values for w_head and L, two new topo stations along axis. More similar to realistic.\n",
       "    timeStamp: Wed Feb  8 20:35:06 2017\n",
       "    dimensions(sizes): x(237), y(177)\n",
       "    variables(dimensions): float64 \u001b[4mX\u001b[0m(y,x), float64 \u001b[4mY\u001b[0m(y,x), float64 \u001b[4mBathymetry\u001b[0m(y,x)\n",
       "    groups: "
      ]
     },
     "execution_count": 3,
     "metadata": {},
     "output_type": "execute_result"
    }
   ],
   "source": [
    "bathy_file"
   ]
  },
  {
   "cell_type": "code",
   "execution_count": 4,
   "metadata": {
    "collapsed": false
   },
   "outputs": [
    {
     "data": {
      "text/plain": [
       "<class 'netCDF4._netCDF4.Dataset'>\n",
       "root group (NETCDF3_CLASSIC data model, file format NETCDF3):\n",
       "    dimensions(sizes): x(237), y(177), time(1)\n",
       "    variables(dimensions): float32 \u001b[4mnav_lon\u001b[0m(y,x), float32 \u001b[4mnav_lat\u001b[0m(y,x), float32 \u001b[4mtime\u001b[0m(time), int32 \u001b[4mtime_steps\u001b[0m(time), float64 \u001b[4mglamt\u001b[0m(time,y,x), float64 \u001b[4mglamu\u001b[0m(time,y,x), float64 \u001b[4mglamv\u001b[0m(time,y,x), float64 \u001b[4mglamf\u001b[0m(time,y,x), float64 \u001b[4mgphit\u001b[0m(time,y,x), float64 \u001b[4mgphiu\u001b[0m(time,y,x), float64 \u001b[4mgphiv\u001b[0m(time,y,x), float64 \u001b[4mgphif\u001b[0m(time,y,x), float64 \u001b[4me1t\u001b[0m(time,y,x), float64 \u001b[4me1u\u001b[0m(time,y,x), float64 \u001b[4me1v\u001b[0m(time,y,x), float64 \u001b[4me1f\u001b[0m(time,y,x), float64 \u001b[4me2t\u001b[0m(time,y,x), float64 \u001b[4me2u\u001b[0m(time,y,x), float64 \u001b[4me2v\u001b[0m(time,y,x), float64 \u001b[4me2f\u001b[0m(time,y,x)\n",
       "    groups: "
      ]
     },
     "execution_count": 4,
     "metadata": {},
     "output_type": "execute_result"
    }
   ],
   "source": [
    "coords_file"
   ]
  },
  {
   "cell_type": "code",
   "execution_count": 5,
   "metadata": {
    "collapsed": false
   },
   "outputs": [
    {
     "data": {
      "text/plain": [
       "<class 'netCDF4._netCDF4.Dataset'>\n",
       "root group (NETCDF4 data model, file format HDF5):\n",
       "    dimensions(sizes): x(237), y(177), deptht(20), time_counter(1)\n",
       "    variables(dimensions): float32 \u001b[4mdeptht\u001b[0m(deptht), float32 \u001b[4mvosaline\u001b[0m(time_counter,deptht,y,x)\n",
       "    groups: "
      ]
     },
     "execution_count": 5,
     "metadata": {},
     "output_type": "execute_result"
    }
   ],
   "source": [
    "sal_file"
   ]
  },
  {
   "cell_type": "code",
   "execution_count": 6,
   "metadata": {
    "collapsed": false
   },
   "outputs": [
    {
     "data": {
      "text/plain": [
       "<class 'netCDF4._netCDF4.Dataset'>\n",
       "root group (NETCDF4 data model, file format HDF5):\n",
       "    dimensions(sizes): x(237), y(177), deptht(20), time_counter(1)\n",
       "    variables(dimensions): float32 \u001b[4mdeptht\u001b[0m(deptht), float32 \u001b[4mvotemper\u001b[0m(time_counter,deptht,y,x)\n",
       "    groups: "
      ]
     },
     "execution_count": 6,
     "metadata": {},
     "output_type": "execute_result"
    }
   ],
   "source": [
    "tem_file"
   ]
  },
  {
   "cell_type": "code",
   "execution_count": 7,
   "metadata": {
    "collapsed": false
   },
   "outputs": [
    {
     "data": {
      "text/plain": [
       "<class 'netCDF4._netCDF4.Dataset'>\n",
       "root group (NETCDF4 data model, file format HDF5):\n",
       "    dimensions(sizes): xb(237), yb(1), depthb(20), time_counter(480)\n",
       "    variables(dimensions): int32 \u001b[4mxb\u001b[0m(xb), int32 \u001b[4myb\u001b[0m(yb), int32 \u001b[4mdepthb\u001b[0m(depthb), int32 \u001b[4mtime_counter\u001b[0m(time_counter), float32 \u001b[4msossheig\u001b[0m(time_counter,yb,xb), float32 \u001b[4mvobtcrtx\u001b[0m(time_counter,yb,xb), float32 \u001b[4mvobtcrty\u001b[0m(time_counter,yb,xb), float32 \u001b[4mvozocrtx\u001b[0m(time_counter,depthb,yb,xb), float32 \u001b[4mvomecrty\u001b[0m(time_counter,depthb,yb,xb)\n",
       "    groups: "
      ]
     },
     "execution_count": 7,
     "metadata": {},
     "output_type": "execute_result"
    }
   ],
   "source": [
    "bdy_file"
   ]
  },
  {
   "cell_type": "markdown",
   "metadata": {
    "collapsed": true
   },
   "source": [
    "```python\n",
    "\n",
    "                     iom_nf90_open ~~~ open existing file: NEMO_files/bdy/bdy_dt\n",
    " a_doubled_20.nc in READ mode\n",
    "                    ---> NEMO_files/bdy/bdy_dta_doubled_20.nc OK\n",
    " Dim size for sossheig is          237\n",
    " Number of levels for sossheig is            1\n",
    "\n",
    " ===>>> : E R R O R\n",
    "         ===========\n",
    "\n",
    "           iom_get_123d, file: NEMO_files/bdy/bdy_dta_doubled_20.nc, var: sosshe\n",
    " ig\n",
    " To keep iom lisibility, when reading a 2D array,\n",
    " we do not accept data with 3 spatial dimensions\n",
    " Use ncwa -a to suppress the unnecessary dimensions\n",
    "                     iom_nf90_open ~~~ open existing file: NEMO_files/bdy/bdy_dt\n",
    " a_doubled_20.nc in READ mode\n",
    "                    ---> NEMO_files/bdy/bdy_dta_doubled_20.nc OK\n",
    " Dim size for vobtcrtx is          237\n",
    " Number of levels for vobtcrtx is            1\n",
    "\n",
    " ===>>> : E R R O R\n",
    "         ===========\n",
    "\n",
    "           iom_get_123d, file: NEMO_files/bdy/bdy_dta_doubled_20.nc, var: vobtcr\n",
    " tx\n",
    " To keep iom lisibility, when reading a 2D array,\n",
    " we do not accept data with 3 spatial dimensions\n",
    " Use ncwa -a to suppress the unnecessary dimensions\n",
    "                     iom_nf90_open ~~~ open existing file: NEMO_files/bdy/bdy_dt\n",
    " a_doubled_20.nc in READ mode\n",
    "                    ---> NEMO_files/bdy/bdy_dta_doubled_20.nc OK\n",
    " Dim size for vobtcrty is          237\n",
    " Number of levels for vobtcrty is            1\n",
    "\n",
    " ===>>> : E R R O R\n",
    "         ===========\n",
    "\n",
    "           iom_get_123d, file: NEMO_files/bdy/bdy_dta_doubled_20.nc, var: vobtcr\n",
    " ty\n",
    " To keep iom lisibility, when reading a 2D array,\n",
    " we do not accept data with 3 spatial dimensions\n",
    " Use ncwa -a to suppress the unnecessary dimensions\n",
    "                     iom_nf90_open ~~~ open existing file: NEMO_files/bdy/bdy_dt\n",
    " a_doubled_20.nc in READ mode\n",
    "                    ---> NEMO_files/bdy/bdy_dta_doubled_20.nc OK\n",
    " Dim size for vozocrtx is          237\n",
    " Number of levels for vozocrtx is           20\n",
    "\n",
    " ===>>> : E R R O R\n",
    "         ===========\n",
    "\n",
    "           iom_get_123d, file: NEMO_files/bdy/bdy_dta_doubled_20.nc, var: vozocr\n",
    " tx\n",
    " the file has more than 3 spatial dimensions this case is not coded...\n",
    "\n",
    " ===>>> : E R R O R\n",
    "         ===========\n",
    "\n",
    "           iom_get_123d, file: NEMO_files/bdy/bdy_dta_doubled_20.nc, var: vozocr\n",
    " tx\n",
    " To keep iom lisibility, when reading a 3D array,\n",
    " we do not accept data with 4 spatial dimensions\n",
    " Use ncwa -a to suppress the unnecessary dimensions\n",
    "                     iom_nf90_open ~~~ open existing file: NEMO_files/bdy/bdy_dt\n",
    " a_doubled_20.nc in READ mode\n",
    "                    ---> NEMO_files/bdy/bdy_dta_doubled_20.nc OK\n",
    " Dim size for vomecrty is          237\n",
    " Number of levels for vomecrty is           20\n",
    "\n",
    " ===>>> : E R R O R\n",
    "         ===========\n",
    "\n",
    "           iom_get_123d, file: NEMO_files/bdy/bdy_dta_doubled_20.nc, var: vomecr\n",
    " ty\n",
    " the file has more than 3 spatial dimensions this case is not coded...\n",
    "\n",
    " ===>>> : E R R O R\n",
    "         ===========\n",
    "\n",
    "           iom_get_123d, file: NEMO_files/bdy/bdy_dta_doubled_20.nc, var: vomecr\n",
    " ty\n",
    " To keep iom lisibility, when reading a 3D array,\n",
    " we do not accept data with 4 spatial dimensions\n",
    " Use ncwa -a to suppress the unnecessary dimensions\n",
    "fld_read: var sossheig kt =        1 (   0.0002 days), Y/M/D = 0001/01/01, record:   0001 (days    0.0000 <->    0.0417)\n",
    "fld_read: var vobtcrtx kt =        1 (   0.0002 days), Y/M/D = 0001/01/01, record:   0001 (days    0.0000 <->    0.0417)\n",
    "fld_read: var vobtcrty kt =        1 (   0.0002 days), Y/M/D = 0001/01/01, record:   0001 (days    0.0000 <->    0.0417)\n",
    "fld_read: var vozocrtx kt =        1 (   0.0002 days), Y/M/D = 0001/01/01, record:   0001 (days    0.0000 <->    0.0417)\n",
    "fld_read: var vomecrty kt =        1 (   0.0002 days), Y/M/D = 0001/01/01, record:   0001 (days    0.0000 <->    0.0417)\n",
    "```"
   ]
  },
  {
   "cell_type": "markdown",
   "metadata": {},
   "source": [
    "# When time_counter = None\n",
    "\n",
    "```python\n",
    "                     iom_nf90_open ~~~ open existing file: NEMO_files/bdy/bdy_dt\n",
    " a_doubled_20.nc in READ mode\n",
    "                    ---> NEMO_files/bdy/bdy_dta_doubled_20.nc OK\n",
    " Dim size for sossheig is          237\n",
    " Number of levels for sossheig is            1\n",
    "\n",
    " ===>>> : E R R O R\n",
    "         ===========\n",
    "\n",
    " iom_nf90_check : NetCDF: Index exceeds dimension bound\n",
    " iom_nf90_g123d , file: NEMO_files/bdy/bdy_dta_doubled_20.nc, var: sossheig\n",
    "                     iom_nf90_open ~~~ open existing file: NEMO_files/bdy/bdy_dt\n",
    " a_doubled_20.nc in READ mode\n",
    "                    ---> NEMO_files/bdy/bdy_dta_doubled_20.nc OK\n",
    " Dim size for vobtcrtx is          237\n",
    " Number of levels for vobtcrtx is            1\n",
    "\n",
    " ===>>> : E R R O R\n",
    "         ===========\n",
    "\n",
    " iom_nf90_check : NetCDF: Index exceeds dimension bound\n",
    " iom_nf90_g123d , file: NEMO_files/bdy/bdy_dta_doubled_20.nc, var: vobtcrtx\n",
    "                     iom_nf90_open ~~~ open existing file: NEMO_files/bdy/bdy_dt\n",
    " a_doubled_20.nc in READ mode\n",
    "                    ---> NEMO_files/bdy/bdy_dta_doubled_20.nc OK\n",
    " Dim size for vobtcrty is          237\n",
    " Number of levels for vobtcrty is            1\n",
    "\n",
    " ===>>> : E R R O R\n",
    "         ===========\n",
    "\n",
    " iom_nf90_check : NetCDF: Index exceeds dimension bound\n",
    " iom_nf90_g123d , file: NEMO_files/bdy/bdy_dta_doubled_20.nc, var: vobtcrty\n",
    "                     iom_nf90_open ~~~ open existing file: NEMO_files/bdy/bdy_dt\n",
    " a_doubled_20.nc in READ mode\n",
    "                    ---> NEMO_files/bdy/bdy_dta_doubled_20.nc OK\n",
    " Dim size for vozocrtx is          237\n",
    " Number of levels for vozocrtx is           20\n",
    "\n",
    " ===>>> : E R R O R\n",
    "         ===========\n",
    "\n",
    " iom_nf90_check : NetCDF: Index exceeds dimension bound\n",
    " iom_nf90_g123d , file: NEMO_files/bdy/bdy_dta_doubled_20.nc, var: vozocrtx\n",
    "                     iom_nf90_open ~~~ open existing file: NEMO_files/bdy/bdy_dt\n",
    " a_doubled_20.nc in READ mode\n",
    "                    ---> NEMO_files/bdy/bdy_dta_doubled_20.nc OK\n",
    " Dim size for vomecrty is          237\n",
    " Number of levels for vomecrty is           20\n",
    "\n",
    " ===>>> : E R R O R\n",
    "         ===========\n",
    "\n",
    " iom_nf90_check : NetCDF: Index exceeds dimension bound\n",
    " iom_nf90_g123d , file: NEMO_files/bdy/bdy_dta_doubled_20.nc, var: vomecrty\n",
    "fld_read: var sossheig kt =        1 (   0.0002 days), Y/M/D = 0001/01/01, record:   0001 (days    0.0000 <->    0.0417)\n",
    "fld_read: var vobtcrtx kt =        1 (   0.0002 days), Y/M/D = 0001/01/01, record:   0001 (days    0.0000 <->    0.0417)\n",
    "fld_read: var vobtcrty kt =        1 (   0.0002 days), Y/M/D = 0001/01/01, record:   0001 (days    0.0000 <->    0.0417)\n",
    "fld_read: var vozocrtx kt =        1 (   0.0002 days), Y/M/D = 0001/01/01, record:   0001 (days    0.0000 <->    0.0417)\n",
    "fld_read: var vomecrty kt =        1 (   0.0002 days), Y/M/D = 0001/01/01, record:   0001 (days    0.0000 <->    0.0417)\n",
    "```"
   ]
  },
  {
   "cell_type": "markdown",
   "metadata": {},
   "source": [
    "# namelist_cfg\n",
    "\n",
    "```python\n",
    "\n",
    "!-----------------------------------------------------------------------\n",
    "&namcfg     !   parameters of the configuration   \n",
    "!-----------------------------------------------------------------------\n",
    "   cp_cfg      =  \"doubled\"              !  name of the configuration\n",
    "   jp_cfg      =       1                 !  resolution of the configuration\n",
    "   jpidta      =     237                 !  1st lateral dimension ( >= jpi ) = 30*jp_cfg+2\n",
    "   jpjdta      =     177                 !  2nd    \"         \"    ( >= jpj ) = 20*jp_cfg+2 \n",
    "   jpkdta      =      20                 !  number of levels      ( >= jpk )\n",
    "   jpiglo      =     237                 !  1st dimension of global domain --> i  = jpidta\n",
    "   jpjglo      =     177                 !  2nd    -                  -    --> j  = jpjdta\n",
    "   jpizoom     =       1                 !  left bottom (i,j) indices of the zoom\n",
    "   jpjzoom     =       1                 !  in data domain indices\n",
    "   jperio      =       1                 !  lateral cond. type (between 0 and 6)\n",
    "                                         !  = 0 closed                 ;   = 1 cyclic East-West\n",
    "                                         !  = 2 equatorial symmetric   ;   = 3 North fold T-point pivot\n",
    "                                         !  = 4 cyclic East-West AND North fold T-point pivot\n",
    "                                         !  = 5 North fold F-point pivot\n",
    "                                         !  = 6 cyclic East-West AND North fold F-point pivot\n",
    "                                         \n",
    "                                         \n",
    "!-----------------------------------------------------------------------\n",
    "&nambdy_dta      !  open boundaries - external data           (\"key_bdy\")\n",
    "!-----------------------------------------------------------------------\n",
    "!              !  file name      ! frequency (hours) ! variable   ! time interp.   !  clim  ! 'yearly'/  ! weights  ! rotation ! land/sea mask !\n",
    "!              !                 !  (if <0  months)  !   name     !   (logical)    !  (T/F )! 'monthly'  ! filename ! pairing  ! filename      !\n",
    "   bn_ssh =     'bdy/bdy_dta_doubled_20.nc' ,  1     , 'sossheig' ,     .false.    , .true. ,  'yearly'  ,    ''    ,   ''     , ''\n",
    "   bn_u2d =     'bdy/bdy_dta_doubled_20.nc' ,  1     , 'vobtcrtx' ,     .false.    , .true. ,  'yearly'  ,    ''    ,   ''     , ''\n",
    "   bn_v2d =     'bdy/bdy_dta_doubled_20.nc' ,  1     , 'vobtcrty' ,     .false.    , .true. ,  'yearly'  ,    ''    ,   ''     , ''\n",
    "   bn_u3d  =    'bdy/bdy_dta_doubled_20.nc' ,  1     , 'vozocrtx' ,     .false.    , .true. ,  'yearly'  ,    ''    ,   ''     , ''\n",
    "   bn_v3d  =    'bdy/bdy_dta_doubled_20.nc' ,  1     , 'vomecrty' ,     .false.    , .true. ,  'yearly'  ,    ''    ,   ''     , ''\n",
    "   bn_tem  =    'bdy/bdy_dta_doubled_20.nc' ,  1     , 'votemper' ,     .false.    , .true. ,  'yearly'  ,    ''    ,   ''     , ''\n",
    "   bn_sal  =    'bdy/bdy_dta_doubled_20.nc' ,  1     , 'vosaline' ,     .false.    , .true. ,  'yearly'  ,    ''    ,   ''     , ''\n",
    "   cn_dir  =    'NEMO_files/'\n",
    "   ln_full_vel = .false.\t\t! =T => full velocities in 3D boundary conditions\n",
    "                                        ! =F => baroclinic velocities in 3D boundary conditions\n",
    "\n",
    "\n",
    "!-----------------------------------------------------------------------\n",
    "&nambdy_index ! open boundaries - definition (\"key_bdy\")\n",
    "!-----------------------------------------------------------------------\n",
    "    ctypebdy = 'N'\n",
    "    nbdyind   = -1    ! constant index\n",
    "    nbdybeg   = 1     ! starting index\n",
    "    nbdyend   = 237   ! ending index\n",
    "\n",
    "\n",
    "```"
   ]
  },
  {
   "cell_type": "code",
   "execution_count": null,
   "metadata": {
    "collapsed": true
   },
   "outputs": [],
   "source": []
  }
 ],
 "metadata": {
  "kernelspec": {
   "display_name": "Python 3",
   "language": "python",
   "name": "python3"
  },
  "language_info": {
   "codemirror_mode": {
    "name": "ipython",
    "version": 3
   },
   "file_extension": ".py",
   "mimetype": "text/x-python",
   "name": "python",
   "nbconvert_exporter": "python",
   "pygments_lexer": "ipython3",
   "version": "3.5.0rc4"
  }
 },
 "nbformat": 4,
 "nbformat_minor": 0
}
