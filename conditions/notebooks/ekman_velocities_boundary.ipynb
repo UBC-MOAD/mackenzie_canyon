{
 "cells": [
  {
   "cell_type": "code",
   "execution_count": 1,
   "metadata": {
    "collapsed": true
   },
   "outputs": [],
   "source": [
    "import numpy as np\n",
    "import numpy.ma as ma\n",
    "import netCDF4 as nc\n",
    "import scipy.io as sio\n",
    "import matplotlib\n",
    "import matplotlib.pyplot as plt\n",
    "import matplotlib.cm as cm\n",
    "import matplotlib.gridspec as gridspec\n",
    "import cmocean as cmo\n",
    "from matplotlib.dates import DateFormatter\n",
    "%matplotlib inline\n",
    "\n",
    "import sys\n",
    "sys.path.append('/ocean/imachuca/Canyons/mackenzie_canyon/tools/')\n",
    "import functions_plot\n",
    "import functions_profiles\n",
    "import functions_upwelling_depth\n",
    "import functions_velocity\n",
    "\n",
    "from salishsea_tools import nc_tools, viz_tools\n",
    "from salishsea_tools import gsw_calls\n",
    "\n",
    "import xarray as xr"
   ]
  },
  {
   "cell_type": "code",
   "execution_count": 2,
   "metadata": {
    "collapsed": false
   },
   "outputs": [],
   "source": [
    "path = '/ocean/imachuca/Canyons/results_mackenzie/idealized/upwelling_events/'; cfg = 'eventB_pulse10'\n",
    "gridT = xr.open_dataset(path+cfg+'/GYRE_1h_00010101_00010120_grid_T.nc')\n",
    "gridU = xr.open_dataset(path+cfg+'/GYRE_1h_00010101_00010120_grid_U.nc')\n",
    "gridV = xr.open_dataset(path+cfg+'/GYRE_1h_00010101_00010120_grid_V.nc')\n",
    "gridW = xr.open_dataset(path+cfg+'/GYRE_1h_00010101_00010120_grid_W.nc')\n",
    "sal = np.tile(gridT['vosaline'][:,:20,:,:],(1,1))\n",
    "tem = np.tile(gridT['votemper'][:,:20,:,:],(1,1))\n",
    "utau = np.tile(gridU['sozotaux'],(1,1))\n",
    "vtau = np.tile(gridV['sometauy'],(1,1))\n",
    "vE = gridW['veddyvisc'][:,:20,:,:]\n",
    "depthw = gridW['depthw'][:20]\n",
    "deptht = gridT['deptht'][:20]\n",
    "nav_lat = gridW['nav_lat']"
   ]
  },
  {
   "cell_type": "code",
   "execution_count": 3,
   "metadata": {
    "collapsed": true
   },
   "outputs": [],
   "source": [
    "bathy_file = nc.Dataset('/ocean/imachuca/Canyons/mackenzie_canyon/bathymetry/NEMO_files/idealized/ideal_bathy_05.nc')\n",
    "bathy = bathy_file['Bathymetry']\n",
    "coord_nav_lat = nc.Dataset('/ocean/imachuca/Canyons/mackenzie_canyon/coordinates/NEMO_files/coords_02.nc')['nav_lat'][:]"
   ]
  },
  {
   "cell_type": "markdown",
   "metadata": {},
   "source": [
    "# Eddy viscosity in domain at time and depth"
   ]
  },
  {
   "cell_type": "code",
   "execution_count": 4,
   "metadata": {
    "collapsed": false
   },
   "outputs": [
    {
     "data": {
      "image/png": "[encoded data removed]",
      "text/plain": [
       "<matplotlib.figure.Figure at 0x7fab6409fc18>"
      ]
     },
     "metadata": {},
     "output_type": "display_data"
    }
   ],
   "source": [
    "fig, ax = plt.subplots(1,6,figsize=(20,3), sharex=True)\n",
    "for t, d, i in zip([200,203,206,200,203,206], [0,0,0,1,1,1], np.arange(6)):\n",
    "    p = ax[i].pcolor(vE[t,d,:,:], vmin = 0, vmax=0.000105) #sensitivity studies for eddy viscosity (tke key)\n",
    "    #low in arctic but higher in canyons"
   ]
  },
  {
   "cell_type": "markdown",
   "metadata": {},
   "source": [
    "# Wind stress and eddy viscosity"
   ]
  },
  {
   "cell_type": "code",
   "execution_count": 5,
   "metadata": {
    "collapsed": false
   },
   "outputs": [
    {
     "data": {
      "text/plain": [
       "[<matplotlib.lines.Line2D at 0x7fab30be79b0>]"
      ]
     },
     "execution_count": 5,
     "metadata": {},
     "output_type": "execute_result"
    },
    {
     "data": {
      "image/png": "[encoded data removed]",
      "text/plain": [
       "<matplotlib.figure.Figure at 0x7fab30d66940>"
      ]
     },
     "metadata": {},
     "output_type": "display_data"
    }
   ],
   "source": [
    "fig, (ax1, ax2, ax3) = plt.subplots(3,1,figsize=(20,6), sharex=True)\n",
    "ax1.plot(utau[:,100,100], c='navy')\n",
    "ax2.plot(vtau[:,100,100], c='navy')\n",
    "ax3.plot(vE[:,0,100,100], c='y')\n",
    "ax3.plot(vE[:,2,100,100], c='r')\n",
    "ax3.plot(vE[:,4,100,100], c='b')\n",
    "ax3.plot(vE[:,7,100,100], c='g')"
   ]
  },
  {
   "cell_type": "markdown",
   "metadata": {},
   "source": [
    "# Coriolis parameter\n",
    "\n",
    "$$f(\\lambda)= 2 \\Omega \\sin(\\lambda)$$\n",
    "\n",
    "$$\\Omega = \\frac{2 \\pi}{24 hours}$$\n",
    "\n",
    "The average latitude at the northern boundary is 70.943. The average coriolis parameter is 0.0001374. fpar was calculated at all points along the boundary."
   ]
  },
  {
   "cell_type": "code",
   "execution_count": 6,
   "metadata": {
    "collapsed": true
   },
   "outputs": [],
   "source": [
    "indN = -2\n",
    "latN = nav_lat[indN,:]\n",
    "omega = (2 * np.pi) / (24 * 60 * 60)\n",
    "f = 2 * omega * np.sin(np.deg2rad(latN))"
   ]
  },
  {
   "cell_type": "code",
   "execution_count": 15,
   "metadata": {
    "collapsed": false
   },
   "outputs": [
    {
     "data": {
      "text/plain": [
       "((237,), xarray.core.dataarray.DataArray, <xarray.DataArray 'nav_lat' ()>\n",
       " array(0.0001374559069518)\n",
       " Coordinates:\n",
       "     y        int64 175)"
      ]
     },
     "execution_count": 15,
     "metadata": {},
     "output_type": "execute_result"
    }
   ],
   "source": [
    "f.shape, type(f), np.mean(f)"
   ]
  },
  {
   "cell_type": "markdown",
   "metadata": {},
   "source": [
    "# Ekman layer thickness\n",
    "\n",
    "$$\\delta = \\sqrt \\frac{2\\nu_E}{f}$$"
   ]
  },
  {
   "cell_type": "code",
   "execution_count": 8,
   "metadata": {
    "collapsed": false
   },
   "outputs": [],
   "source": [
    "indt = 0\n",
    "vEN = vE[indt, :, -2, :]\n",
    "fN = np.tile(f,(vEN.shape[0],1))\n",
    "delta = np.sqrt((2 * vEN) / fN)"
   ]
  },
  {
   "cell_type": "code",
   "execution_count": 9,
   "metadata": {
    "collapsed": false
   },
   "outputs": [
    {
     "data": {
      "text/plain": [
       "((20, 237), (20, 237), (20, 237))"
      ]
     },
     "execution_count": 9,
     "metadata": {},
     "output_type": "execute_result"
    }
   ],
   "source": [
    "vEN.shape, fN.shape, delta.shape"
   ]
  },
  {
   "cell_type": "markdown",
   "metadata": {},
   "source": [
    "# Ekman component\n",
    "\n",
    "$$u_E = \\frac{\\sqrt2}{\\rho f \\delta} e^{z/\\delta} \\Bigg[ \\tau_x  cos \\Bigg( \\frac{z}{\\delta} - \\frac{\\pi}{4} \\Bigg) - \\tau_y sin \\Bigg( \\frac{z}{\\delta} - \\frac{\\pi}{4} \\Bigg) \\Bigg]$$\n",
    "\n",
    "$$v_E = \\frac{\\sqrt2}{\\rho f \\delta} e^{z/\\delta} \\Bigg[ \\tau_x  sin \\Bigg( \\frac{z}{\\delta} - \\frac{\\pi}{4} \\Bigg) + \\tau_y cos \\Bigg( \\frac{z}{\\delta} - \\frac{\\pi}{4} \\Bigg) \\Bigg]$$"
   ]
  },
  {
   "cell_type": "code",
   "execution_count": 10,
   "metadata": {
    "collapsed": false
   },
   "outputs": [
    {
     "data": {
      "text/plain": [
       "((20, 237), (20, 237), numpy.ndarray, numpy.ndarray)"
      ]
     },
     "execution_count": 10,
     "metadata": {},
     "output_type": "execute_result"
    }
   ],
   "source": [
    "deps = np.transpose(np.tile(-1 * deptht, (237, 1)))\n",
    "lats = np.tile(latN, (deps.shape[0], 1))\n",
    "p = gsw_calls.generic_gsw_caller('gsw_p_from_z.m', [deps,lats], matlab_gsw_dir='/ocean/rich/home/matlab/gsw3')\n",
    "\n",
    "deps.shape, lats.shape, type(deps), type(lats)"
   ]
  },
  {
   "cell_type": "code",
   "execution_count": 11,
   "metadata": {
    "collapsed": false
   },
   "outputs": [
    {
     "data": {
      "text/plain": [
       "((20, 237), (20, 237), numpy.ndarray, numpy.ndarray)"
      ]
     },
     "execution_count": 11,
     "metadata": {},
     "output_type": "execute_result"
    }
   ],
   "source": [
    "SA = sal[indt, :, indN, :]\n",
    "CT = tem[indt, :, indN, :]\n",
    "rho = gsw_calls.generic_gsw_caller('gsw_rho_CT_exact.m', [SA,CT,p], matlab_gsw_dir='/ocean/rich/home/matlab/gsw3')\n",
    "\n",
    "SA.shape, rho.shape, type(SA), type(rho)"
   ]
  },
  {
   "cell_type": "code",
   "execution_count": 12,
   "metadata": {
    "collapsed": false
   },
   "outputs": [
    {
     "data": {
      "image/png": "[encoded data removed]",
      "text/plain": [
       "<matplotlib.figure.Figure at 0x7fab6409fa58>"
      ]
     },
     "metadata": {},
     "output_type": "display_data"
    }
   ],
   "source": [
    "fig, ax = plt.subplots(1,4,figsize=(20,5))\n",
    "for var, i in zip([SA, CT, p, rho], np.arange(4)):\n",
    "    ax[i].scatter(var[:,100], deptht)\n",
    "    ax[i].set_ylim([1300, 0])"
   ]
  },
  {
   "cell_type": "code",
   "execution_count": 13,
   "metadata": {
    "collapsed": false
   },
   "outputs": [],
   "source": [
    "coeff = (np.sqrt(2)/(rho * fN * delta)) * np.exp(deps / delta)\n",
    "\n",
    "brackets = (deps / delta) - (np.pi / 4)\n",
    "\n",
    "tao_x = np.tile(utau[indt, indN, :],(brackets.shape[0],1))\n",
    "tao_y = np.tile(vtau[indt, indN, :],(brackets.shape[0],1))\n",
    "\n",
    "uE = coeff * ((tao_x * np.cos(brackets)) - (tao_y * np.sin(brackets)))\n",
    "vE = coeff * ((tao_x * np.sin(brackets)) - (tao_y * np.cos(brackets)))"
   ]
  },
  {
   "cell_type": "code",
   "execution_count": 14,
   "metadata": {
    "collapsed": false
   },
   "outputs": [
    {
     "data": {
      "text/plain": [
       "((20, 237), (20, 237), (20, 237), (20, 237))"
      ]
     },
     "execution_count": 14,
     "metadata": {},
     "output_type": "execute_result"
    }
   ],
   "source": [
    "coeff.shape, brackets.shape, tao_x.shape, uE.shape"
   ]
  },
  {
   "cell_type": "markdown",
   "metadata": {},
   "source": [
    "# Pressure driven component\n",
    "\n",
    "References:\n",
    "* http://www.rsmas.miami.edu/users/lbeal/MPO603/Lecture%2012.xhtml\n",
    "* https://ocw.mit.edu/courses/mechanical-engineering/2-011-introduction-to-ocean-science-and-engineering-spring-2006/readings/geostrophic.pdf\n",
    "* https://marine.rutgers.edu/dmcs/ms501/2004/Notes/Wilkin20041101.htm\n",
    "* http://talleylab.ucsd.edu/ltalley/sio210/dynamics_rotation/lecture_dynamics_geostrophy.pdf\n",
    "* http://onlinelibrary.wiley.com/doi/10.1002/2015JC011579/full\n",
    "\n",
    "Ekman transport resulting from winds distorts the sea surface height. These distortions (hills and valleys) produce geostrophic currents which dominate the large scale circulation patterns in the upper ocean (Beaufort Gyre). Increased pressure caused by the piling up of surface water causes water to flow away.\n",
    "\n",
    "\n",
    "\n",
    "$$ v_g = \\frac{1}{\\rho f} \\frac{\\partial p}{\\partial x} $$\n",
    "\n",
    "$$ u_g = - \\frac{1}{\\rho f} \\frac{\\partial p}{\\partial y} $$\n",
    "\n",
    "And:\n",
    "$$ p = \\int_{-z}^{\\eta} g \\rho(z) dz = \\int_{0}^{\\eta} g \\rho(z) dz + \\int_{-z}^{0} g \\rho(z) dz$$\n",
    "\n",
    "So the geostrophic currents are:\n",
    "$$u_g = - \\frac{1}{\\rho f}\\frac{\\partial}{\\partial y} \\int_{-z}^{0} g \\rho(z) dz - \\frac{g}{f} \\frac{\\partial \\eta}{\\partial y}$$\n",
    "\n",
    "$$v_g = \\underbrace{\\frac{1}{\\rho f}\\frac{\\partial}{\\partial x} \\int_{-z}^{0} g \\rho(z) dz}_\\text{V baroclinic} + \\underbrace{\\frac{g}{f} \\frac{\\partial \\eta}{\\partial x}}_\\text{V barotropic}$$\n",
    "\n",
    "# Allen 1996\n",
    "\n",
    "$$\\eta = - \\frac{\\int_{t_0}^{t_f} \\tau dt}{f^2 a_s} \\bigg( \\frac{1}{\\alpha \\sinh (S/a_s) + \\cosh(S/a_s)} \\bigg) \\exp \\bigg[\\frac{-(y-S)}{a_d} \\bigg]$$\n",
    "\n",
    "* y=0 at the coast and increases offshore\n",
    "* S: distance to the shelf break\n",
    "* E: forcing width\n",
    "* $\\alpha$\n"
   ]
  },
  {
   "cell_type": "markdown",
   "metadata": {
    "collapsed": true
   },
   "source": [
    "# Barotropic rossby radii\n",
    "$a_s$: barotropic rossby radius over the shelf\n",
    "\n",
    "$h_S$: depth for y<S\n",
    "\n",
    "$$a_s = \\frac{\\sqrt{gh_s}}{f}$$\n",
    "\n",
    "$a_d$: barotropic rossby radius off the shelf\n",
    "\n",
    "$h_d$: depth for y>S\n",
    "\n",
    "$$a_d = \\frac{\\sqrt{gh_d}}{f}$$\n",
    "\n",
    "And:\n",
    "$$\\alpha^2 = \\frac{H_S}{H_D}$$"
   ]
  },
  {
   "cell_type": "code",
   "execution_count": 22,
   "metadata": {
    "collapsed": false
   },
   "outputs": [
    {
     "name": "stdout",
     "output_type": "stream",
     "text": [
      "203805 821566 0.248069469178\n"
     ]
    }
   ],
   "source": [
    "h_s = 80; h_d = 1300\n",
    "a_s = np.sqrt(9.81 * h_s) / np.mean(f)\n",
    "a_d = np.sqrt(9.81 * h_d) / np.mean(f)\n",
    "alpha = np.sqrt(h_s / h_d)\n",
    "\n",
    "print(int(a_s), int(a_d), alpha)"
   ]
  },
  {
   "cell_type": "markdown",
   "metadata": {},
   "source": [
    "# Stress integral\n",
    "\n",
    "$$\\int_{t_0}^{t_f} \\tau dt$$"
   ]
  },
  {
   "cell_type": "code",
   "execution_count": 34,
   "metadata": {
    "collapsed": false
   },
   "outputs": [],
   "source": [
    "tau_integral = np.trapz(utau[:,0,0])"
   ]
  },
  {
   "cell_type": "code",
   "execution_count": 35,
   "metadata": {
    "collapsed": false
   },
   "outputs": [
    {
     "data": {
      "text/plain": [
       "(-3.3878807682776824, 0.0, -0.14908270537853241)"
      ]
     },
     "execution_count": 35,
     "metadata": {},
     "output_type": "execute_result"
    }
   ],
   "source": [
    "tau_integral, utau.max(), utau.min()"
   ]
  },
  {
   "cell_type": "code",
   "execution_count": 38,
   "metadata": {
    "collapsed": false
   },
   "outputs": [
    {
     "data": {
      "text/plain": [
       "<xarray.DataArray 'nav_lat' ()>\n",
       "array(879.8025424215506)\n",
       "Coordinates:\n",
       "    y        int64 175"
      ]
     },
     "execution_count": 38,
     "metadata": {},
     "output_type": "execute_result"
    }
   ],
   "source": [
    "(-1 * tau_integral) / ((np.mean(f))**2 * a_s)"
   ]
  },
  {
   "cell_type": "code",
   "execution_count": null,
   "metadata": {
    "collapsed": true
   },
   "outputs": [],
   "source": []
  }
 ],
 "metadata": {
  "kernelspec": {
   "display_name": "Python 3",
   "language": "python",
   "name": "python3"
  },
  "language_info": {
   "codemirror_mode": {
    "name": "ipython",
    "version": 3
   },
   "file_extension": ".py",
   "mimetype": "text/x-python",
   "name": "python",
   "nbconvert_exporter": "python",
   "pygments_lexer": "ipython3",
   "version": "3.5.0rc4"
  }
 },
 "nbformat": 4,
 "nbformat_minor": 0
}
