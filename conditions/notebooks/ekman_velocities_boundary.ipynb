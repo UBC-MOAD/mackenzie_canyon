{
 "cells": [
  {
   "cell_type": "code",
   "execution_count": 1,
   "metadata": {
    "collapsed": true
   },
   "outputs": [],
   "source": [
    "import numpy as np\n",
    "import numpy.ma as ma\n",
    "from numpy import diff\n",
    "import netCDF4 as nc\n",
    "import scipy.io as sio\n",
    "import matplotlib\n",
    "import matplotlib.pyplot as plt\n",
    "import matplotlib.cm as cm\n",
    "import matplotlib.gridspec as gridspec\n",
    "import cmocean as cmo\n",
    "from matplotlib.dates import DateFormatter\n",
    "%matplotlib inline\n",
    "\n",
    "import sys\n",
    "sys.path.append('/ocean/imachuca/Canyons/mackenzie_canyon/tools/')\n",
    "import functions_idealized\n",
    "import functions_grid\n",
    "\n",
    "from salishsea_tools import nc_tools, viz_tools\n",
    "from salishsea_tools import gsw_calls\n",
    "\n",
    "import xarray as xr"
   ]
  },
  {
   "cell_type": "markdown",
   "metadata": {},
   "source": [
    "# Load files"
   ]
  },
  {
   "cell_type": "code",
   "execution_count": 2,
   "metadata": {
    "collapsed": true
   },
   "outputs": [],
   "source": [
    "bathy_file = nc.Dataset('/ocean/imachuca/Canyons/mackenzie_canyon/bathymetry/NEMO_files/idealized/ideal_bathy_05.nc')\n",
    "bathy = bathy_file['Bathymetry']\n",
    "coord_nav_lat = nc.Dataset('/ocean/imachuca/Canyons/mackenzie_canyon/coordinates/NEMO_files/coords_02.nc')['nav_lat'][:]"
   ]
  },
  {
   "cell_type": "code",
   "execution_count": 3,
   "metadata": {
    "collapsed": false
   },
   "outputs": [],
   "source": [
    "grid_g = nc.Dataset('/ocean/imachuca/Canyons/mackenzie_canyon/coordinates/raw_coordinates/grid_02.nc')\n",
    "lon_g_grid = grid_g['grid_lons'][:-3,:-3]\n",
    "lat_g_grid = grid_g['grid_lats'][:-3,:-3]"
   ]
  },
  {
   "cell_type": "code",
   "execution_count": 4,
   "metadata": {
    "collapsed": true
   },
   "outputs": [],
   "source": [
    "in_s = nc.Dataset('../NEMO_files/salinity/salinity_doubled_30.nc')\n",
    "in_t = nc.Dataset('../NEMO_files/temperature/temperature_doubled_30.nc')\n",
    "sal = in_s['vosaline'][0,:20,:,:]\n",
    "tem = in_t['votemper'][0,:20,:,:]"
   ]
  },
  {
   "cell_type": "code",
   "execution_count": 5,
   "metadata": {
    "collapsed": false
   },
   "outputs": [],
   "source": [
    "mesh_mask = nc.Dataset('/ocean/imachuca/Canyons/results_mackenzie/idealized/upwelling_events/eventB_pulse10/mesh_mask.nc')\n",
    "deptht = mesh_mask['gdept_1d'][:,:20]\n",
    "nav_lon = mesh_mask['nav_lon']\n",
    "nav_lat = mesh_mask['nav_lat']"
   ]
  },
  {
   "cell_type": "code",
   "execution_count": 6,
   "metadata": {
    "collapsed": false
   },
   "outputs": [
    {
     "name": "stderr",
     "output_type": "stream",
     "text": [
      "/home/imachuca/anaconda3/lib/python3.5/site-packages/xarray/conventions.py:377: RuntimeWarning: Unable to decode time axis into full numpy.datetime64 objects, continuing using dummy netCDF4.datetime objects instead, reason: dates out of range\n",
      "  result = decode_cf_datetime(example_value, units, calendar)\n"
     ]
    }
   ],
   "source": [
    "path = '/ocean/imachuca/Canyons/results_mackenzie/idealized/upwelling_events/'\n",
    "cfg = 'eventB_pulse10'\n",
    "\n",
    "gridU = xr.open_dataset(path+cfg+'/GYRE_1h_00010101_00010120_grid_U.nc')\n",
    "utau = np.tile(gridU['sozotaux'],(1,1))\n",
    "\n",
    "gridV = xr.open_dataset(path+cfg+'/GYRE_1h_00010101_00010120_grid_V.nc')\n",
    "vtau = np.tile(gridV['sometauy'],(1,1))"
   ]
  },
  {
   "cell_type": "code",
   "execution_count": null,
   "metadata": {
    "collapsed": false
   },
   "outputs": [
    {
     "name": "stderr",
     "output_type": "stream",
     "text": [
      "/home/imachuca/anaconda3/lib/python3.5/site-packages/xarray/conventions.py:377: RuntimeWarning: Unable to decode time axis into full numpy.datetime64 objects, continuing using dummy netCDF4.datetime objects instead, reason: dates out of range\n",
      "  result = decode_cf_datetime(example_value, units, calendar)\n"
     ]
    }
   ],
   "source": [
    "gridW = xr.open_dataset(path+cfg+'/GYRE_1h_00010101_00010120_grid_W.nc')\n",
    "vE = gridW['veddyvisc'][:,:20,:,:]"
   ]
  },
  {
   "cell_type": "markdown",
   "metadata": {},
   "source": [
    "# Wind stress and eddy viscosity"
   ]
  },
  {
   "cell_type": "code",
   "execution_count": null,
   "metadata": {
    "collapsed": false
   },
   "outputs": [],
   "source": [
    "fig, (ax1, ax2, ax3) = plt.subplots(3,1,figsize=(20,6), sharex=True)\n",
    "ax1.plot(utau[:,100,100], c='navy')\n",
    "ax2.plot(vtau[:,100,100], c='navy')\n",
    "ax3.plot(vE[:,0,100,100], c='y')\n",
    "ax3.plot(vE[:,2,100,100], c='r')\n",
    "ax3.plot(vE[:,4,100,100], c='b')\n",
    "ax3.plot(vE[:,7,100,100], c='g')"
   ]
  },
  {
   "cell_type": "code",
   "execution_count": null,
   "metadata": {
    "collapsed": false
   },
   "outputs": [],
   "source": [
    "utau[:80,100,100]"
   ]
  },
  {
   "cell_type": "markdown",
   "metadata": {},
   "source": [
    "# Coriolis parameter\n",
    "\n",
    "$$f(\\lambda)= 2 \\Omega \\sin(\\lambda)$$\n",
    "\n",
    "$$\\Omega = \\frac{2 \\pi}{24 hours}$$\n",
    "\n",
    "The average latitude at the northern boundary is 70.943. The average coriolis parameter is 0.0001374. fpar was calculated at all points along the boundary."
   ]
  },
  {
   "cell_type": "code",
   "execution_count": null,
   "metadata": {
    "collapsed": false
   },
   "outputs": [],
   "source": [
    "def calculate_coriolis(nav_lat, indN = -2):\n",
    "    latN = nav_lat[indN,:]\n",
    "    omega = (2 * np.pi) / (24 * 60 * 60)\n",
    "    f = 2 * omega * np.sin(np.deg2rad(latN))\n",
    "    return latN.values, f.values"
   ]
  },
  {
   "cell_type": "code",
   "execution_count": null,
   "metadata": {
    "collapsed": false
   },
   "outputs": [],
   "source": [
    "latN, f = calculate_coriolis(nav_lat)\n",
    "type(latN), type(f), latN.shape, f.shape"
   ]
  },
  {
   "cell_type": "markdown",
   "metadata": {},
   "source": [
    "# Ekman layer thickness\n",
    "\n",
    "$$\\delta = \\sqrt \\frac{2\\nu_E}{f}$$"
   ]
  },
  {
   "cell_type": "code",
   "execution_count": null,
   "metadata": {
    "collapsed": false
   },
   "outputs": [],
   "source": [
    "def calculate_ekman_thickness(indt, vE, f, indN = -2):\n",
    "    vEN = (vE[indt, :, indN, :]).values\n",
    "    fN = np.ones_like(vEN) * np.mean(f)\n",
    "    #fN = np.tile(np.mean(f),(vEN.shape[0],1))\n",
    "    delta = np.sqrt((2 * vEN) / fN)\n",
    "    return vEN, fN, delta"
   ]
  },
  {
   "cell_type": "code",
   "execution_count": null,
   "metadata": {
    "collapsed": false
   },
   "outputs": [],
   "source": [
    "indt = 6\n",
    "vEN, fN, delta = calculate_ekman_thickness(indt, vE, f)\n",
    "type(vEN), type(fN), type(delta), vEN.shape, fN.shape, delta.shape"
   ]
  },
  {
   "cell_type": "code",
   "execution_count": null,
   "metadata": {
    "collapsed": false
   },
   "outputs": [],
   "source": [
    "delta.mean(), delta.max(), delta.min()\n",
    "# (1.3256252569017106, 1.3934114123549239, 1.3213686642639697)"
   ]
  },
  {
   "cell_type": "markdown",
   "metadata": {},
   "source": [
    "# Density"
   ]
  },
  {
   "cell_type": "code",
   "execution_count": null,
   "metadata": {
    "collapsed": true
   },
   "outputs": [],
   "source": [
    "def calculate_pressure(deptht, latN):\n",
    "    deps = np.transpose(np.tile(-1 * deptht, (237, 1)))\n",
    "    lats = np.tile(latN, (deps.shape[0], 1))\n",
    "    p = gsw_calls.generic_gsw_caller('gsw_p_from_z.m', [deps,lats], matlab_gsw_dir='/ocean/rich/home/matlab/gsw3')\n",
    "    return deps, lats, p"
   ]
  },
  {
   "cell_type": "code",
   "execution_count": null,
   "metadata": {
    "collapsed": false
   },
   "outputs": [],
   "source": [
    "deps, lats, p = calculate_pressure(deptht, latN)\n",
    "type(deps), type(lats), type(p), deps.shape, lats.shape, p.shape "
   ]
  },
  {
   "cell_type": "code",
   "execution_count": null,
   "metadata": {
    "collapsed": true
   },
   "outputs": [],
   "source": [
    "def calculate_rho(sal, tem, p, indN = -2):\n",
    "    SA = sal[:, indN, :]\n",
    "    CT = tem[:, indN, :]\n",
    "    rho = gsw_calls.generic_gsw_caller('gsw_rho_CT_exact.m', [SA,CT,p], matlab_gsw_dir='/ocean/rich/home/matlab/gsw3')\n",
    "    return SA, CT, rho"
   ]
  },
  {
   "cell_type": "code",
   "execution_count": null,
   "metadata": {
    "collapsed": false
   },
   "outputs": [],
   "source": [
    "SA, CT, rho = calculate_rho(sal, tem, p)\n",
    "type(SA), type(rho), SA.shape, rho.shape"
   ]
  },
  {
   "cell_type": "code",
   "execution_count": null,
   "metadata": {
    "collapsed": false
   },
   "outputs": [],
   "source": [
    "fig, ax = plt.subplots(1,4,figsize=(20,5))\n",
    "for var, i, ttl in zip([SA, CT, p, rho], np.arange(4), ['sal', 'tem', 'press', 'dens']):\n",
    "    ax[i].scatter(var[:,100], deptht)\n",
    "    ax[i].set_ylim([1300, 0])\n",
    "    ax[i].set_title(ttl)"
   ]
  },
  {
   "cell_type": "markdown",
   "metadata": {},
   "source": [
    "# Ekman component\n",
    "\n",
    "$$u_E = \\frac{\\sqrt2}{\\rho f \\delta} e^{z/\\delta} \\Bigg[ \\tau_x  cos \\Bigg( \\frac{z}{\\delta} - \\frac{\\pi}{4} \\Bigg) - \\tau_y sin \\Bigg( \\frac{z}{\\delta} - \\frac{\\pi}{4} \\Bigg) \\Bigg]$$\n",
    "\n",
    "$$v_E = \\frac{\\sqrt2}{\\rho f \\delta} e^{z/\\delta} \\Bigg[ \\tau_x  sin \\Bigg( \\frac{z}{\\delta} - \\frac{\\pi}{4} \\Bigg) + \\tau_y cos \\Bigg( \\frac{z}{\\delta} - \\frac{\\pi}{4} \\Bigg) \\Bigg]$$"
   ]
  },
  {
   "cell_type": "code",
   "execution_count": null,
   "metadata": {
    "collapsed": false
   },
   "outputs": [],
   "source": [
    "def component_ekman(indt, rho, fN, delta, deps, utau, vtau, indN = -2):\n",
    "    coeff = (np.sqrt(2)/(rho * fN * delta)) * np.exp(deps / delta)\n",
    "    brackets = (deps / delta) - (np.pi / 4)\n",
    "\n",
    "    tao_x = utau[indt, indN, :]\n",
    "    tao_y = vtau[indt, indN, :]\n",
    "\n",
    "    u_E = coeff * ((tao_x * np.cos(brackets)) - (tao_y * np.sin(brackets)))\n",
    "    v_E = coeff * ((tao_x * np.sin(brackets)) + (tao_y * np.cos(brackets)))\n",
    "    return coeff, brackets, tao_x, tao_y, u_E, v_E"
   ]
  },
  {
   "cell_type": "code",
   "execution_count": null,
   "metadata": {
    "collapsed": false
   },
   "outputs": [],
   "source": [
    "coeff, brackets, tao_x, tao_y, u_E, v_E = component_ekman(indt, rho, fN, delta, deps, utau, vtau)\n",
    "\n",
    "print(type(coeff), type(brackets), type(tao_x), type(tao_y), type(u_E), type(v_E))\n",
    "print(coeff.shape, brackets.shape, tao_x.shape, tao_y.shape, u_E.shape, v_E.shape)"
   ]
  },
  {
   "cell_type": "code",
   "execution_count": null,
   "metadata": {
    "collapsed": false
   },
   "outputs": [],
   "source": [
    "fig, (ax1, ax2) = plt.subplots(1,2,figsize=(20,4))\n",
    "for ax, vel_E, ttl in zip([ax1, ax2], [u_E, v_E], ['u_E','v_E']):\n",
    "    p = ax.pcolor(vel_E, vmin=-0.006, vmax=0.006, cmap=cm.PuRd)\n",
    "    fig.colorbar(p, ax = ax)\n",
    "    ax.invert_yaxis()\n",
    "    ax.set_title(ttl)"
   ]
  },
  {
   "cell_type": "markdown",
   "metadata": {},
   "source": [
    "# Pressure driven component\n",
    "\n",
    "References:\n",
    "* http://www.rsmas.miami.edu/users/lbeal/MPO603/Lecture%2012.xhtml\n",
    "* https://ocw.mit.edu/courses/mechanical-engineering/2-011-introduction-to-ocean-science-and-engineering-spring-2006/readings/geostrophic.pdf\n",
    "* https://marine.rutgers.edu/dmcs/ms501/2004/Notes/Wilkin20041101.htm\n",
    "* http://talleylab.ucsd.edu/ltalley/sio210/dynamics_rotation/lecture_dynamics_geostrophy.pdf\n",
    "* http://onlinelibrary.wiley.com/doi/10.1002/2015JC011579/full\n",
    "\n",
    "Ekman transport resulting from winds distorts the sea surface height. These distortions (hills and valleys) produce geostrophic currents which dominate the large scale circulation patterns in the upper ocean (Beaufort Gyre). Increased pressure caused by the piling up of surface water causes water to flow away.\n",
    "\n",
    "\n",
    "\n",
    "$$ v_g = \\frac{1}{\\rho f} \\frac{\\partial p}{\\partial x} $$\n",
    "\n",
    "$$ u_g = - \\frac{1}{\\rho f} \\frac{\\partial p}{\\partial y} $$\n",
    "\n",
    "And:\n",
    "$$ p = \\int_{-z}^{\\eta} g \\rho(z) dz = \\int_{0}^{\\eta} g \\rho(z) dz + \\int_{-z}^{0} g \\rho(z) dz$$\n",
    "\n",
    "So the geostrophic currents are:\n",
    "$$u_g = - \\frac{1}{\\rho f}\\frac{\\partial}{\\partial y} \\int_{-z}^{0} g \\rho(z) dz - \\frac{g}{f} \\frac{\\partial \\eta}{\\partial y}$$\n",
    "\n",
    "$$v_g = \\underbrace{\\frac{1}{\\rho f}\\frac{\\partial}{\\partial x} \\int_{-z}^{0} g \\rho(z) dz}_\\text{V baroclinic} + \\underbrace{\\frac{g}{f} \\frac{\\partial \\eta}{\\partial x}}_\\text{V barotropic}$$\n"
   ]
  },
  {
   "cell_type": "markdown",
   "metadata": {
    "collapsed": true
   },
   "source": [
    "# Barotropic rossby radii\n",
    "$a_s$: barotropic rossby radius over the shelf\n",
    "\n",
    "$h_S$: depth for y<S\n",
    "\n",
    "$$a_s = \\frac{\\sqrt{gh_s}}{f}$$\n",
    "\n",
    "$a_d$: barotropic rossby radius off the shelf\n",
    "\n",
    "$h_d$: depth for y>S\n",
    "\n",
    "$$a_d = \\frac{\\sqrt{gh_d}}{f}$$\n",
    "\n",
    "And:\n",
    "$$\\alpha^2 = \\frac{H_S}{H_D}$$"
   ]
  },
  {
   "cell_type": "code",
   "execution_count": null,
   "metadata": {
    "collapsed": true
   },
   "outputs": [],
   "source": [
    "def calculate_depth_ratios(fN):\n",
    "    h_s = 80; h_d = 1300\n",
    "    a_s = np.sqrt(9.81 * h_s) / np.mean(fN)\n",
    "    a_d = np.sqrt(9.81 * h_d) / np.mean(fN)\n",
    "    alpha = np.sqrt(h_s / h_d)\n",
    "    return a_s, a_d, alpha"
   ]
  },
  {
   "cell_type": "code",
   "execution_count": null,
   "metadata": {
    "collapsed": false
   },
   "outputs": [],
   "source": [
    "a_s, a_d, alpha = calculate_depth_ratios(fN)\n",
    "type(a_s), type(alpha), a_s.shape, a_d.shape, alpha.shape"
   ]
  },
  {
   "cell_type": "markdown",
   "metadata": {},
   "source": [
    "# Allen 1996\n",
    "\n",
    "$$\\eta = - \\frac{\\int_{t_0}^{t_f} \\tau dt}{f^2 a_s} \\bigg( \\frac{1}{\\alpha \\sinh (S/a_s) + \\cosh(S/a_s)} \\bigg) \\exp \\bigg(\\frac{-(y-S)}{a_d} \\bigg)$$\n",
    "\n",
    "Rewritten as:\n",
    "$$\\eta = C \\exp \\bigg(\\frac{-y+S}{a_d} \\bigg)$$\n",
    "\n",
    "where: \n",
    "\n",
    "$$ C = - \\frac{\\int_{t_0}^{t_f} \\tau dt}{f a_s \\rho} \\bigg( \\frac{1}{\\alpha \\sinh (S/a_s) + \\cosh(S/a_s)} \\bigg)$$\n",
    "\n",
    "* y=0 at the coast and increases offshore\n",
    "* S: distance to the shelf break"
   ]
  },
  {
   "cell_type": "code",
   "execution_count": null,
   "metadata": {
    "collapsed": false
   },
   "outputs": [],
   "source": [
    "def calculate_coeff_eta(indt, fN, utau, a_s, dt_s = 3600):\n",
    "    tau_integral = np.trapz(utau[:indt+1,0,0], None, dt_s) \n",
    "    coeff_eta = (-1 * tau_integral) / (np.mean(fN) * a_s * 1025)\n",
    "    return coeff_eta"
   ]
  },
  {
   "cell_type": "code",
   "execution_count": null,
   "metadata": {
    "collapsed": false
   },
   "outputs": [],
   "source": [
    "coeff_eta = calculate_coeff_eta(indt, fN, utau, a_s)\n",
    "coeff_eta\n",
    "# 0.059449296347430965"
   ]
  },
  {
   "cell_type": "code",
   "execution_count": null,
   "metadata": {
    "collapsed": false
   },
   "outputs": [],
   "source": [
    "def calculate_trig_brackets(bathy_file, a_s, alpha):\n",
    "    x_wall = bathy_file['X'][0,:][-1]\n",
    "    y_wall = bathy_file['Y'][:,0][-1]\n",
    "\n",
    "    x_wall, y_wall, w_break, w_mid, w_head, cR, L, p,\\\n",
    "    y_coast, y_head, y_break, y_pointA, y_pointB, y_paral, y_base, fluid_depth,\\\n",
    "    z_bottom, z_paral, z_pointA, z_pointB, z_break, z_coast = functions_idealized.Mackenzie_measurements(x_wall, y_wall)\n",
    "    \n",
    "    S_y = y_wall - y_break\n",
    "    arg = S_y / a_s\n",
    "    brackets_eta = 1 / ((alpha * np.sinh(arg)) + np.cosh(arg))\n",
    "\n",
    "    return x_wall, y_wall, S_y, brackets_eta "
   ]
  },
  {
   "cell_type": "code",
   "execution_count": null,
   "metadata": {
    "collapsed": false
   },
   "outputs": [],
   "source": [
    "x_wall, y_wall, S_y, brackets_eta  = calculate_trig_brackets(bathy_file, a_s, alpha)\n",
    "x_wall, y_wall, S_y, brackets_eta.shape\n",
    "# (546064.86328401405, 405234.2962823509, 146259.7140481, ())"
   ]
  },
  {
   "cell_type": "code",
   "execution_count": null,
   "metadata": {
    "collapsed": true
   },
   "outputs": [],
   "source": [
    "def calculate_eta_alone(coeff_eta, brackets_eta, y_wall, S_y, a_d):\n",
    "    C = coeff_eta * brackets_eta\n",
    "    exp_eta = np.exp(((-1 * y_wall) + S_y) / a_d)\n",
    "    eta = C * exp_eta\n",
    "    return eta"
   ]
  },
  {
   "cell_type": "code",
   "execution_count": null,
   "metadata": {
    "collapsed": false
   },
   "outputs": [],
   "source": [
    "eta = calculate_eta_alone(coeff_eta, brackets_eta, y_wall, S_y, a_d)\n",
    "eta\n",
    "# 0.029659668093547694"
   ]
  },
  {
   "cell_type": "markdown",
   "metadata": {},
   "source": [
    "# Geostrophic currents\n",
    "\n",
    "$$\\frac{\\partial \\eta}{\\partial y} = - \\frac{C}{a_d} \\exp \\bigg(\\frac{-y+S}{a_d} \\bigg)$$\n",
    "\n",
    "for:\n",
    "$$u_g = - \\frac{g}{f} \\frac{\\partial \\eta}{\\partial y}$$\n",
    "\n",
    "and:\n",
    "$$v_g = +\\frac{g}{f} \\frac{\\partial \\eta}{\\partial x} = 0$$"
   ]
  },
  {
   "cell_type": "code",
   "execution_count": null,
   "metadata": {
    "collapsed": true
   },
   "outputs": [],
   "source": [
    "def component_geostrophic(coeff_eta, brackets_eta, y_wall, S_y, a_d, fN, u_E):\n",
    "    C = coeff_eta * brackets_eta\n",
    "    exp_eta = np.exp(((-1 * y_wall) + S_y) / a_d)\n",
    "    d_eta_dy = (-1 * C / a_d) * exp_eta\n",
    "    \n",
    "    u_g = (-1 * 9.81 / np.mean(fN)) * d_eta_dy\n",
    "    u_g_bc = np.ones_like(u_E) * u_g\n",
    "    v_g_bc = np.zeros_like(u_E)\n",
    "    return C, exp_eta, d_eta_dy, u_g_bc, v_g_bc"
   ]
  },
  {
   "cell_type": "code",
   "execution_count": null,
   "metadata": {
    "collapsed": false
   },
   "outputs": [],
   "source": [
    "C, exp_eta, d_eta_dy, u_g_bc, v_g_bc = component_geostrophic(coeff_eta, brackets_eta, y_wall, S_y, a_d, fN, u_E)\n",
    "C.shape, exp_eta.shape, d_eta_dy.shape, u_g_bc.shape, v_g_bc.shape"
   ]
  },
  {
   "cell_type": "code",
   "execution_count": null,
   "metadata": {
    "collapsed": false
   },
   "outputs": [],
   "source": [
    "fig, (ax1, ax2) = plt.subplots(1,2,figsize=(20,4))\n",
    "for ax, vel_g, ttl in zip([ax1, ax2], [u_g_bc, v_g_bc], ['u_g_bc','v_g_bc']):\n",
    "    p = ax.pcolor(vel_g, cmap=cm.GnBu)\n",
    "    fig.colorbar(p, ax = ax)\n",
    "    ax.invert_yaxis()\n",
    "    ax.set_title(ttl)"
   ]
  },
  {
   "cell_type": "markdown",
   "metadata": {},
   "source": [
    "# Total velocities\n",
    "\n",
    "$$u = u_g + u_E$$\n",
    "$$v = v_g + v_E$$"
   ]
  },
  {
   "cell_type": "code",
   "execution_count": null,
   "metadata": {
    "collapsed": true
   },
   "outputs": [],
   "source": [
    "def total_velocity(u_g_bc, v_g_bc, u_E, v_E):\n",
    "    u_tot = u_g_bc + u_E\n",
    "    v_tot = v_g_bc + v_E\n",
    "    return u_tot, v_tot"
   ]
  },
  {
   "cell_type": "code",
   "execution_count": null,
   "metadata": {
    "collapsed": true
   },
   "outputs": [],
   "source": [
    "u_tot, v_tot = total_velocity(u_g_bc, v_g_bc, u_E, v_E)"
   ]
  },
  {
   "cell_type": "code",
   "execution_count": null,
   "metadata": {
    "collapsed": false
   },
   "outputs": [],
   "source": [
    "vel_tots = [u_tot, v_tot]\n",
    "ttls = ['u_tot','v_tot']\n",
    "cmaps = [cmo.cm.dense, cmo.cm.matter_r]\n",
    "vmins = [0, -0.03]\n",
    "vmaxs = [0.01, 0]\n",
    "fig, (ax1, ax2) = plt.subplots(1,2,figsize=(20,4))\n",
    "for ax, vel_tot, ttl, cmap, vmin, vmax in zip([ax1, ax2], vel_tots, ttls, cmaps, vmins, vmaxs):\n",
    "    p = ax.pcolor(vel_tot, cmap=cmap, vmin = vmin, vmax = vmax)\n",
    "    fig.colorbar(p, ax = ax)\n",
    "    ax.invert_yaxis()\n",
    "    ax.set_title(ttl)"
   ]
  },
  {
   "cell_type": "markdown",
   "metadata": {
    "collapsed": true
   },
   "source": [
    "# Run all times"
   ]
  },
  {
   "cell_type": "code",
   "execution_count": null,
   "metadata": {
    "collapsed": false
   },
   "outputs": [],
   "source": [
    "indts = np.arange(480)\n",
    "indts.shape"
   ]
  },
  {
   "cell_type": "code",
   "execution_count": null,
   "metadata": {
    "collapsed": false
   },
   "outputs": [],
   "source": [
    "u_tot_all = np.zeros([indts.shape[0], vE.shape[1], vE.shape[3]])\n",
    "v_tot_all = np.zeros_like(u_tot_all)\n",
    "eta_all = np.zeros([indts.shape[0], vE.shape[3]])\n",
    "\n",
    "v_tot.shape, v_tot_all.shape"
   ]
  },
  {
   "cell_type": "code",
   "execution_count": null,
   "metadata": {
    "collapsed": false
   },
   "outputs": [],
   "source": [
    "latN, f = calculate_coriolis(nav_lat) #1\n",
    "deps, lats, p = calculate_pressure(deptht, latN) #3\n",
    "SA, CT, rho = calculate_rho(sal, tem, p) #4\n",
    "\n",
    "for indt in (indts):\n",
    "    vEN, fN, delta = calculate_ekman_thickness(indt, vE, f) #2\n",
    "    coeff, brackets, tao_x, tao_y, u_E, v_E = component_ekman(indt, rho, fN, delta, deps, utau, vtau) #5\n",
    "    a_s, a_d, alpha = calculate_depth_ratios(fN) #6\n",
    "    coeff_eta = calculate_coeff_eta(indt, fN, utau, a_s) #7\n",
    "    x_wall, y_wall, S_y, brackets_eta  = calculate_trig_brackets(bathy_file, a_s, alpha) #8\n",
    "    eta = calculate_eta_alone(coeff_eta, brackets_eta, y_wall, S_y, a_d) #9\n",
    "    C, exp_eta, d_eta_dy, u_g_bc, v_g_bc = component_geostrophic(coeff_eta, brackets_eta, y_wall, S_y, a_d, fN, u_E)#10\n",
    "    u_tot, v_tot = total_velocity(u_g_bc, v_g_bc, u_E, v_E) #11\n",
    "    \n",
    "    u_tot_all[indt, :, :] = u_tot\n",
    "    v_tot_all[indt, :, :] = v_tot\n",
    "    eta_all[indt, :] = eta"
   ]
  },
  {
   "cell_type": "code",
   "execution_count": null,
   "metadata": {
    "collapsed": false
   },
   "outputs": [],
   "source": [
    "eta, eta_all.shape\n",
    "# (0.21190774201604567, (480, 237))"
   ]
  },
  {
   "cell_type": "code",
   "execution_count": null,
   "metadata": {
    "collapsed": false
   },
   "outputs": [],
   "source": [
    "def plot_fig(ax, time_inds, vel_tot_all, cmap, vmin, vmax):\n",
    "    for t, n in zip(time_inds, np.arange(len(time_inds))):\n",
    "        p = ax[n].pcolor(vel_tot_all[t,:,:], cmap=cmap, vmin = vmin, vmax = vmax)\n",
    "        ax[n].set_title(str(t) + ' (tau ' + str(np.round(utau[t,0,0],2))+ ')',fontsize=15)\n",
    "        ax[n].set_ylim([vel_tot_all.shape[1],0])\n",
    "        ax[n].set_xlim([0,vel_tot_all.shape[2]])\n",
    "        if n == 9:\n",
    "            fig.colorbar(p, ax=ax[9])\n",
    "    return ax"
   ]
  },
  {
   "cell_type": "markdown",
   "metadata": {},
   "source": [
    "# Total U velocity"
   ]
  },
  {
   "cell_type": "code",
   "execution_count": null,
   "metadata": {
    "collapsed": false
   },
   "outputs": [],
   "source": [
    "u_tot_all.min(), u_tot_all.max()\n",
    "# (-2.148936695325985e-07, 0.01944104026670045)"
   ]
  },
  {
   "cell_type": "code",
   "execution_count": null,
   "metadata": {
    "collapsed": false
   },
   "outputs": [],
   "source": [
    "vmin, vmax = 0, 0.02\n",
    "fig, (axA, axB, axC, axD, axE) = plt.subplots(5,10, figsize=(30,20), sharex=True, sharey=True)\n",
    "ax = plot_fig(axA, np.arange(10), u_tot_all, cmo.cm.dense, vmin, vmax)\n",
    "ax = plot_fig(axB, np.arange(10,20), u_tot_all, cmo.cm.dense, vmin, vmax)\n",
    "ax = plot_fig(axC, np.arange(20,30), u_tot_all, cmo.cm.dense, vmin, vmax)\n",
    "ax = plot_fig(axD, np.arange(65,75), u_tot_all, cmo.cm.dense, vmin, vmax)\n",
    "ax = plot_fig(axE, np.arange(470,480), u_tot_all, cmo.cm.dense, vmin, vmax)\n",
    "fig.suptitle('U velocity (ekman + geostrophic)', fontsize=22)"
   ]
  },
  {
   "cell_type": "markdown",
   "metadata": {},
   "source": [
    "# Total V velocity"
   ]
  },
  {
   "cell_type": "code",
   "execution_count": null,
   "metadata": {
    "collapsed": false
   },
   "outputs": [],
   "source": [
    "v_tot_all.min(), v_tot_all.max()\n",
    "# (-0.026073980845325896, 4.3713412063658243e-09)"
   ]
  },
  {
   "cell_type": "code",
   "execution_count": null,
   "metadata": {
    "collapsed": false
   },
   "outputs": [],
   "source": [
    "vmin, vmax = -0.03, 0\n",
    "fig, (axA, axB, axC, axD, axE) = plt.subplots(5,10, figsize=(30,20), sharex=True, sharey=True)\n",
    "ax = plot_fig(axA, np.arange(10), v_tot_all, cmo.cm.matter_r, vmin, vmax)\n",
    "ax = plot_fig(axB, np.arange(10,20), v_tot_all, cmo.cm.matter_r, vmin, vmax)\n",
    "ax = plot_fig(axC, np.arange(20,30), v_tot_all, cmo.cm.matter_r, vmin, vmax)\n",
    "ax = plot_fig(axD, np.arange(65,75), v_tot_all, cmo.cm.matter_r, vmin, vmax)\n",
    "ax = plot_fig(axE, np.arange(470,480), v_tot_all, cmo.cm.matter_r, vmin, vmax)\n",
    "fig.suptitle('V velocity (ekman + geostrophic)', fontsize=22)"
   ]
  },
  {
   "cell_type": "markdown",
   "metadata": {
    "collapsed": true
   },
   "source": [
    "# Splitting barotropic and baroclinic\n",
    "Manual p. 171: The boundary condition should be set for the barotropic solution (u2d: sea surface height and barotropic velocities) and for the baroclinic velocities (u3d). The nambdy_dta namelist must be set for external boundary data (one namelist for each boundary). The data is read using the fldread module."
   ]
  },
  {
   "cell_type": "code",
   "execution_count": null,
   "metadata": {
    "collapsed": false
   },
   "outputs": [],
   "source": [
    "u2d = np.mean(u_tot_all, axis=1)\n",
    "v2d = np.mean(v_tot_all, axis=1)\n",
    "\n",
    "u3d = np.zeros_like(u_tot_all)\n",
    "v3d = np.zeros_like(v_tot_all)\n",
    "\n",
    "for i in np.arange(u3d.shape[1]):\n",
    "    u3d[:,i,:] = u_tot_all[:,i,:] - u2d\n",
    "    v3d[:,i,:] = v_tot_all[:,i,:] - v2d\n",
    "\n",
    "u2d.shape, u3d.shape"
   ]
  },
  {
   "cell_type": "code",
   "execution_count": null,
   "metadata": {
    "collapsed": true
   },
   "outputs": [],
   "source": [
    "#fill_zeros = np.zeros([u3d.shape[0], 10, u3d.shape[2]])\n",
    "\n",
    "#u3d = np.concatenate((u3d, fill_zeros), axis=1)\n",
    "#v3d = np.concatenate((v3d, fill_zeros), axis=1)\n",
    "#eta_all = np.concatenate((eta_all, fill_zeros), axis=1)"
   ]
  },
  {
   "cell_type": "code",
   "execution_count": null,
   "metadata": {
    "collapsed": false
   },
   "outputs": [],
   "source": [
    "fig, (axA, axB, axC, axD) = plt.subplots(4,5, figsize=(24, 12), sharex=True)\n",
    "time_inds = [6, 8, 10, 72]\n",
    "var_all = [u2d, u3d, v2d, v3d, eta_all]\n",
    "cmaps = [cmo.cm.dense, cmo.cm.dense, cmo.cm.matter_r, cmo.cm.matter_r, cmo.cm.algae]\n",
    "vmins = [0   , -0.0003, -0.0015, -0.03 , -0.2]\n",
    "vmaxs = [0.02, 0.005  , 0.0005 , 0.0015, 0.21]\n",
    "ttls = ['u2d', 'u3d', 'v2d', 'v3d', 'eta']\n",
    "\n",
    "for t, ax in zip(time_inds, [axA, axB, axC, axD]):\n",
    "    for n, var, cmap, vmin, vmax, ttl in zip(np.arange(5), var_all, cmaps, vmins, vmaxs, ttls):\n",
    "        ax[n].set_title(ttl)\n",
    "        if ttl == 'u3d' or ttl == 'v3d':\n",
    "            p = ax[n].pcolor(var[t,:,:], cmap=cmap, vmin = vmin, vmax = vmax)\n",
    "            fig.colorbar(p, ax = ax[n])\n",
    "            ax[n].set_ylim([var.shape[1],0])\n",
    "        else:\n",
    "            ax[n].plot(var[t,:])\n",
    "            ax[n].set_ylim([vmin,vmax])\n",
    "            ax[n].tick_params(axis='y', which='major', pad=-40)"
   ]
  },
  {
   "cell_type": "markdown",
   "metadata": {
    "collapsed": true
   },
   "source": [
    "# Making a file\n",
    "\n",
    "bn_ssh = sossheig, bn_u2d = vobtcrtx, bn_v2d = vobtcrty, bn_u3d = vozocrtx, bn_v3d = vomecrty"
   ]
  },
  {
   "cell_type": "code",
   "execution_count": null,
   "metadata": {
    "collapsed": false
   },
   "outputs": [],
   "source": [
    "eta_all.shape, u2d.shape, v2d.shape, u3d.shape, v3d.shape"
   ]
  },
  {
   "cell_type": "code",
   "execution_count": null,
   "metadata": {
    "collapsed": false
   },
   "outputs": [],
   "source": [
    "hours_month = 24*31\n",
    "fill_month = hours_month - u3d.shape[0]\n",
    "fillt = np.zeros([fill_month, u2d.shape[1]])\n",
    "fillc = np.zeros([fill_month, u3d.shape[1], u3d.shape[2]])\n",
    "\n",
    "eta_file = np.append(eta_all, fillt, axis=0)\n",
    "u2d_file = np.append(u2d, fillt, axis=0)\n",
    "v2d_file = np.append(v2d, fillt, axis=0)\n",
    "u3d_file = np.append(u3d, fillc, axis=0)\n",
    "v3d_file = np.append(v3d, fillc, axis=0)\n",
    "\n",
    "eta_file.shape, u2d_file.shape, v2d_file.shape, u3d_file.shape, v3d_file.shape"
   ]
  },
  {
   "cell_type": "raw",
   "metadata": {
    "collapsed": false
   },
   "source": [
    "bdy_file = nc.Dataset('../NEMO_files/bdy/bdy2dcounter_m01.nc', 'w', zlib=True)\n",
    "bdy_file.createDimension('xb', u3d_file.shape[2])\n",
    "bdy_file.createDimension('yb', 1)\n",
    "bdy_file.createDimension('time_counter', None)\n",
    "#\n",
    "xb = bdy_file.createVariable('xb', 'int32', ('xb',), zlib=True)\n",
    "xb.units = 'indices'\n",
    "xb.longname = 'x indices along northern boundary'\n",
    "#\n",
    "yb = bdy_file.createVariable('yb', 'int32', ('yb',), zlib=True)\n",
    "yb.units = 'non dim'\n",
    "yb.longname = 'y index width of northern boundary'\n",
    "#\n",
    "time_counter = bdy_file.createVariable('time_counter', 'int32', ('time_counter',), zlib=True)\n",
    "time_counter.units = 's'\n",
    "time_counter.longname = 'time'\n",
    "#\n",
    "sossheig = bdy_file.createVariable('sossheig', 'float32', ('time_counter', 'yb', 'xb'), zlib=True)\n",
    "vobtcrtx = bdy_file.createVariable('vobtcrtx', 'float32', ('time_counter', 'yb', 'xb'), zlib=True)\n",
    "vobtcrty = bdy_file.createVariable('vobtcrty', 'float32', ('time_counter', 'yb', 'xb'), zlib=True)\n",
    "#\n",
    "sossheig[:] = eta_file[:]\n",
    "vobtcrtx[:] = u2d_file[:]\n",
    "vobtcrty[:] = v2d_file[:]\n",
    "#\n",
    "bdy_file.close()"
   ]
  },
  {
   "cell_type": "raw",
   "metadata": {
    "collapsed": false
   },
   "source": [
    "!ncdump ../NEMO_files/bdy/bdy2d2_m01.nc"
   ]
  },
  {
   "cell_type": "raw",
   "metadata": {
    "collapsed": true
   },
   "source": [
    "bdy_file = nc.Dataset('../NEMO_files/bdy/bdy3dcounter_m01.nc', 'w', zlib=True)\n",
    "bdy_file.createDimension('xb', u3d_file.shape[2])\n",
    "bdy_file.createDimension('yb', 1)\n",
    "bdy_file.createDimension('depthb', u3d_file.shape[1])\n",
    "bdy_file.createDimension('time_counter', None)\n",
    "#\n",
    "xb = bdy_file.createVariable('xb', 'int32', ('xb',), zlib=True)\n",
    "xb.units = 'indices'\n",
    "xb.longname = 'x indices along northern boundary'\n",
    "#\n",
    "yb = bdy_file.createVariable('yb', 'int32', ('yb',), zlib=True)\n",
    "yb.units = 'non dim'\n",
    "yb.longname = 'y index width of northern boundary'\n",
    "#\n",
    "depthb = bdy_file.createVariable('depthb', 'int32', ('depthb',), zlib=True)\n",
    "depthb.units = 'm'\n",
    "depthb.longname = 'depth levels'\n",
    "#\n",
    "time_counter = bdy_file.createVariable('time_counter', 'int32', ('time_counter',), zlib=True)\n",
    "time_counter.units = 's'\n",
    "time_counter.longname = 'time'\n",
    "#\n",
    "vozocrtx = bdy_file.createVariable('vozocrtx', 'float32', ('time_counter', 'depthb', 'yb', 'xb'), zlib=True)\n",
    "vomecrty = bdy_file.createVariable('vomecrty', 'float32', ('time_counter', 'depthb', 'yb', 'xb'), zlib=True)\n",
    "#\n",
    "vozocrtx[:] = u3d_file[:]\n",
    "vomecrty[:] = v3d_file[:]\n",
    "#\n",
    "bdy_file.close()"
   ]
  }
 ],
 "metadata": {
  "kernelspec": {
   "display_name": "Python 3",
   "language": "python",
   "name": "python3"
  },
  "language_info": {
   "codemirror_mode": {
    "name": "ipython",
    "version": 3
   },
   "file_extension": ".py",
   "mimetype": "text/x-python",
   "name": "python",
   "nbconvert_exporter": "python",
   "pygments_lexer": "ipython3",
   "version": "3.5.0rc4"
  }
 },
 "nbformat": 4,
 "nbformat_minor": 0
}
