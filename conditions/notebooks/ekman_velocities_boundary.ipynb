{
 "cells": [
  {
   "cell_type": "code",
   "execution_count": 2,
   "metadata": {
    "collapsed": true
   },
   "outputs": [],
   "source": [
    "import numpy as np\n",
    "import numpy.ma as ma\n",
    "import netCDF4 as nc\n",
    "import scipy.io as sio\n",
    "import matplotlib\n",
    "import matplotlib.pyplot as plt\n",
    "import matplotlib.cm as cm\n",
    "import matplotlib.gridspec as gridspec\n",
    "import cmocean as cmo\n",
    "from matplotlib.dates import DateFormatter\n",
    "%matplotlib inline\n",
    "\n",
    "import sys\n",
    "sys.path.append('/ocean/imachuca/Canyons/mackenzie_canyon/tools/')\n",
    "import functions_plot\n",
    "import functions_profiles\n",
    "import functions_upwelling_depth\n",
    "import functions_velocity\n",
    "\n",
    "from salishsea_tools import nc_tools, viz_tools\n",
    "from salishsea_tools import gsw_calls\n",
    "\n",
    "import xarray as xr"
   ]
  },
  {
   "cell_type": "code",
   "execution_count": 6,
   "metadata": {
    "collapsed": true
   },
   "outputs": [],
   "source": [
    "path = '/ocean/imachuca/Canyons/results_mackenzie/idealized/upwelling_events/'; cfg = 'eventB_pulse10'\n",
    "gridU = xr.open_dataset(path+cfg+'/GYRE_1h_00010101_00010120_grid_U.nc')\n",
    "gridV = xr.open_dataset(path+cfg+'/GYRE_1h_00010101_00010120_grid_V.nc')\n",
    "gridW = xr.open_dataset(path+cfg+'/GYRE_1h_00010101_00010120_grid_W.nc')\n",
    "U = gridU['vozocrtx']\n",
    "V = gridV['vomecrty']\n",
    "utau = gridU['sozotaux']\n",
    "vtau = gridV['sometauy']\n",
    "vE = gridW['veddyvisc']\n",
    "deps = gridW['depthw']\n",
    "lats = gridW['nav_lat']"
   ]
  },
  {
   "cell_type": "code",
   "execution_count": 7,
   "metadata": {
    "collapsed": true
   },
   "outputs": [],
   "source": [
    "bathy_file = nc.Dataset('/ocean/imachuca/Canyons/mackenzie_canyon/bathymetry/NEMO_files/idealized/ideal_bathy_05.nc')\n",
    "bathy = bathy_file['Bathymetry']\n",
    "coord_lats = nc.Dataset('/ocean/imachuca/Canyons/mackenzie_canyon/coordinates/NEMO_files/coords_02.nc')['nav_lat'][:]"
   ]
  },
  {
   "cell_type": "markdown",
   "metadata": {},
   "source": [
    "# Eddy viscosity in domain at time and depth"
   ]
  },
  {
   "cell_type": "code",
   "execution_count": 9,
   "metadata": {
    "collapsed": false
   },
   "outputs": [
    {
     "data": {
      "image/png": "[encoded data removed]",
      "text/plain": [
       "<matplotlib.figure.Figure at 0x7fc4e923b630>"
      ]
     },
     "metadata": {},
     "output_type": "display_data"
    }
   ],
   "source": [
    "fig, ax = plt.subplots(1,6,figsize=(20,3), sharex=True)\n",
    "for t, d, i in zip([200,203,206,200,203,206], [0,0,0,1,1,1], np.arange(6)):\n",
    "    p = ax[i].pcolor(vE[t,d,:,:], vmin = 0, vmax=0.000105)"
   ]
  },
  {
   "cell_type": "markdown",
   "metadata": {},
   "source": [
    "# Wind stress and eddy viscosity"
   ]
  },
  {
   "cell_type": "code",
   "execution_count": 12,
   "metadata": {
    "collapsed": false
   },
   "outputs": [
    {
     "data": {
      "text/plain": [
       "[<matplotlib.lines.Line2D at 0x7fc4ca6b5978>]"
      ]
     },
     "execution_count": 12,
     "metadata": {},
     "output_type": "execute_result"
    },
    {
     "data": {
      "image/png": "[encoded data removed]",
      "text/plain": [
       "<matplotlib.figure.Figure at 0x7fc4ca83c470>"
      ]
     },
     "metadata": {},
     "output_type": "display_data"
    }
   ],
   "source": [
    "fig, (ax1, ax2, ax3) = plt.subplots(3,1,figsize=(20,6), sharex=True)\n",
    "ax1.plot(utau[:,100,100], c='navy')\n",
    "ax2.plot(vtau[:,100,100], c='navy')\n",
    "ax3.plot(vE[:,0,100,100], c='y')\n",
    "ax3.plot(vE[:,2,100,100], c='r')\n",
    "ax3.plot(vE[:,4,100,100], c='b')\n",
    "ax3.plot(vE[:,7,100,100], c='g')"
   ]
  },
  {
   "cell_type": "markdown",
   "metadata": {},
   "source": [
    "# Coriolis parameter\n",
    "\n",
    "$$f(\\lambda)= 2 \\Omega \\sin(\\lambda)$$\n",
    "\n",
    "$$\\Omega = \\frac{2 \\pi}{24 hours}$$\n",
    "\n",
    "The average latitude at the northern boundary is 70.943. The average coriolis parameter is 0.0001374. fpar was calculated at all points along the boundary."
   ]
  },
  {
   "cell_type": "code",
   "execution_count": 49,
   "metadata": {
    "collapsed": true
   },
   "outputs": [],
   "source": [
    "latN = lats[-2,:]\n",
    "omega = (2 * np.pi) / (24 * 60 * 60)\n",
    "fpar = 2 * omega * np.sin(np.deg2rad(latN))"
   ]
  },
  {
   "cell_type": "markdown",
   "metadata": {},
   "source": [
    "# Ekman layer thickness\n",
    "\n",
    "$$\\delta = \\sqrt \\frac{2\\nu_E}{f}$$"
   ]
  },
  {
   "cell_type": "code",
   "execution_count": 68,
   "metadata": {
    "collapsed": true
   },
   "outputs": [],
   "source": [
    "vEN = vE[0,:,-2,:]\n",
    "delta = (2 * vEN) / fpar"
   ]
  },
  {
   "cell_type": "code",
   "execution_count": 69,
   "metadata": {
    "collapsed": false
   },
   "outputs": [
    {
     "data": {
      "text/plain": [
       "((237,), (30, 237), (30, 237))"
      ]
     },
     "execution_count": 69,
     "metadata": {},
     "output_type": "execute_result"
    }
   ],
   "source": [
    "fpar.shape, vEN.shape, delta.shape"
   ]
  },
  {
   "cell_type": "markdown",
   "metadata": {},
   "source": [
    "# "
   ]
  }
 ],
 "metadata": {
  "kernelspec": {
   "display_name": "Python 3",
   "language": "python",
   "name": "python3"
  },
  "language_info": {
   "codemirror_mode": {
    "name": "ipython",
    "version": 3
   },
   "file_extension": ".py",
   "mimetype": "text/x-python",
   "name": "python",
   "nbconvert_exporter": "python",
   "pygments_lexer": "ipython3",
   "version": "3.5.0rc4"
  }
 },
 "nbformat": 4,
 "nbformat_minor": 0
}
