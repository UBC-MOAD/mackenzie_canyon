{
 "cells": [
  {
   "cell_type": "code",
   "execution_count": 1,
   "metadata": {
    "collapsed": true
   },
   "outputs": [],
   "source": [
    "import numpy as np\n",
    "import numpy.ma as ma\n",
    "from numpy import diff\n",
    "import netCDF4 as nc\n",
    "import scipy.io as sio\n",
    "import matplotlib\n",
    "import matplotlib.pyplot as plt\n",
    "import matplotlib.cm as cm\n",
    "import matplotlib.gridspec as gridspec\n",
    "import cmocean as cmo\n",
    "from matplotlib.dates import DateFormatter\n",
    "%matplotlib inline\n",
    "\n",
    "import sys\n",
    "sys.path.append('/ocean/imachuca/Canyons/mackenzie_canyon/tools/')\n",
    "import functions_idealized\n",
    "import functions_grid\n",
    "\n",
    "from salishsea_tools import nc_tools, viz_tools\n",
    "from salishsea_tools import gsw_calls\n",
    "\n",
    "import xarray as xr"
   ]
  },
  {
   "cell_type": "code",
   "execution_count": 2,
   "metadata": {
    "collapsed": false
   },
   "outputs": [
    {
     "name": "stderr",
     "output_type": "stream",
     "text": [
      "/home/imachuca/anaconda3/lib/python3.5/site-packages/xarray/conventions.py:377: RuntimeWarning: Unable to decode time axis into full numpy.datetime64 objects, continuing using dummy netCDF4.datetime objects instead, reason: dates out of range\n",
      "  result = decode_cf_datetime(example_value, units, calendar)\n"
     ]
    }
   ],
   "source": [
    "path = '/ocean/imachuca/Canyons/results_mackenzie/idealized/upwelling_events/'; cfg = 'eventB_pulse10'\n",
    "gridT = xr.open_dataset(path+cfg+'/GYRE_1h_00010101_00010120_grid_T.nc')\n",
    "gridU = xr.open_dataset(path+cfg+'/GYRE_1h_00010101_00010120_grid_U.nc')\n",
    "gridV = xr.open_dataset(path+cfg+'/GYRE_1h_00010101_00010120_grid_V.nc')\n",
    "gridW = xr.open_dataset(path+cfg+'/GYRE_1h_00010101_00010120_grid_W.nc')\n",
    "\n",
    "sal = np.tile(gridT['vosaline'][:,:20,:,:],(1,1))\n",
    "tem = np.tile(gridT['votemper'][:,:20,:,:],(1,1))\n",
    "utau = np.tile(gridU['sozotaux'],(1,1))\n",
    "vtau = np.tile(gridV['sometauy'],(1,1))\n",
    "vE = gridW['veddyvisc'][:,:20,:,:]\n",
    "depthw = gridW['depthw'][:20]\n",
    "deptht = gridT['deptht'][:20]\n",
    "nav_lat = gridT['nav_lat']\n",
    "nav_lon = gridT['nav_lon']"
   ]
  },
  {
   "cell_type": "code",
   "execution_count": 3,
   "metadata": {
    "collapsed": false
   },
   "outputs": [],
   "source": [
    "grid_g = nc.Dataset('/ocean/imachuca/Canyons/mackenzie_canyon/coordinates/raw_coordinates/grid_02.nc')\n",
    "lon_g_grid = grid_g['grid_lons'][:-3,:-3]\n",
    "lat_g_grid = grid_g['grid_lats'][:-3,:-3]"
   ]
  },
  {
   "cell_type": "code",
   "execution_count": 4,
   "metadata": {
    "collapsed": true
   },
   "outputs": [],
   "source": [
    "bathy_file = nc.Dataset('/ocean/imachuca/Canyons/mackenzie_canyon/bathymetry/NEMO_files/idealized/ideal_bathy_05.nc')\n",
    "bathy = bathy_file['Bathymetry']\n",
    "coord_nav_lat = nc.Dataset('/ocean/imachuca/Canyons/mackenzie_canyon/coordinates/NEMO_files/coords_02.nc')['nav_lat'][:]"
   ]
  },
  {
   "cell_type": "markdown",
   "metadata": {},
   "source": [
    "# Eddy viscosity in domain at time and depth"
   ]
  },
  {
   "cell_type": "raw",
   "metadata": {
    "collapsed": false
   },
   "source": [
    "fig, ax = plt.subplots(1,6,figsize=(20,3), sharex=True)\n",
    "for t, d, i in zip([200,203,206,200,203,206], [0,0,0,1,1,1], np.arange(6)):\n",
    "    p = ax[i].pcolor(vE[t,d,:,:], vmin = 0, vmax=0.000105) #sensitivity studies for eddy viscosity (tke key)\n",
    "    #low in arctic but higher in canyons"
   ]
  },
  {
   "cell_type": "markdown",
   "metadata": {},
   "source": [
    "# Wind stress and eddy viscosity"
   ]
  },
  {
   "cell_type": "code",
   "execution_count": 5,
   "metadata": {
    "collapsed": false
   },
   "outputs": [
    {
     "data": {
      "text/plain": [
       "[<matplotlib.lines.Line2D at 0x7f9ca035c710>]"
      ]
     },
     "execution_count": 5,
     "metadata": {},
     "output_type": "execute_result"
    },
    {
     "data": {
      "image/png": "[encoded data removed]",
      "text/plain": [
       "<matplotlib.figure.Figure at 0x7f9ca06507f0>"
      ]
     },
     "metadata": {},
     "output_type": "display_data"
    }
   ],
   "source": [
    "fig, (ax1, ax2, ax3) = plt.subplots(3,1,figsize=(20,6), sharex=True)\n",
    "ax1.plot(utau[:,100,100], c='navy')\n",
    "ax2.plot(vtau[:,100,100], c='navy')\n",
    "ax3.plot(vE[:,0,100,100], c='y')\n",
    "ax3.plot(vE[:,2,100,100], c='r')\n",
    "ax3.plot(vE[:,4,100,100], c='b')\n",
    "ax3.plot(vE[:,7,100,100], c='g')"
   ]
  },
  {
   "cell_type": "markdown",
   "metadata": {},
   "source": [
    "# Coriolis parameter\n",
    "\n",
    "$$f(\\lambda)= 2 \\Omega \\sin(\\lambda)$$\n",
    "\n",
    "$$\\Omega = \\frac{2 \\pi}{24 hours}$$\n",
    "\n",
    "The average latitude at the northern boundary is 70.943. The average coriolis parameter is 0.0001374. fpar was calculated at all points along the boundary."
   ]
  },
  {
   "cell_type": "code",
   "execution_count": 6,
   "metadata": {
    "collapsed": true
   },
   "outputs": [],
   "source": [
    "indN = -2\n",
    "latN = nav_lat[indN,:]\n",
    "omega = (2 * np.pi) / (24 * 60 * 60)\n",
    "f = 2 * omega * np.sin(np.deg2rad(latN))"
   ]
  },
  {
   "cell_type": "code",
   "execution_count": 33,
   "metadata": {
    "collapsed": false
   },
   "outputs": [
    {
     "data": {
      "text/plain": [
       "((237,), (237,))"
      ]
     },
     "execution_count": 33,
     "metadata": {},
     "output_type": "execute_result"
    }
   ],
   "source": [
    "latN.shape, f.shape"
   ]
  },
  {
   "cell_type": "markdown",
   "metadata": {},
   "source": [
    "# Ekman layer thickness\n",
    "\n",
    "$$\\delta = \\sqrt \\frac{2\\nu_E}{f}$$"
   ]
  },
  {
   "cell_type": "code",
   "execution_count": 56,
   "metadata": {
    "collapsed": false
   },
   "outputs": [],
   "source": [
    "indt = 10\n",
    "vEN = vE[indt, :, indN, :]\n",
    "fN = np.tile(f,(vEN.shape[0],1))\n",
    "delta = np.sqrt((2 * vEN) / fN)"
   ]
  },
  {
   "cell_type": "code",
   "execution_count": 59,
   "metadata": {
    "collapsed": false
   },
   "outputs": [
    {
     "name": "stderr",
     "output_type": "stream",
     "text": [
      "/home/imachuca/anaconda3/lib/python3.5/site-packages/xarray/conventions.py:396: RuntimeWarning: Unable to decode time axis into full numpy.datetime64 objects, continuing using dummy netCDF4.datetime objects instead, reason: dates out of range\n",
      "  calendar=self.calendar)\n"
     ]
    },
    {
     "data": {
      "text/plain": [
       "((20, 237), (20, 237), (20, 237), <xarray.DataArray 'veddyvisc' ()>\n",
       " array(1.400878642134561)\n",
       " Coordinates:\n",
       "     time_centered  object    1-01-01 10:30:00\n",
       "     time_counter   object    1-01-01 10:30:00\n",
       "     y              int64 175, <xarray.DataArray 'veddyvisc' ()>\n",
       " array(1.314572120267825)\n",
       " Coordinates:\n",
       "     time_centered  object    1-01-01 10:30:00\n",
       "     time_counter   object    1-01-01 10:30:00\n",
       "     y              int64 175)"
      ]
     },
     "execution_count": 59,
     "metadata": {},
     "output_type": "execute_result"
    }
   ],
   "source": [
    "vEN.shape, fN.shape, delta.shape, delta.max(), delta.min()"
   ]
  },
  {
   "cell_type": "markdown",
   "metadata": {},
   "source": [
    "# Density"
   ]
  },
  {
   "cell_type": "code",
   "execution_count": 43,
   "metadata": {
    "collapsed": false
   },
   "outputs": [
    {
     "data": {
      "text/plain": [
       "((20,), (20, 237), (20, 237), numpy.ndarray, numpy.ndarray)"
      ]
     },
     "execution_count": 43,
     "metadata": {},
     "output_type": "execute_result"
    }
   ],
   "source": [
    "deps = np.transpose(np.tile(-1 * deptht, (237, 1)))\n",
    "lats = np.tile(latN, (deps.shape[0], 1))\n",
    "p = gsw_calls.generic_gsw_caller('gsw_p_from_z.m', [deps,lats], matlab_gsw_dir='/ocean/rich/home/matlab/gsw3')\n",
    "\n",
    "deptht.shape, deps.shape, lats.shape, type(deps), type(lats)"
   ]
  },
  {
   "cell_type": "code",
   "execution_count": 11,
   "metadata": {
    "collapsed": false
   },
   "outputs": [
    {
     "data": {
      "text/plain": [
       "((20, 237), (20, 237), numpy.ndarray, numpy.ndarray)"
      ]
     },
     "execution_count": 11,
     "metadata": {},
     "output_type": "execute_result"
    }
   ],
   "source": [
    "SA = sal[indt, :, indN, :]\n",
    "CT = tem[indt, :, indN, :]\n",
    "rho = gsw_calls.generic_gsw_caller('gsw_rho_CT_exact.m', [SA,CT,p], matlab_gsw_dir='/ocean/rich/home/matlab/gsw3')\n",
    "\n",
    "SA.shape, rho.shape, type(SA), type(rho)"
   ]
  },
  {
   "cell_type": "code",
   "execution_count": 51,
   "metadata": {
    "collapsed": false
   },
   "outputs": [
    {
     "data": {
      "image/png": "[encoded data removed]",
      "text/plain": [
       "<matplotlib.figure.Figure at 0x7f9c7c2f0d30>"
      ]
     },
     "metadata": {},
     "output_type": "display_data"
    }
   ],
   "source": [
    "fig, ax = plt.subplots(1,4,figsize=(20,5))\n",
    "for var, i, ttl in zip([SA, CT, p, rho], np.arange(4), ['sal', 'tem', 'press', 'dens']):\n",
    "    ax[i].scatter(var[:,100], deptht)\n",
    "    ax[i].set_ylim([1300, 0])\n",
    "    ax[i].set_title(ttl)"
   ]
  },
  {
   "cell_type": "markdown",
   "metadata": {},
   "source": [
    "# Ekman component\n",
    "\n",
    "$$u_E = \\frac{\\sqrt2}{\\rho f \\delta} e^{z/\\delta} \\Bigg[ \\tau_x  cos \\Bigg( \\frac{z}{\\delta} - \\frac{\\pi}{4} \\Bigg) - \\tau_y sin \\Bigg( \\frac{z}{\\delta} - \\frac{\\pi}{4} \\Bigg) \\Bigg]$$\n",
    "\n",
    "$$v_E = \\frac{\\sqrt2}{\\rho f \\delta} e^{z/\\delta} \\Bigg[ \\tau_x  sin \\Bigg( \\frac{z}{\\delta} - \\frac{\\pi}{4} \\Bigg) + \\tau_y cos \\Bigg( \\frac{z}{\\delta} - \\frac{\\pi}{4} \\Bigg) \\Bigg]$$"
   ]
  },
  {
   "cell_type": "code",
   "execution_count": 64,
   "metadata": {
    "collapsed": false
   },
   "outputs": [
    {
     "data": {
      "text/plain": [
       "numpy.ndarray"
      ]
     },
     "execution_count": 64,
     "metadata": {},
     "output_type": "execute_result"
    }
   ],
   "source": [
    "type(utau[indt, indN, :])"
   ]
  },
  {
   "cell_type": "code",
   "execution_count": 67,
   "metadata": {
    "collapsed": false
   },
   "outputs": [],
   "source": [
    "coeff = (np.sqrt(2)/(rho * fN * delta)) * np.exp(deps / delta)\n",
    "\n",
    "brackets = (deps / delta) - (np.pi / 4)\n",
    "\n",
    "tao_x = utau[indt, indN, :]\n",
    "tao_y = vtau[indt, indN, :]\n",
    "#tao_x = np.tile(utau[indt, indN, :],(brackets.shape[0],1))\n",
    "#tao_y = np.tile(vtau[indt, indN, :],(brackets.shape[0],1))\n",
    "\n",
    "u_E = coeff * ((tao_x * np.cos(brackets)) - (tao_y * np.sin(brackets)))\n",
    "v_E = coeff * ((tao_x * np.sin(brackets)) + (tao_y * np.cos(brackets)))"
   ]
  },
  {
   "cell_type": "code",
   "execution_count": 68,
   "metadata": {
    "collapsed": false
   },
   "outputs": [
    {
     "data": {
      "text/plain": [
       "((20, 237), (20, 237), (237,), (20, 237))"
      ]
     },
     "execution_count": 68,
     "metadata": {},
     "output_type": "execute_result"
    }
   ],
   "source": [
    "coeff.shape, brackets.shape, tao_x.shape, u_E.shape"
   ]
  },
  {
   "cell_type": "code",
   "execution_count": 69,
   "metadata": {
    "collapsed": false
   },
   "outputs": [
    {
     "data": {
      "image/png": "[encoded data removed]",
      "text/plain": [
       "<matplotlib.figure.Figure at 0x7f9c7ce5ad30>"
      ]
     },
     "metadata": {},
     "output_type": "display_data"
    }
   ],
   "source": [
    "fig, (ax1, ax2) = plt.subplots(1,2,figsize=(20,5))\n",
    "for ax, vel_E, ttl in zip([ax1, ax2], [u_E, v_E], ['u_E','v_E']):\n",
    "    p = ax.pcolor(vel_E, vmin=-0.006, vmax=0.006, cmap=cm.Spectral)\n",
    "    fig.colorbar(p, ax = ax)\n",
    "    ax.invert_yaxis()\n",
    "    ax.set_title(ttl)"
   ]
  },
  {
   "cell_type": "markdown",
   "metadata": {},
   "source": [
    "# Pressure driven component\n",
    "\n",
    "References:\n",
    "* http://www.rsmas.miami.edu/users/lbeal/MPO603/Lecture%2012.xhtml\n",
    "* https://ocw.mit.edu/courses/mechanical-engineering/2-011-introduction-to-ocean-science-and-engineering-spring-2006/readings/geostrophic.pdf\n",
    "* https://marine.rutgers.edu/dmcs/ms501/2004/Notes/Wilkin20041101.htm\n",
    "* http://talleylab.ucsd.edu/ltalley/sio210/dynamics_rotation/lecture_dynamics_geostrophy.pdf\n",
    "* http://onlinelibrary.wiley.com/doi/10.1002/2015JC011579/full\n",
    "\n",
    "Ekman transport resulting from winds distorts the sea surface height. These distortions (hills and valleys) produce geostrophic currents which dominate the large scale circulation patterns in the upper ocean (Beaufort Gyre). Increased pressure caused by the piling up of surface water causes water to flow away.\n",
    "\n",
    "\n",
    "\n",
    "$$ v_g = \\frac{1}{\\rho f} \\frac{\\partial p}{\\partial x} $$\n",
    "\n",
    "$$ u_g = - \\frac{1}{\\rho f} \\frac{\\partial p}{\\partial y} $$\n",
    "\n",
    "And:\n",
    "$$ p = \\int_{-z}^{\\eta} g \\rho(z) dz = \\int_{0}^{\\eta} g \\rho(z) dz + \\int_{-z}^{0} g \\rho(z) dz$$\n",
    "\n",
    "So the geostrophic currents are:\n",
    "$$u_g = - \\frac{1}{\\rho f}\\frac{\\partial}{\\partial y} \\int_{-z}^{0} g \\rho(z) dz - \\frac{g}{f} \\frac{\\partial \\eta}{\\partial y}$$\n",
    "\n",
    "$$v_g = \\underbrace{\\frac{1}{\\rho f}\\frac{\\partial}{\\partial x} \\int_{-z}^{0} g \\rho(z) dz}_\\text{V baroclinic} + \\underbrace{\\frac{g}{f} \\frac{\\partial \\eta}{\\partial x}}_\\text{V barotropic}$$\n"
   ]
  },
  {
   "cell_type": "markdown",
   "metadata": {
    "collapsed": true
   },
   "source": [
    "# Barotropic rossby radii\n",
    "$a_s$: barotropic rossby radius over the shelf\n",
    "\n",
    "$h_S$: depth for y<S\n",
    "\n",
    "$$a_s = \\frac{\\sqrt{gh_s}}{f}$$\n",
    "\n",
    "$a_d$: barotropic rossby radius off the shelf\n",
    "\n",
    "$h_d$: depth for y>S\n",
    "\n",
    "$$a_d = \\frac{\\sqrt{gh_d}}{f}$$\n",
    "\n",
    "And:\n",
    "$$\\alpha^2 = \\frac{H_S}{H_D}$$"
   ]
  },
  {
   "cell_type": "code",
   "execution_count": 112,
   "metadata": {
    "collapsed": false
   },
   "outputs": [
    {
     "name": "stdout",
     "output_type": "stream",
     "text": [
      "203805.675261 821566.942259 0.248069469178\n"
     ]
    }
   ],
   "source": [
    "h_s = 80; h_d = 1300\n",
    "a_s = np.sqrt(9.81 * h_s) / np.mean(fN)\n",
    "a_d = np.sqrt(9.81 * h_d) / np.mean(fN)\n",
    "alpha = np.sqrt(h_s / h_d)\n",
    "\n",
    "print(a_s, a_d, alpha)"
   ]
  },
  {
   "cell_type": "markdown",
   "metadata": {},
   "source": [
    "# Allen 1996\n",
    "\n",
    "$$\\eta = - \\frac{\\int_{t_0}^{t_f} \\tau dt}{f^2 a_s} \\bigg( \\frac{1}{\\alpha \\sinh (S/a_s) + \\cosh(S/a_s)} \\bigg) \\exp \\bigg(\\frac{-(y-S)}{a_d} \\bigg)$$\n",
    "\n",
    "Rewritten as:\n",
    "$$\\eta = C \\exp \\bigg(\\frac{-y+S}{a_d} \\bigg)$$\n",
    "\n",
    "where: \n",
    "\n",
    "$$ C = - \\frac{\\int_{t_0}^{t_f} \\tau dt}{f^2 a_s} \\bigg( \\frac{1}{\\alpha \\sinh (S/a_s) + \\cosh(S/a_s)} \\bigg)$$\n",
    "\n",
    "* y=0 at the coast and increases offshore\n",
    "* S: distance to the shelf break"
   ]
  },
  {
   "cell_type": "code",
   "execution_count": 90,
   "metadata": {
    "collapsed": false
   },
   "outputs": [
    {
     "data": {
      "text/plain": [
       "(array([-0.00275653, -0.01852737, -0.04660851, -0.08087862, -0.11386727,\n",
       "        -0.13838336, -0.14908271, -0.14363299, -0.12322217, -0.09229956,\n",
       "        -0.04      ]), -3340.3709637466818, 0.0, -0.14908270537853241)"
      ]
     },
     "execution_count": 90,
     "metadata": {},
     "output_type": "execute_result"
    }
   ],
   "source": [
    "dt_s = 60*60 \n",
    "# check if this should be cumulative or do it manually, until now this is the only thing that takes >1 time\n",
    "tau_integral = np.trapz(utau[:indt+1,0,0], None, dt_s) \n",
    "coeff_eta = (-1 * tau_integral) / ((np.mean(fN))**2 * a_s)\n",
    "\n",
    "utau[:indt+1,0,0], tau_integral, utau.max(), utau.min()"
   ]
  },
  {
   "cell_type": "code",
   "execution_count": 80,
   "metadata": {
    "collapsed": false
   },
   "outputs": [
    {
     "data": {
      "text/plain": [
       "(546064.86328401405, 405234.2962823509)"
      ]
     },
     "execution_count": 80,
     "metadata": {},
     "output_type": "execute_result"
    }
   ],
   "source": [
    "x_wall = bathy_file['X'][0,:][-1]\n",
    "y_wall = bathy_file['Y'][:,0][-1]\n",
    "\n",
    "x_wall, y_wall, w_break, w_mid, w_head, cR, L, p,\\\n",
    "y_coast, y_head, y_break, y_pointA, y_pointB, y_paral, y_base, fluid_depth,\\\n",
    "z_bottom, z_paral, z_pointA, z_pointB, z_break, z_coast = functions_idealized.Mackenzie_measurements(x_wall, y_wall)\n",
    "\n",
    "x_wall, y_wall"
   ]
  },
  {
   "cell_type": "code",
   "execution_count": 82,
   "metadata": {
    "collapsed": false
   },
   "outputs": [
    {
     "data": {
      "text/plain": [
       "(146259.7140481, 203805.67526067889, 0.68378254018832274)"
      ]
     },
     "execution_count": 82,
     "metadata": {},
     "output_type": "execute_result"
    }
   ],
   "source": [
    "S_y = y_wall - y_break\n",
    "arg = S_y / a_s\n",
    "brackets_eta = 1 / ((alpha * np.sinh(arg)) + np.cosh(arg))\n",
    "\n",
    "# this is really small so i don't think it's a problem, it also doesn't even use time\n",
    "S_y, a_s, brackets_eta "
   ]
  },
  {
   "cell_type": "code",
   "execution_count": 121,
   "metadata": {
    "collapsed": false
   },
   "outputs": [
    {
     "data": {
      "text/plain": [
       "(593157.44552240521, 867465.03553460399, 0.68378254018832274)"
      ]
     },
     "execution_count": 121,
     "metadata": {},
     "output_type": "execute_result"
    }
   ],
   "source": [
    "C = coeff_eta * brackets_eta\n",
    "C, coeff_eta, brackets_eta # and the problem with C is in coeff_eta, which is the integral"
   ]
  },
  {
   "cell_type": "markdown",
   "metadata": {},
   "source": [
    "# Geostrophic currents\n",
    "\n",
    "$$\\frac{\\partial \\eta}{\\partial y} = - \\frac{C}{a_d} \\exp \\bigg(\\frac{-y+S}{a_d} \\bigg)$$\n",
    "\n",
    "for:\n",
    "$$u_g = - \\frac{g}{f} \\frac{\\partial \\eta}{\\partial y}$$\n",
    "\n",
    "and:\n",
    "$$v_g = +\\frac{g}{f} \\frac{\\partial \\eta}{\\partial x} = 0$$"
   ]
  },
  {
   "cell_type": "code",
   "execution_count": 119,
   "metadata": {
    "collapsed": false
   },
   "outputs": [],
   "source": [
    "y_all = bathy_file['Y'][:,0]\n",
    "exp_eta = np.exp(((-1 * y_all) + S_y) / a_d) # all y at ones?\n",
    "d_eta_dy = (-1 * C / a_d) * exp_eta # make sure negatives make sense"
   ]
  },
  {
   "cell_type": "code",
   "execution_count": 120,
   "metadata": {
    "collapsed": false
   },
   "outputs": [
    {
     "data": {
      "text/plain": [
       "((177,), (177,), (177,), -0.8614609668537182, -0.52677916679681225)"
      ]
     },
     "execution_count": 120,
     "metadata": {},
     "output_type": "execute_result"
    }
   ],
   "source": [
    "y_all.shape, exp_eta.shape, d_eta_dy.shape, d_eta_dy.min(), d_eta_dy.max()"
   ]
  },
  {
   "cell_type": "code",
   "execution_count": 109,
   "metadata": {
    "collapsed": false
   },
   "outputs": [
    {
     "data": {
      "text/plain": [
       "6.14810558661248"
      ]
     },
     "execution_count": 109,
     "metadata": {},
     "output_type": "execute_result"
    }
   ],
   "source": [
    "-0.000086146083516571559 * -9.81 / 0.00013745585 # so dn/dy needs to be 10e4 smaller, which is a problem with C"
   ]
  },
  {
   "cell_type": "code",
   "execution_count": 95,
   "metadata": {
    "collapsed": false
   },
   "outputs": [
    {
     "name": "stdout",
     "output_type": "stream",
     "text": [
      "(177,) 37595.357398 61481.0564278 37595.357398\n"
     ]
    }
   ],
   "source": [
    "u_g = (-1 * 9.81 / np.mean(fN)) * d_eta_dy\n",
    "u_g_bc = np.ones_like(u_E) * u_g[-1]\n",
    "\n",
    "v_g_bc = np.zeros_like(v_E)\n",
    "print(u_g.shape, u_g[-1], u_g.max(), u_g.min())"
   ]
  },
  {
   "cell_type": "code",
   "execution_count": 96,
   "metadata": {
    "collapsed": false
   },
   "outputs": [
    {
     "data": {
      "image/png": "[encoded data removed]",
      "text/plain": [
       "<matplotlib.figure.Figure at 0x7f9c7cb62828>"
      ]
     },
     "metadata": {},
     "output_type": "display_data"
    }
   ],
   "source": [
    "fig, (ax1, ax2) = plt.subplots(1,2,figsize=(20,5))\n",
    "for ax, vel_g, ttl, cmaps in zip([ax1, ax2], [u_g_bc, v_g_bc], ['u_g_bc','v_g_bc'], [cmo.cm.dense, cmo.cm.matter]):\n",
    "    p = ax.pcolor(vel_g, cmap=cmaps)\n",
    "    fig.colorbar(p, ax = ax)\n",
    "    ax.invert_yaxis()\n",
    "    ax.set_title(ttl)"
   ]
  },
  {
   "cell_type": "markdown",
   "metadata": {},
   "source": [
    "# Total velocities\n",
    "\n",
    "$$u = u_g + u_E$$\n",
    "$$v = v_g + v_E$$"
   ]
  },
  {
   "cell_type": "code",
   "execution_count": 97,
   "metadata": {
    "collapsed": false
   },
   "outputs": [
    {
     "data": {
      "text/plain": [
       "((177,), (20, 237), (20, 237), (20, 237), (20, 237))"
      ]
     },
     "execution_count": 97,
     "metadata": {},
     "output_type": "execute_result"
    }
   ],
   "source": [
    "u_g.shape, u_g_bc.shape, u_E.shape, v_g_bc.shape, v_E.shape"
   ]
  },
  {
   "cell_type": "code",
   "execution_count": 98,
   "metadata": {
    "collapsed": true
   },
   "outputs": [],
   "source": [
    "u_tot = u_g_bc + u_E\n",
    "v_tot = v_g_bc + v_E"
   ]
  },
  {
   "cell_type": "code",
   "execution_count": 99,
   "metadata": {
    "collapsed": false
   },
   "outputs": [
    {
     "data": {
      "image/png": "[encoded data removed]",
      "text/plain": [
       "<matplotlib.figure.Figure at 0x7f9c7c8b4048>"
      ]
     },
     "metadata": {},
     "output_type": "display_data"
    }
   ],
   "source": [
    "fig, (ax1, ax2) = plt.subplots(1,2,figsize=(20,5))\n",
    "for ax, vel_tot, ttl, cmaps in zip([ax1, ax2], [u_tot, v_tot], ['u_tot','v_tot'], [cmo.cm.dense, cmo.cm.matter]):\n",
    "    p = ax.pcolor(vel_tot, cmap=cmaps)\n",
    "    fig.colorbar(p, ax = ax)\n",
    "    ax.invert_yaxis()\n",
    "    ax.set_title(ttl)"
   ]
  },
  {
   "cell_type": "code",
   "execution_count": null,
   "metadata": {
    "collapsed": true
   },
   "outputs": [],
   "source": []
  }
 ],
 "metadata": {
  "kernelspec": {
   "display_name": "Python 3",
   "language": "python",
   "name": "python3"
  },
  "language_info": {
   "codemirror_mode": {
    "name": "ipython",
    "version": 3
   },
   "file_extension": ".py",
   "mimetype": "text/x-python",
   "name": "python",
   "nbconvert_exporter": "python",
   "pygments_lexer": "ipython3",
   "version": "3.5.0rc4"
  }
 },
 "nbformat": 4,
 "nbformat_minor": 0
}
