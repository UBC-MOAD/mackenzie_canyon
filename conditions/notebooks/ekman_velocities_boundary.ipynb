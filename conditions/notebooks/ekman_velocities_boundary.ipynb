{
 "cells": [
  {
   "cell_type": "code",
   "execution_count": 1,
   "metadata": {
    "collapsed": true
   },
   "outputs": [],
   "source": [
    "import numpy as np\n",
    "import numpy.ma as ma\n",
    "from numpy import diff\n",
    "import netCDF4 as nc\n",
    "import scipy.io as sio\n",
    "import matplotlib\n",
    "import matplotlib.pyplot as plt\n",
    "import matplotlib.cm as cm\n",
    "import matplotlib.gridspec as gridspec\n",
    "import cmocean as cmo\n",
    "from matplotlib.dates import DateFormatter\n",
    "%matplotlib inline\n",
    "\n",
    "import sys\n",
    "sys.path.append('/ocean/imachuca/Canyons/mackenzie_canyon/tools/')\n",
    "import functions_idealized\n",
    "import functions_grid\n",
    "\n",
    "from salishsea_tools import nc_tools, viz_tools\n",
    "from salishsea_tools import gsw_calls\n",
    "\n",
    "import xarray as xr"
   ]
  },
  {
   "cell_type": "code",
   "execution_count": 2,
   "metadata": {
    "collapsed": false
   },
   "outputs": [
    {
     "name": "stderr",
     "output_type": "stream",
     "text": [
      "/home/imachuca/anaconda3/lib/python3.5/site-packages/xarray/conventions.py:377: RuntimeWarning: Unable to decode time axis into full numpy.datetime64 objects, continuing using dummy netCDF4.datetime objects instead, reason: dates out of range\n",
      "  result = decode_cf_datetime(example_value, units, calendar)\n"
     ]
    }
   ],
   "source": [
    "path = '/ocean/imachuca/Canyons/results_mackenzie/idealized/upwelling_events/'; cfg = 'eventB_pulse10'\n",
    "gridT = xr.open_dataset(path+cfg+'/GYRE_1h_00010101_00010120_grid_T.nc')\n",
    "gridU = xr.open_dataset(path+cfg+'/GYRE_1h_00010101_00010120_grid_U.nc')\n",
    "gridV = xr.open_dataset(path+cfg+'/GYRE_1h_00010101_00010120_grid_V.nc')\n",
    "gridW = xr.open_dataset(path+cfg+'/GYRE_1h_00010101_00010120_grid_W.nc')\n",
    "\n",
    "sal = np.tile(gridT['vosaline'][:,:20,:,:],(1,1))\n",
    "tem = np.tile(gridT['votemper'][:,:20,:,:],(1,1))\n",
    "utau = np.tile(gridU['sozotaux'],(1,1))\n",
    "vtau = np.tile(gridV['sometauy'],(1,1))\n",
    "vE = gridW['veddyvisc'][:,:20,:,:]\n",
    "depthw = gridW['depthw'][:20]\n",
    "deptht = gridT['deptht'][:20]\n",
    "nav_lat = gridT['nav_lat']\n",
    "nav_lon = gridT['nav_lon']"
   ]
  },
  {
   "cell_type": "code",
   "execution_count": 3,
   "metadata": {
    "collapsed": false
   },
   "outputs": [],
   "source": [
    "grid_g = nc.Dataset('/ocean/imachuca/Canyons/mackenzie_canyon/coordinates/raw_coordinates/grid_02.nc')\n",
    "lon_g_grid = grid_g['grid_lons'][:-3,:-3]\n",
    "lat_g_grid = grid_g['grid_lats'][:-3,:-3]"
   ]
  },
  {
   "cell_type": "code",
   "execution_count": 4,
   "metadata": {
    "collapsed": true
   },
   "outputs": [],
   "source": [
    "bathy_file = nc.Dataset('/ocean/imachuca/Canyons/mackenzie_canyon/bathymetry/NEMO_files/idealized/ideal_bathy_05.nc')\n",
    "bathy = bathy_file['Bathymetry']\n",
    "coord_nav_lat = nc.Dataset('/ocean/imachuca/Canyons/mackenzie_canyon/coordinates/NEMO_files/coords_02.nc')['nav_lat'][:]"
   ]
  },
  {
   "cell_type": "markdown",
   "metadata": {},
   "source": [
    "# Eddy viscosity in domain at time and depth"
   ]
  },
  {
   "cell_type": "raw",
   "metadata": {
    "collapsed": false
   },
   "source": [
    "fig, ax = plt.subplots(1,6,figsize=(20,3), sharex=True)\n",
    "for t, d, i in zip([200,203,206,200,203,206], [0,0,0,1,1,1], np.arange(6)):\n",
    "    p = ax[i].pcolor(vE[t,d,:,:], vmin = 0, vmax=0.000105) #sensitivity studies for eddy viscosity (tke key)\n",
    "    #low in arctic but higher in canyons"
   ]
  },
  {
   "cell_type": "markdown",
   "metadata": {},
   "source": [
    "# Wind stress and eddy viscosity"
   ]
  },
  {
   "cell_type": "code",
   "execution_count": 5,
   "metadata": {
    "collapsed": false
   },
   "outputs": [
    {
     "data": {
      "text/plain": [
       "[<matplotlib.lines.Line2D at 0x7eff1c488518>]"
      ]
     },
     "execution_count": 5,
     "metadata": {},
     "output_type": "execute_result"
    },
    {
     "data": {
      "image/png": "[encoded data removed]",
      "text/plain": [
       "<matplotlib.figure.Figure at 0x7eff1c7f6780>"
      ]
     },
     "metadata": {},
     "output_type": "display_data"
    }
   ],
   "source": [
    "fig, (ax1, ax2, ax3) = plt.subplots(3,1,figsize=(20,6), sharex=True)\n",
    "ax1.plot(utau[:,100,100], c='navy')\n",
    "ax2.plot(vtau[:,100,100], c='navy')\n",
    "ax3.plot(vE[:,0,100,100], c='y')\n",
    "ax3.plot(vE[:,2,100,100], c='r')\n",
    "ax3.plot(vE[:,4,100,100], c='b')\n",
    "ax3.plot(vE[:,7,100,100], c='g')"
   ]
  },
  {
   "cell_type": "markdown",
   "metadata": {},
   "source": [
    "# Coriolis parameter\n",
    "\n",
    "$$f(\\lambda)= 2 \\Omega \\sin(\\lambda)$$\n",
    "\n",
    "$$\\Omega = \\frac{2 \\pi}{24 hours}$$\n",
    "\n",
    "The average latitude at the northern boundary is 70.943. The average coriolis parameter is 0.0001374. fpar was calculated at all points along the boundary."
   ]
  },
  {
   "cell_type": "code",
   "execution_count": 6,
   "metadata": {
    "collapsed": true
   },
   "outputs": [],
   "source": [
    "indN = -2\n",
    "latN = nav_lat[indN,:]\n",
    "omega = (2 * np.pi) / (24 * 60 * 60)\n",
    "f = 2 * omega * np.sin(np.deg2rad(latN))"
   ]
  },
  {
   "cell_type": "code",
   "execution_count": 7,
   "metadata": {
    "collapsed": false
   },
   "outputs": [
    {
     "data": {
      "text/plain": [
       "((237,), xarray.core.dataarray.DataArray, <xarray.DataArray 'nav_lat' ()>\n",
       " array(0.0001374559069518)\n",
       " Coordinates:\n",
       "     y        int64 175)"
      ]
     },
     "execution_count": 7,
     "metadata": {},
     "output_type": "execute_result"
    }
   ],
   "source": [
    "f.shape, type(f), np.mean(f)"
   ]
  },
  {
   "cell_type": "markdown",
   "metadata": {},
   "source": [
    "# Ekman layer thickness\n",
    "\n",
    "$$\\delta = \\sqrt \\frac{2\\nu_E}{f}$$"
   ]
  },
  {
   "cell_type": "code",
   "execution_count": 8,
   "metadata": {
    "collapsed": false
   },
   "outputs": [],
   "source": [
    "indt = 10\n",
    "vEN = vE[indt, :, -2, :]\n",
    "fN = np.tile(f,(vEN.shape[0],1))\n",
    "delta = np.sqrt((2 * vEN) / fN)"
   ]
  },
  {
   "cell_type": "code",
   "execution_count": 9,
   "metadata": {
    "collapsed": false
   },
   "outputs": [
    {
     "data": {
      "text/plain": [
       "((20, 237), (20, 237), (20, 237))"
      ]
     },
     "execution_count": 9,
     "metadata": {},
     "output_type": "execute_result"
    }
   ],
   "source": [
    "vEN.shape, fN.shape, delta.shape"
   ]
  },
  {
   "cell_type": "markdown",
   "metadata": {},
   "source": [
    "# Ekman component\n",
    "\n",
    "$$u_E = \\frac{\\sqrt2}{\\rho f \\delta} e^{z/\\delta} \\Bigg[ \\tau_x  cos \\Bigg( \\frac{z}{\\delta} - \\frac{\\pi}{4} \\Bigg) - \\tau_y sin \\Bigg( \\frac{z}{\\delta} - \\frac{\\pi}{4} \\Bigg) \\Bigg]$$\n",
    "\n",
    "$$v_E = \\frac{\\sqrt2}{\\rho f \\delta} e^{z/\\delta} \\Bigg[ \\tau_x  sin \\Bigg( \\frac{z}{\\delta} - \\frac{\\pi}{4} \\Bigg) + \\tau_y cos \\Bigg( \\frac{z}{\\delta} - \\frac{\\pi}{4} \\Bigg) \\Bigg]$$"
   ]
  },
  {
   "cell_type": "code",
   "execution_count": 10,
   "metadata": {
    "collapsed": false
   },
   "outputs": [
    {
     "data": {
      "text/plain": [
       "((20, 237), (20, 237), numpy.ndarray, numpy.ndarray)"
      ]
     },
     "execution_count": 10,
     "metadata": {},
     "output_type": "execute_result"
    }
   ],
   "source": [
    "deps = np.transpose(np.tile(-1 * deptht, (237, 1)))\n",
    "lats = np.tile(latN, (deps.shape[0], 1))\n",
    "p = gsw_calls.generic_gsw_caller('gsw_p_from_z.m', [deps,lats], matlab_gsw_dir='/ocean/rich/home/matlab/gsw3')\n",
    "\n",
    "deps.shape, lats.shape, type(deps), type(lats)"
   ]
  },
  {
   "cell_type": "code",
   "execution_count": 11,
   "metadata": {
    "collapsed": false
   },
   "outputs": [
    {
     "data": {
      "text/plain": [
       "((20, 237), (20, 237), numpy.ndarray, numpy.ndarray)"
      ]
     },
     "execution_count": 11,
     "metadata": {},
     "output_type": "execute_result"
    }
   ],
   "source": [
    "SA = sal[indt, :, indN, :]\n",
    "CT = tem[indt, :, indN, :]\n",
    "rho = gsw_calls.generic_gsw_caller('gsw_rho_CT_exact.m', [SA,CT,p], matlab_gsw_dir='/ocean/rich/home/matlab/gsw3')\n",
    "\n",
    "SA.shape, rho.shape, type(SA), type(rho)"
   ]
  },
  {
   "cell_type": "code",
   "execution_count": 12,
   "metadata": {
    "collapsed": false
   },
   "outputs": [
    {
     "data": {
      "image/png": "[encoded data removed]",
      "text/plain": [
       "<matplotlib.figure.Figure at 0x7eff1c7f6400>"
      ]
     },
     "metadata": {},
     "output_type": "display_data"
    }
   ],
   "source": [
    "fig, ax = plt.subplots(1,4,figsize=(20,5))\n",
    "for var, i in zip([SA, CT, p, rho], np.arange(4)):\n",
    "    ax[i].scatter(var[:,100], deptht)\n",
    "    ax[i].set_ylim([1300, 0])"
   ]
  },
  {
   "cell_type": "code",
   "execution_count": 13,
   "metadata": {
    "collapsed": false
   },
   "outputs": [
    {
     "name": "stderr",
     "output_type": "stream",
     "text": [
      "/home/imachuca/anaconda3/lib/python3.5/site-packages/xarray/conventions.py:396: RuntimeWarning: Unable to decode time axis into full numpy.datetime64 objects, continuing using dummy netCDF4.datetime objects instead, reason: dates out of range\n",
      "  calendar=self.calendar)\n"
     ]
    }
   ],
   "source": [
    "coeff = (np.sqrt(2)/(rho * fN * delta)) * np.exp(deps / delta)\n",
    "\n",
    "brackets = (deps / delta) - (np.pi / 4)\n",
    "\n",
    "tao_x = np.tile(utau[indt, indN, :],(brackets.shape[0],1))\n",
    "tao_y = np.tile(vtau[indt, indN, :],(brackets.shape[0],1))\n",
    "\n",
    "u_E = coeff * ((tao_x * np.cos(brackets)) - (tao_y * np.sin(brackets)))\n",
    "v_E = coeff * ((tao_x * np.sin(brackets)) - (tao_y * np.cos(brackets)))"
   ]
  },
  {
   "cell_type": "code",
   "execution_count": 14,
   "metadata": {
    "collapsed": false
   },
   "outputs": [
    {
     "data": {
      "text/plain": [
       "((20, 237), (20, 237), (20, 237), (20, 237))"
      ]
     },
     "execution_count": 14,
     "metadata": {},
     "output_type": "execute_result"
    }
   ],
   "source": [
    "coeff.shape, brackets.shape, tao_x.shape, u_E.shape"
   ]
  },
  {
   "cell_type": "code",
   "execution_count": 36,
   "metadata": {
    "collapsed": false
   },
   "outputs": [
    {
     "data": {
      "image/png": "[encoded data removed]",
      "text/plain": [
       "<matplotlib.figure.Figure at 0x7eff1c0e10b8>"
      ]
     },
     "metadata": {},
     "output_type": "display_data"
    }
   ],
   "source": [
    "fig, (ax1, ax2) = plt.subplots(1,2,figsize=(20,5))\n",
    "for ax, vel_E, ttl in zip([ax1, ax2], [u_E, v_E], ['u_E','v_E']):\n",
    "    p = ax.pcolor(vel_E, vmin=-0.006, vmax=0.006, cmap=cm.Spectral)\n",
    "    fig.colorbar(p, ax = ax)\n",
    "    ax.invert_yaxis()\n",
    "    ax.set_title(ttl)"
   ]
  },
  {
   "cell_type": "markdown",
   "metadata": {},
   "source": [
    "# Pressure driven component\n",
    "\n",
    "References:\n",
    "* http://www.rsmas.miami.edu/users/lbeal/MPO603/Lecture%2012.xhtml\n",
    "* https://ocw.mit.edu/courses/mechanical-engineering/2-011-introduction-to-ocean-science-and-engineering-spring-2006/readings/geostrophic.pdf\n",
    "* https://marine.rutgers.edu/dmcs/ms501/2004/Notes/Wilkin20041101.htm\n",
    "* http://talleylab.ucsd.edu/ltalley/sio210/dynamics_rotation/lecture_dynamics_geostrophy.pdf\n",
    "* http://onlinelibrary.wiley.com/doi/10.1002/2015JC011579/full\n",
    "\n",
    "Ekman transport resulting from winds distorts the sea surface height. These distortions (hills and valleys) produce geostrophic currents which dominate the large scale circulation patterns in the upper ocean (Beaufort Gyre). Increased pressure caused by the piling up of surface water causes water to flow away.\n",
    "\n",
    "\n",
    "\n",
    "$$ v_g = \\frac{1}{\\rho f} \\frac{\\partial p}{\\partial x} $$\n",
    "\n",
    "$$ u_g = - \\frac{1}{\\rho f} \\frac{\\partial p}{\\partial y} $$\n",
    "\n",
    "And:\n",
    "$$ p = \\int_{-z}^{\\eta} g \\rho(z) dz = \\int_{0}^{\\eta} g \\rho(z) dz + \\int_{-z}^{0} g \\rho(z) dz$$\n",
    "\n",
    "So the geostrophic currents are:\n",
    "$$u_g = - \\frac{1}{\\rho f}\\frac{\\partial}{\\partial y} \\int_{-z}^{0} g \\rho(z) dz - \\frac{g}{f} \\frac{\\partial \\eta}{\\partial y}$$\n",
    "\n",
    "$$v_g = \\underbrace{\\frac{1}{\\rho f}\\frac{\\partial}{\\partial x} \\int_{-z}^{0} g \\rho(z) dz}_\\text{V baroclinic} + \\underbrace{\\frac{g}{f} \\frac{\\partial \\eta}{\\partial x}}_\\text{V barotropic}$$\n"
   ]
  },
  {
   "cell_type": "markdown",
   "metadata": {
    "collapsed": true
   },
   "source": [
    "# Barotropic rossby radii\n",
    "$a_s$: barotropic rossby radius over the shelf\n",
    "\n",
    "$h_S$: depth for y<S\n",
    "\n",
    "$$a_s = \\frac{\\sqrt{gh_s}}{f}$$\n",
    "\n",
    "$a_d$: barotropic rossby radius off the shelf\n",
    "\n",
    "$h_d$: depth for y>S\n",
    "\n",
    "$$a_d = \\frac{\\sqrt{gh_d}}{f}$$\n",
    "\n",
    "And:\n",
    "$$\\alpha^2 = \\frac{H_S}{H_D}$$"
   ]
  },
  {
   "cell_type": "code",
   "execution_count": 16,
   "metadata": {
    "collapsed": false
   },
   "outputs": [
    {
     "name": "stdout",
     "output_type": "stream",
     "text": [
      "203805 821566 0.248069469178\n"
     ]
    }
   ],
   "source": [
    "h_s = 80; h_d = 1300\n",
    "a_s = np.sqrt(9.81 * h_s) / np.mean(f)\n",
    "a_d = np.sqrt(9.81 * h_d) / np.mean(f)\n",
    "alpha = np.sqrt(h_s / h_d)\n",
    "\n",
    "print(int(a_s), int(a_d), alpha)"
   ]
  },
  {
   "cell_type": "markdown",
   "metadata": {},
   "source": [
    "# Allen 1996\n",
    "\n",
    "$$\\eta = - \\frac{\\int_{t_0}^{t_f} \\tau dt}{f^2 a_s} \\bigg( \\frac{1}{\\alpha \\sinh (S/a_s) + \\cosh(S/a_s)} \\bigg) \\exp \\bigg[\\frac{-(y-S)}{a_d} \\bigg]$$\n",
    "\n",
    "* y=0 at the coast and increases offshore\n",
    "* S: distance to the shelf break"
   ]
  },
  {
   "cell_type": "code",
   "execution_count": 17,
   "metadata": {
    "collapsed": false
   },
   "outputs": [
    {
     "data": {
      "text/plain": [
       "(-0.92788082326296717, 0.0, -0.14908270537853241)"
      ]
     },
     "execution_count": 17,
     "metadata": {},
     "output_type": "execute_result"
    }
   ],
   "source": [
    "tau_integral = np.trapz(utau[:indt+1,0,0])\n",
    "coeff_eta = (-1 * tau_integral) / ((np.mean(f))**2 * a_s)\n",
    "\n",
    "tau_integral, utau.max(), utau.min()"
   ]
  },
  {
   "cell_type": "code",
   "execution_count": 18,
   "metadata": {
    "collapsed": false
   },
   "outputs": [
    {
     "data": {
      "text/plain": [
       "(546064.86328401405, 405234.2962823509, 146259.7140481)"
      ]
     },
     "execution_count": 18,
     "metadata": {},
     "output_type": "execute_result"
    }
   ],
   "source": [
    "#lon_s_grid, lat_s_grid = functions_grid.transform_coords(lon_g_grid, lat_g_grid, 'GS')\n",
    "#x_wall, y_wall = functions_idealized.extended_measurements(lon_s_grid, lat_s_grid)\n",
    "\n",
    "x_wall = bathy_file['X'][0,:][-1]\n",
    "y_wall = bathy_file['Y'][:,0][-1]\n",
    "\n",
    "x_wall, y_wall, w_break, w_mid, w_head, cR, L, p,\\\n",
    "y_coast, y_head, y_break, y_pointA, y_pointB, y_paral, y_base, fluid_depth,\\\n",
    "z_bottom, z_paral, z_pointA, z_pointB, z_break, z_coast = functions_idealized.Mackenzie_measurements(x_wall, y_wall)\n",
    "\n",
    "x_wall, y_wall, y_wall - y_break"
   ]
  },
  {
   "cell_type": "code",
   "execution_count": 19,
   "metadata": {
    "collapsed": false
   },
   "outputs": [],
   "source": [
    "S_y = y_wall - y_break\n",
    "arg = S_y / a_s\n",
    "brackets_eta = 1 / ((alpha * np.sinh(arg)) + np.cosh(arg))"
   ]
  },
  {
   "cell_type": "code",
   "execution_count": 20,
   "metadata": {
    "collapsed": false
   },
   "outputs": [],
   "source": [
    "y_all = bathy_file['Y'][:,0]\n",
    "exp_eta = np.exp((-1 * (y_all - S_y)) / a_d.values)"
   ]
  },
  {
   "cell_type": "code",
   "execution_count": 21,
   "metadata": {
    "collapsed": false
   },
   "outputs": [],
   "source": [
    "eta = coeff_eta.values * brackets_eta.values * exp_eta"
   ]
  },
  {
   "cell_type": "code",
   "execution_count": 22,
   "metadata": {
    "collapsed": false
   },
   "outputs": [
    {
     "data": {
      "text/plain": [
       "((), (), (177,), (177,), (177,))"
      ]
     },
     "execution_count": 22,
     "metadata": {},
     "output_type": "execute_result"
    }
   ],
   "source": [
    "coeff_eta.shape, brackets_eta.shape, y_all.shape, exp_eta.shape, eta.shape"
   ]
  },
  {
   "cell_type": "markdown",
   "metadata": {
    "collapsed": true
   },
   "source": [
    "# Geostrophic currents\n",
    "\n",
    "$$u_g = - \\frac{g}{f} \\frac{\\partial \\eta}{\\partial y}$$\n",
    "\n",
    "$$v_g = +\\frac{g}{f} \\frac{\\partial \\eta}{\\partial x} = 0$$"
   ]
  },
  {
   "cell_type": "code",
   "execution_count": 23,
   "metadata": {
    "collapsed": false
   },
   "outputs": [
    {
     "name": "stdout",
     "output_type": "stream",
     "text": [
      "(176,) 10.4577561954 17.0542230847 10.4577561954\n"
     ]
    }
   ],
   "source": [
    "u_g = -1 * (9.81 / np.mean(f)).values * (diff(eta) / diff(y_all))\n",
    "u_g_bc = np.zeros_like(u_E)\n",
    "u_g_bc[0,:] = u_g[-1]\n",
    "\n",
    "v_g_bc = np.zeros_like(v_E)\n",
    "print(u_g.shape, u_g[-1], u_g.max(), u_g.min())"
   ]
  },
  {
   "cell_type": "code",
   "execution_count": 68,
   "metadata": {
    "collapsed": false
   },
   "outputs": [
    {
     "data": {
      "image/png": "[encoded data removed]",
      "text/plain": [
       "<matplotlib.figure.Figure at 0x7eff1c136630>"
      ]
     },
     "metadata": {},
     "output_type": "display_data"
    }
   ],
   "source": [
    "fig, (ax1, ax2) = plt.subplots(1,2,figsize=(20,5))\n",
    "for ax, vel_g, ttl, cmaps in zip([ax1, ax2], [u_g_bc, v_g_bc], ['u_g_bc','v_g_bc'], [cmo.cm.dense, cmo.cm.matter]):\n",
    "    p = ax.pcolor(vel_g, cmap=cmaps)\n",
    "    fig.colorbar(p, ax = ax)\n",
    "    ax.invert_yaxis()\n",
    "    ax.set_title(ttl)"
   ]
  },
  {
   "cell_type": "markdown",
   "metadata": {},
   "source": [
    "# Total velocities\n",
    "\n",
    "$$u = u_g + u_E$$\n",
    "$$v = v_g + v_E$$"
   ]
  },
  {
   "cell_type": "code",
   "execution_count": 25,
   "metadata": {
    "collapsed": false
   },
   "outputs": [
    {
     "data": {
      "text/plain": [
       "((176,), (20, 237), (20, 237), (20, 237), (20, 237))"
      ]
     },
     "execution_count": 25,
     "metadata": {},
     "output_type": "execute_result"
    }
   ],
   "source": [
    "u_g.shape, u_g_bc.shape, u_E.shape, v_g_bc.shape, v_E.shape"
   ]
  },
  {
   "cell_type": "code",
   "execution_count": 26,
   "metadata": {
    "collapsed": true
   },
   "outputs": [],
   "source": [
    "u_tot = u_g_bc + u_E\n",
    "v_tot = v_g_bc + v_E"
   ]
  },
  {
   "cell_type": "code",
   "execution_count": 67,
   "metadata": {
    "collapsed": false
   },
   "outputs": [
    {
     "data": {
      "image/png": "[encoded data removed]",
      "text/plain": [
       "<matplotlib.figure.Figure at 0x7efefd69c710>"
      ]
     },
     "metadata": {},
     "output_type": "display_data"
    }
   ],
   "source": [
    "fig, (ax1, ax2) = plt.subplots(1,2,figsize=(20,5))\n",
    "for ax, vel_tot, ttl, cmaps in zip([ax1, ax2], [u_tot, v_tot], ['u_tot','v_tot'], [cmo.cm.dense, cmo.cm.matter]):\n",
    "    p = ax.pcolor(vel_tot, cmap=cmaps)\n",
    "    fig.colorbar(p, ax = ax)\n",
    "    ax.invert_yaxis()\n",
    "    ax.set_title(ttl)"
   ]
  },
  {
   "cell_type": "code",
   "execution_count": null,
   "metadata": {
    "collapsed": true
   },
   "outputs": [],
   "source": []
  }
 ],
 "metadata": {
  "kernelspec": {
   "display_name": "Python 3",
   "language": "python",
   "name": "python3"
  },
  "language_info": {
   "codemirror_mode": {
    "name": "ipython",
    "version": 3
   },
   "file_extension": ".py",
   "mimetype": "text/x-python",
   "name": "python",
   "nbconvert_exporter": "python",
   "pygments_lexer": "ipython3",
   "version": "3.5.0rc4"
  }
 },
 "nbformat": 4,
 "nbformat_minor": 0
}
