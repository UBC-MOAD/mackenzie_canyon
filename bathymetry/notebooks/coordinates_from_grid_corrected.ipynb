{
 "cells": [
  {
   "cell_type": "markdown",
   "metadata": {},
   "source": [
    "June: Using Michael's modules to calculate the coordinates and scaling factors from the raw grid."
   ]
  },
  {
   "cell_type": "code",
   "execution_count": 1,
   "metadata": {
    "collapsed": true
   },
   "outputs": [],
   "source": [
    "import scipy.io as sio\n",
    "import numpy as np\n",
    "import netCDF4 as nc\n",
    "import sys\n",
    "sys.path.append('/ocean/mdunphy/MEOPAR/analysis-michael/bathymetry/')\n",
    "import coordinates_helpers"
   ]
  },
  {
   "cell_type": "markdown",
   "metadata": {},
   "source": [
    "The functions in [coordinates_helpers.py](https://bitbucket.org/salishsea/analysis-michael/src/03a3976ec3d8c70868b384bd9bdc4bc408444f37/bathymetry/coordinates_helpers.py?at=default&fileviewer=file-view-default) are read into [coordinates_redo.py](https://bitbucket.org/salishsea/analysis-michael/src/03a3976ec3d8c70868b384bd9bdc4bc408444f37/bathymetry/coordinates_redo.py?at=default&fileviewer=file-view-default)."
   ]
  },
  {
   "cell_type": "code",
   "execution_count": 2,
   "metadata": {
    "collapsed": false
   },
   "outputs": [
    {
     "name": "stdout",
     "output_type": "stream",
     "text": [
      "Help on module coordinates_helpers:\n",
      "\n",
      "NAME\n",
      "    coordinates_helpers\n",
      "\n",
      "FUNCTIONS\n",
      "    expandi(lon, lat)\n",
      "    \n",
      "    expandj(lon, lat)\n",
      "    \n",
      "    gete1(lon, lat, expandleft=False)\n",
      "    \n",
      "    gete2(lon, lat, expanddown=False)\n",
      "    \n",
      "    haversine(lon1, lat1, lon2, lat2)\n",
      "        This is copied from salishsea_tools\n",
      "    \n",
      "    t2f(lont, latt)\n",
      "    \n",
      "    t2u(lont, latt)\n",
      "    \n",
      "    t2v(lont, latt)\n",
      "    \n",
      "    writecoords(fname, glamt, glamu, glamv, glamf, gphit, gphiu, gphiv, gphif, e1t, e1u, e1v, e1f, e2t, e2u, e2v, e2f)\n",
      "\n",
      "FILE\n",
      "    /ocean/mdunphy/MEOPAR/analysis-michael/bathymetry/coordinates_helpers.py\n",
      "\n",
      "\n"
     ]
    }
   ],
   "source": [
    "help(coordinates_helpers)"
   ]
  },
  {
   "cell_type": "markdown",
   "metadata": {},
   "source": [
    "Here I am looking at how the coordinates file was created for the Salish Sea.\n",
    "\n",
    "```python\n",
    "mfile = sio.loadmat('/ocean/mdunphy/MEOPAR/WORK/Coordinates-201702/seagrid_west_coast_1km_900x400_rot_new.mat')\n",
    "\n",
    "michael_lons = mfile['s'][0,0]['geographic_grids'][0,0]\n",
    "michael_lats = mfile['s'][0,0]['geographic_grids'][0,1]\n",
    "\n",
    "print(michael_lons, michael_lats)\n",
    "\n",
    "(array([[-123.42943248, -123.43197046, -123.43464085, ..., -126.40379914,\n",
    "         -126.40732828, -126.41091045],\n",
    "        [-123.4241149 , -123.42677215, -123.42948009, ..., -126.39801553,\n",
    "         -126.40145667, -126.40484899],\n",
    "        [-123.41879733, -123.42152316, -123.42427182, ..., -126.39224616,\n",
    "         -126.39563389, -126.39897786],\n",
    "        ..., \n",
    "        [-121.31303761, -121.31641017, -121.31978272, ..., -124.34068745,\n",
    "         -124.34393562, -124.34713086],\n",
    "        [-121.30772003, -121.31109299, -121.31446594, ..., -124.33616652,\n",
    "         -124.33945967, -124.34269022],\n",
    "        [-121.30240246, -121.30577581, -121.30914916, ..., -124.33167296,\n",
    "         -124.33504631, -124.33841967]]),\n",
    " array([[ 46.85966577,  46.86278736,  46.86607161, ...,  50.39395285,\n",
    "          50.39799966,  50.40210692],\n",
    "        [ 46.86154594,  46.86481399,  46.86814418, ...,  50.39604719,\n",
    "          50.40011363,  50.40422505],\n",
    "        [ 46.86342605,  46.86677822,  46.87015824, ...,  50.39811478,\n",
    "          50.4021822 ,  50.40627658],\n",
    "        ..., \n",
    "        [ 47.60277441,  47.60681867,  47.61086262, ...,  51.11017828,\n",
    "          51.11398796,  51.11781555],\n",
    "        [ 47.6046284 ,  47.60867287,  47.61271704, ...,  51.1117346 ,\n",
    "          51.11552856,  51.11934375],\n",
    "        [ 47.60648232,  47.61052701,  47.6145714 , ...,  51.11328145,\n",
    "          51.11704756,  51.12081337]]))\n",
    "          \n",
    "\n",
    "print(michael_lons.shape, michael_lats.shape)\n",
    "\n",
    "(401, 901) (401, 901)\n",
    "\n",
    "michael_glamt = np.transpose( michael_lons )\n",
    "michael_gphit = np.transpose( michael_lats )\n",
    "\n",
    "michael_glamt.shape, michael_gphit.shape\n",
    "((901, 401), (901, 401))\n",
    "\n",
    "```\n",
    "\n",
    "glamt and gphit (longitude and latitude) are in the shape (y, x) after being transposed. \n",
    "\n",
    "The code below is Michael's [coordinates_redo.py](https://bitbucket.org/salishsea/analysis-michael/src/03a3976ec3d8c70868b384bd9bdc4bc408444f37/bathymetry/coordinates_redo.py?at=default&fileviewer=file-view-default). My geographic grids are stored in an .nc file instead a .mat file. Also, my grids are in (x,y) format, so I will keep the transpose. I will also change the output slices since those numbers are specifically for the Salish Sea.\n",
    "\n",
    "But, first, I'll check the Mackenzie grid."
   ]
  },
  {
   "cell_type": "code",
   "execution_count": 3,
   "metadata": {
    "collapsed": false
   },
   "outputs": [
    {
     "data": {
      "text/plain": [
       "(483, 363)"
      ]
     },
     "execution_count": 3,
     "metadata": {},
     "output_type": "execute_result"
    }
   ],
   "source": [
    "grid_file = nc.Dataset('/ocean/imachuca/Canyons/mackenzie_canyon/coordinates/raw_coordinates/grid_quad.nc')\n",
    "\n",
    "mackenzie_lons = grid_file['grid_lons']\n",
    "mackenzie_lats = grid_file['grid_lats']\n",
    "\n",
    "mackenzie_lons.shape"
   ]
  },
  {
   "cell_type": "code",
   "execution_count": 4,
   "metadata": {
    "collapsed": false
   },
   "outputs": [
    {
     "data": {
      "text/plain": [
       "((363, 483), (363, 483))"
      ]
     },
     "execution_count": 4,
     "metadata": {},
     "output_type": "execute_result"
    }
   ],
   "source": [
    "glamt = np.transpose( mackenzie_lons )\n",
    "gphit = np.transpose( mackenzie_lats )\n",
    "\n",
    "glamt.shape, gphit.shape"
   ]
  },
  {
   "cell_type": "code",
   "execution_count": 5,
   "metadata": {
    "collapsed": true
   },
   "outputs": [],
   "source": [
    "from IPython import embed\n",
    "from coordinates_helpers import *\n",
    "import scipy.io as sio\n",
    "import netCDF4 as nc\n",
    "import numpy as np\n",
    "import datetime\n",
    "\n",
    "# This script rebuilds the coordinates file for SalishSea based on the\n",
    "# original seagrid output found in a .mat file in the NEMO_PREPARATION archive.\n",
    "#\n",
    "# We use the same grid points as in the original coordinates file, but\n",
    "# recompute the scaling factors because they were not correct in the\n",
    "# original file.\n",
    "#\n",
    "# For reference, the Arakawa-C grid looks like this:\n",
    "#           f---v---f---v---f  \n",
    "#           |       |       |\n",
    "#           u   T   u   T   u\n",
    "#           |       |       |\n",
    "#           f---v---f---v---f\n",
    "#\n",
    "\n",
    "# Load JP's original seagrid output, which are our T points\n",
    "# After transposing, the dimensions are 901x401 while SalishSea is 898x398.\n",
    "# We drop the last three in both dimensions when writing which gives us the\n",
    "# same grid as in the original coordinates file. However we keep the extra\n",
    "# points during the computations so we can get scaling factors at the right/top.\n",
    "\n",
    "#mfile = sio.loadmat('seagrid_west_coast_1km_900x400_rot_new.mat')\n",
    "#glamt = np.transpose( mfile['s'][0,0]['geographic_grids'][0,0] )\n",
    "#gphit = np.transpose( mfile['s'][0,0]['geographic_grids'][0,1] )\n",
    "\n",
    "# Compute the rest of the grid points\n",
    "glamu,gphiu = t2u(glamt,gphit)\n",
    "glamv,gphiv = t2v(glamt,gphit)\n",
    "glamf,gphif = t2f(glamt,gphit)\n",
    "\n",
    "# Compute scaling factors (with extrapolation for the left/bottom most scaling factor)\n",
    "#\n",
    "e1t = gete1(glamu,gphiu,expandleft=True)   # Need a left u point\n",
    "e1u = gete1(glamt,gphit)\n",
    "e1v = gete1(glamf,gphif,expandleft=True)   # Need a left f point\n",
    "e1f = gete1(glamv,gphiv)\n",
    "#\n",
    "e2t = gete2(glamv,gphiv,expanddown=True)   # Need a lower v point\n",
    "e2u = gete2(glamf,gphif,expanddown=True)   # Need a lower f point\n",
    "e2v = gete2(glamt,gphit)\n",
    "e2f = gete2(glamu,gphiu)"
   ]
  },
  {
   "cell_type": "markdown",
   "metadata": {},
   "source": [
    "I will also change this output slice number to y-3 and x-3 using the shape of glamt. This will give me a final output of (y-3, x-3) which matches the bathymetry shapes."
   ]
  },
  {
   "cell_type": "code",
   "execution_count": 6,
   "metadata": {
    "collapsed": false
   },
   "outputs": [
    {
     "data": {
      "text/plain": [
       "(360, 480)"
      ]
     },
     "execution_count": 6,
     "metadata": {},
     "output_type": "execute_result"
    }
   ],
   "source": [
    "output_slice_y = glamt.shape[0] - 3\n",
    "output_slice_x = glamt.shape[1] - 3\n",
    "\n",
    "output_slice_y, output_slice_x"
   ]
  },
  {
   "cell_type": "code",
   "execution_count": 7,
   "metadata": {
    "collapsed": true
   },
   "outputs": [],
   "source": [
    "# Output slices\n",
    "J,I = slice(0,output_slice_y), slice(0,output_slice_x)\n",
    "\n",
    "#\n",
    "filename = \"../../coordinates/NEMO_files/coords_quad.nc\"\n",
    "writecoords(filename,\n",
    "            glamt[J,I],glamu[J,I],glamv[J,I],glamf[J,I],\n",
    "            gphit[J,I],gphiu[J,I],gphiv[J,I],gphif[J,I],\n",
    "            e1t[J,I],e1u[J,I],e1v[J,I],e1f[J,I],\n",
    "            e2t[J,I],e2u[J,I],e2v[J,I],e2f[J,I])\n",
    "\n",
    "# Add note to history\n",
    "cnc = nc.Dataset(filename, 'r+')\n",
    "note ='[{}] Rebuilt with correct scaling factors (e1* and e2*)'\n",
    "cnc.setncattr('history', note.format(datetime.datetime.today().strftime('%Y-%m-%d')))\n",
    "cnc.close()"
   ]
  },
  {
   "cell_type": "code",
   "execution_count": 9,
   "metadata": {
    "collapsed": false
   },
   "outputs": [
    {
     "name": "stdout",
     "output_type": "stream",
     "text": [
      "coords_01.nc  coords_02.nc  coords_quad.nc\r\n"
     ]
    }
   ],
   "source": [
    "! ls ../../coordinates/NEMO_files/"
   ]
  },
  {
   "cell_type": "code",
   "execution_count": 12,
   "metadata": {
    "collapsed": false
   },
   "outputs": [
    {
     "data": {
      "text/plain": [
       "<class 'netCDF4._netCDF4.Dataset'>\n",
       "root group (NETCDF4 data model, file format HDF5):\n",
       "    history: [2017-06-28] Rebuilt with correct scaling factors (e1* and e2*)\n",
       "    dimensions(sizes): x(480), y(360), time(1)\n",
       "    variables(dimensions): float32 \u001b[4mnav_lon\u001b[0m(y,x), float32 \u001b[4mnav_lat\u001b[0m(y,x), float32 \u001b[4mtime\u001b[0m(time), float64 \u001b[4mglamt\u001b[0m(time,y,x), float64 \u001b[4mglamu\u001b[0m(time,y,x), float64 \u001b[4mglamv\u001b[0m(time,y,x), float64 \u001b[4mglamf\u001b[0m(time,y,x), float64 \u001b[4mgphit\u001b[0m(time,y,x), float64 \u001b[4mgphiu\u001b[0m(time,y,x), float64 \u001b[4mgphiv\u001b[0m(time,y,x), float64 \u001b[4mgphif\u001b[0m(time,y,x), float64 \u001b[4me1t\u001b[0m(time,y,x), float64 \u001b[4me1u\u001b[0m(time,y,x), float64 \u001b[4me1v\u001b[0m(time,y,x), float64 \u001b[4me1f\u001b[0m(time,y,x), float64 \u001b[4me2t\u001b[0m(time,y,x), float64 \u001b[4me2u\u001b[0m(time,y,x), float64 \u001b[4me2v\u001b[0m(time,y,x), float64 \u001b[4me2f\u001b[0m(time,y,x)\n",
       "    groups: "
      ]
     },
     "execution_count": 12,
     "metadata": {},
     "output_type": "execute_result"
    }
   ],
   "source": [
    "new_coords_file = nc.Dataset('../../coordinates/NEMO_files/coords_quad.nc')\n",
    "new_coords_file"
   ]
  },
  {
   "cell_type": "code",
   "execution_count": null,
   "metadata": {
    "collapsed": true
   },
   "outputs": [],
   "source": []
  }
 ],
 "metadata": {
  "kernelspec": {
   "display_name": "Python 3",
   "language": "python",
   "name": "python3"
  },
  "language_info": {
   "codemirror_mode": {
    "name": "ipython",
    "version": 3
   },
   "file_extension": ".py",
   "mimetype": "text/x-python",
   "name": "python",
   "nbconvert_exporter": "python",
   "pygments_lexer": "ipython3",
   "version": "3.5.0rc4"
  }
 },
 "nbformat": 4,
 "nbformat_minor": 0
}
