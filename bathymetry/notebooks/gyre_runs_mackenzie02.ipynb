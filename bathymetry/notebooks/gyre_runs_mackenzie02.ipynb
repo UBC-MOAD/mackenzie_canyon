{
 "cells": [
  {
   "cell_type": "markdown",
   "metadata": {},
   "source": [
    "November: Part 3 - This notebook is a continuation of gyre_runs.ipynb and gyre_runs_mackenzie01. It uses the bathymetries and grid created in final_bathymetry.ipynb. The configuration used to produce these results is gyre_mackenzie02."
   ]
  },
  {
   "cell_type": "markdown",
   "metadata": {
    "collapsed": true
   },
   "source": [
    "## Summary\n",
    "\n",
    "\n",
    "* cp_cfg\n",
    "* bathy_meter.nc and coordinates.nc\n",
    "* nn_bathy = 1 (0 for compute)\n",
    "* jphgr_msh = 0 (5 for gyre)\n",
    "* jperio = 1 (cyclic)\n",
    "* ln_zco, ln_zps\n",
    "* jpidta = jpiglo, jpjdta = jpjglo, jpkdta \n",
    "\n",
    "\n",
    "|Parameter    |Run01 (Id)|\n",
    "|-------------|----------|\n",
    "|ln_bt_nn_auto|False     |\n",
    "|rn_rdt       |20        |\n",
    "|nn_baro      |4         |\n",
    "|rn_bt_cmax   |0.13      |\n",
    "|nn_itend     |2160 (12h)|\n",
    "|nn_write     |360 (2h)  |\n",
    "|nn_tau000    |540 (3h)  |\n",
    "|rn_utau0     |5.0       |\n",
    "|rn_vtau0     |5.0       ||\n",
    "\n"
   ]
  },
  {
   "cell_type": "code",
   "execution_count": null,
   "metadata": {
    "collapsed": true
   },
   "outputs": [],
   "source": []
  }
 ],
 "metadata": {
  "kernelspec": {
   "display_name": "Python 3",
   "language": "python",
   "name": "python3"
  },
  "language_info": {
   "codemirror_mode": {
    "name": "ipython",
    "version": 3
   },
   "file_extension": ".py",
   "mimetype": "text/x-python",
   "name": "python",
   "nbconvert_exporter": "python",
   "pygments_lexer": "ipython3",
   "version": "3.5.0rc4"
  }
 },
 "nbformat": 4,
 "nbformat_minor": 0
}
