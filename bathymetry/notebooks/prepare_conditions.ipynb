{
 "cells": [
  {
   "cell_type": "code",
   "execution_count": 1,
   "metadata": {
    "collapsed": true
   },
   "outputs": [],
   "source": [
    "import scipy.io as sio\n",
    "import numpy as np\n",
    "import datetime"
   ]
  },
  {
   "cell_type": "code",
   "execution_count": 2,
   "metadata": {
    "collapsed": true
   },
   "outputs": [],
   "source": [
    "ts_data = sio.loadmat('canyonTSdata.mat')"
   ]
  },
  {
   "cell_type": "code",
   "execution_count": 21,
   "metadata": {
    "collapsed": false
   },
   "outputs": [
    {
     "data": {
      "text/plain": [
       "((21,),\n",
       " (21,),\n",
       " (21,),\n",
       " (21,),\n",
       " (3565, 21),\n",
       " (3565, 21),\n",
       " (3565, 21),\n",
       " -257.20586466524043)"
      ]
     },
     "execution_count": 21,
     "metadata": {},
     "output_type": "execute_result"
    }
   ],
   "source": [
    "longitude = ts_data['loncanyon'][0]\n",
    "latitude = ts_data['latcanyon'][0]\n",
    "year = ts_data['yrcanyon'][0]\n",
    "day = ts_data['daycanyon'][0]\n",
    "con_temp = ts_data['tempcanyon']\n",
    "abs_salt = ts_data['salcanyon']\n",
    "depth = ts_data['depthcanyon']\n",
    "\n",
    "latitude.shape, longitude.shape, year.shape, day.shape, con_temp.shape, abs_salt.shape, depth.shape, np.nanmin(depth)"
   ]
  },
  {
   "cell_type": "code",
   "execution_count": 33,
   "metadata": {
    "collapsed": false
   },
   "outputs": [
    {
     "data": {
      "text/plain": [
       "'July 05 2004'"
      ]
     },
     "execution_count": 33,
     "metadata": {},
     "output_type": "execute_result"
    }
   ],
   "source": [
    "(datetime.datetime(year[0], 1, 1) + datetime.timedelta(day[0] - 1)).strftime('%B %d %Y')"
   ]
  },
  {
   "cell_type": "code",
   "execution_count": null,
   "metadata": {
    "collapsed": true
   },
   "outputs": [],
   "source": []
  }
 ],
 "metadata": {
  "kernelspec": {
   "display_name": "Python 3",
   "language": "python",
   "name": "python3"
  },
  "language_info": {
   "codemirror_mode": {
    "name": "ipython",
    "version": 3
   },
   "file_extension": ".py",
   "mimetype": "text/x-python",
   "name": "python",
   "nbconvert_exporter": "python",
   "pygments_lexer": "ipython3",
   "version": "3.5.0rc4"
  }
 },
 "nbformat": 4,
 "nbformat_minor": 0
}
