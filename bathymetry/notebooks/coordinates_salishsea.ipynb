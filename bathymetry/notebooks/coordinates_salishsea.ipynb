{
 "cells": [
  {
   "cell_type": "markdown",
   "metadata": {},
   "source": [
    "May 17: Examining the coordinates file used for the NEMO configuration of the Salish Sea."
   ]
  },
  {
   "cell_type": "code",
   "execution_count": 21,
   "metadata": {
    "collapsed": true
   },
   "outputs": [],
   "source": [
    "import netCDF4 as nc\n",
    "import matplotlib.pyplot as plt\n",
    "%matplotlib inline"
   ]
  },
  {
   "cell_type": "markdown",
   "metadata": {},
   "source": [
    "\"NEMO has the file names of the coordinates and bathymetry files hard-coded as coordinates.nc and bathy_meter.nc so the files used for a particular run-set need to be copied or symlinked to those names.\"\n",
    "\n",
    "http://salishsea-meopar-docs.readthedocs.io/en/latest/code-notes/salishsea-nemo/nemo-forcing/repo.html#repo-contents"
   ]
  },
  {
   "cell_type": "code",
   "execution_count": 4,
   "metadata": {
    "collapsed": false
   },
   "outputs": [],
   "source": [
    "coord_file = nc.Dataset('/ocean/imachuca/NEMO-forcing/grid/coordinates_seagrid_SalishSea.nc')"
   ]
  },
  {
   "cell_type": "code",
   "execution_count": 5,
   "metadata": {
    "collapsed": false
   },
   "outputs": [
    {
     "data": {
      "text/plain": [
       "<class 'netCDF4._netCDF4.Dataset'>\n",
       "root group (NETCDF3_CLASSIC data model, file format NETCDF3):\n",
       "    dimensions(sizes): x(398), y(898), time(1)\n",
       "    variables(dimensions): float32 \u001b[4mnav_lon\u001b[0m(y,x), float32 \u001b[4mnav_lat\u001b[0m(y,x), float32 \u001b[4mtime\u001b[0m(time), int32 \u001b[4mtime_steps\u001b[0m(time), float64 \u001b[4mglamt\u001b[0m(time,y,x), float64 \u001b[4mglamu\u001b[0m(time,y,x), float64 \u001b[4mglamv\u001b[0m(time,y,x), float64 \u001b[4mglamf\u001b[0m(time,y,x), float64 \u001b[4mgphit\u001b[0m(time,y,x), float64 \u001b[4mgphiu\u001b[0m(time,y,x), float64 \u001b[4mgphiv\u001b[0m(time,y,x), float64 \u001b[4mgphif\u001b[0m(time,y,x), float64 \u001b[4me1t\u001b[0m(time,y,x), float64 \u001b[4me1u\u001b[0m(time,y,x), float64 \u001b[4me1v\u001b[0m(time,y,x), float64 \u001b[4me1f\u001b[0m(time,y,x), float64 \u001b[4me2t\u001b[0m(time,y,x), float64 \u001b[4me2u\u001b[0m(time,y,x), float64 \u001b[4me2v\u001b[0m(time,y,x), float64 \u001b[4me2f\u001b[0m(time,y,x)\n",
       "    groups: "
      ]
     },
     "execution_count": 5,
     "metadata": {},
     "output_type": "execute_result"
    }
   ],
   "source": [
    "coord_file"
   ]
  },
  {
   "cell_type": "markdown",
   "metadata": {},
   "source": [
    "**glam** - longitude and **gphi** - latitude"
   ]
  },
  {
   "cell_type": "code",
   "execution_count": 30,
   "metadata": {
    "collapsed": false
   },
   "outputs": [
    {
     "name": "stdout",
     "output_type": "stream",
     "text": [
      "<class 'netCDF4._netCDF4.Variable'>\n",
      "float32 nav_lon(y, x)\n",
      "    units: degrees_east\n",
      "    comment: at t points\n",
      "unlimited dimensions: \n",
      "current shape = (898, 398)\n",
      "filling off\n",
      "\n",
      "<class 'netCDF4._netCDF4.Variable'>\n",
      "float32 nav_lat(y, x)\n",
      "    units: degrees_north\n",
      "    comment: at t points\n",
      "unlimited dimensions: \n",
      "current shape = (898, 398)\n",
      "filling off\n",
      "\n",
      "<class 'netCDF4._netCDF4.Variable'>\n",
      "float32 time(time)\n",
      "    units: seconds since 0001-01-01 00:00:00\n",
      "    time_origin: 0000-JAN-01 00:00:00\n",
      "    calendar: gregorian\n",
      "unlimited dimensions: time\n",
      "current shape = (1,)\n",
      "filling off\n",
      "\n",
      "<class 'netCDF4._netCDF4.Variable'>\n",
      "float64 glamu(time, y, x)\n",
      "    missing_value: 1e+20\n",
      "unlimited dimensions: time\n",
      "current shape = (1, 898, 398)\n",
      "filling off\n",
      "\n",
      "<class 'netCDF4._netCDF4.Variable'>\n",
      "float64 gphiu(time, y, x)\n",
      "    missing_value: 1e+20\n",
      "unlimited dimensions: time\n",
      "current shape = (1, 898, 398)\n",
      "filling off\n",
      "\n"
     ]
    }
   ],
   "source": [
    "all_vars = ['nav_lon','nav_lat', 'time', 'glamu', 'gphiu']\n",
    "\n",
    "for var in all_vars:\n",
    "    print(coord_file.variables[var])"
   ]
  },
  {
   "cell_type": "code",
   "execution_count": 36,
   "metadata": {
    "collapsed": false
   },
   "outputs": [
    {
     "data": {
      "text/plain": [
       "array([[-123.42677369, -123.42145612, -123.41613854, ..., -121.32633155,\n",
       "        -121.32101397, -121.3156964 ],\n",
       "       [-123.42937131, -123.42414766, -123.41888726, ..., -121.32970311,\n",
       "        -121.32438593, -121.31906875],\n",
       "       [-123.43206047, -123.42687595, -123.42165337, ..., -121.33307467,\n",
       "        -121.32775789, -121.32244111],\n",
       "       ..., \n",
       "       [-126.39047305, -126.38481236, -126.37915226, ..., -124.34239023,\n",
       "        -124.3377412 , -124.33310475],\n",
       "       [-126.39394632, -126.38825637, -126.38256931, ..., -124.345655  ,\n",
       "        -124.34102343, -124.33640833],\n",
       "       [-126.39742443, -126.39169748, -126.38597827, ..., -124.34890314,\n",
       "        -124.3442892 , -124.33969702]])"
      ]
     },
     "execution_count": 36,
     "metadata": {},
     "output_type": "execute_result"
    }
   ],
   "source": [
    "coord_file.variables['glamu'][:][0]"
   ]
  },
  {
   "cell_type": "code",
   "execution_count": 37,
   "metadata": {
    "collapsed": false
   },
   "outputs": [
    {
     "data": {
      "text/plain": [
       "array([[ 46.86060586,  46.86248599,  46.86436606, ...,  47.59813914,\n",
       "         47.59999329,  47.60184738],\n",
       "       [ 46.86380068,  46.86579611,  46.86774626, ...,  47.60218286,\n",
       "         47.60403723,  47.60589153],\n",
       "       [ 46.86710789,  46.86915121,  46.87114763, ...,  47.60622626,\n",
       "         47.60808085,  47.60993537],\n",
       "       ..., \n",
       "       [ 50.38294466,  50.38499893,  50.38704278, ...,  51.09480454,\n",
       "         51.09640584,  51.09800275],\n",
       "       [ 50.38695017,  50.38901212,  50.39106094, ...,  51.09861007,\n",
       "         51.10020511,  51.10179442],\n",
       "       [ 50.39096711,  50.39303804,  50.39509149, ...,  51.10242101,\n",
       "         51.10400973,  51.10559091]])"
      ]
     },
     "execution_count": 37,
     "metadata": {},
     "output_type": "execute_result"
    }
   ],
   "source": [
    "coord_file.variables['gphiu'][:][0]"
   ]
  },
  {
   "cell_type": "markdown",
   "metadata": {},
   "source": [
    "**Manual 3.6 pg 54**: In a horizontal plane, the location of all the model grid points is defined from\n",
    "the analytical expressions of the longitude $\\lambda$ and latitude $\\phi$ as a function of (i, j).\n",
    "The horizontal scale factors are calculated using (2.6). For example, when the longitude\n",
    "and latitude are function of a single value (i and j, respectively) (geographical\n",
    "configuration of the mesh), the horizontal mesh definition reduces to define the\n",
    "wanted $\\lambda$(i), $\\phi$(j), and their derivatives $\\lambda$'(i) $\\phi$'(j) in the domhgr.F90 module. The\n",
    "model computes the grid-point positions and scale factors in the horizontal plane\n",
    "as follows :"
   ]
  },
  {
   "cell_type": "code",
   "execution_count": null,
   "metadata": {
    "collapsed": true
   },
   "outputs": [],
   "source": []
  }
 ],
 "metadata": {
  "kernelspec": {
   "display_name": "Python 3",
   "language": "python",
   "name": "python3"
  },
  "language_info": {
   "codemirror_mode": {
    "name": "ipython",
    "version": 3
   },
   "file_extension": ".py",
   "mimetype": "text/x-python",
   "name": "python",
   "nbconvert_exporter": "python",
   "pygments_lexer": "ipython3",
   "version": "3.5.0rc4"
  }
 },
 "nbformat": 4,
 "nbformat_minor": 0
}
