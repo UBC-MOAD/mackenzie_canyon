{
 "cells": [
  {
   "cell_type": "markdown",
   "metadata": {},
   "source": [
    "August: Bathymetry for shelf and slope without canyon. Function moved to tools and implemented in final_bathymetry."
   ]
  },
  {
   "cell_type": "code",
   "execution_count": 1,
   "metadata": {
    "collapsed": true
   },
   "outputs": [],
   "source": [
    "import scipy as sc, scipy.io\n",
    "import numpy as np\n",
    "import matplotlib.cm as cm\n",
    "import cmocean as cmo\n",
    "import matplotlib.pyplot as plt\n",
    "%matplotlib inline\n",
    "\n",
    "import sys\n",
    "sys.path.append('/ocean/imachuca/Canyons/mackenzie_canyon/tools/')\n",
    "import functions_idealized\n",
    "import functions_grid\n",
    "import functions_realistic\n",
    "import functions_plot\n",
    "\n",
    "from netCDF4 import Dataset"
   ]
  },
  {
   "cell_type": "code",
   "execution_count": 2,
   "metadata": {
    "collapsed": true
   },
   "outputs": [],
   "source": [
    "x_final =  258\n",
    "y_final =  int(0.75 * x_final)\n",
    "\n",
    "extension_m = 90000#108061\n",
    "\n",
    "smooth_factor = 0.2\n",
    "max_norm_depth_diff = 0.70834736504\n",
    "\n",
    "search_x = [-1000000, -1450000, -1750000, -1400000]"
   ]
  },
  {
   "cell_type": "code",
   "execution_count": 3,
   "metadata": {
    "collapsed": false
   },
   "outputs": [
    {
     "name": "stdout",
     "output_type": "stream",
     "text": [
      "dx (distance between the corner southern point and its neighbour) [km]: 2.01291837407\n",
      "dx2 (distance between the corner northern point and its neighbour) [km]: 2.00921328005\n"
     ]
    }
   ],
   "source": [
    "# real world dimensions\n",
    "x_wall, y_wall, fluid_depth = functions_idealized.base_measurements()\n",
    "\n",
    "# stere corners\n",
    "lon_s_corners_can, lat_s_corners_can = functions_grid.match_domain(x_wall, y_wall, search_x)\n",
    "\n",
    "# extension\n",
    "x_wall_ext = x_wall + extension_m\n",
    "\n",
    "# stere corners + extension\n",
    "lon_s_corners, lat_s_corners = functions_grid.match_domain(x_wall_ext, y_wall, search_x)\n",
    "\n",
    "# geog corners\n",
    "lon_g_corners, lat_g_corners = functions_grid.transform_coords(lon_s_corners, lat_s_corners, 'SG')\n",
    "\n",
    "# southern points\n",
    "lonW, latW, lonE, latE = functions_grid.get_southern_points(lon_g_corners, lat_g_corners)\n",
    "\n",
    "# geog grid\n",
    "lon_g_grid, lat_g_grid = functions_grid.create_grid(x_final, y_final, lonW, latW, lonE, latE)\n",
    "\n",
    "# stere grid\n",
    "lon_s_grid, lat_s_grid = functions_grid.transform_coords(lon_g_grid, lat_g_grid, 'GS')"
   ]
  },
  {
   "cell_type": "code",
   "execution_count": 4,
   "metadata": {
    "collapsed": true
   },
   "outputs": [],
   "source": [
    "x_wall, y_wall = functions_idealized.extended_measurements(lon_s_grid, lat_s_grid)\n",
    "\n",
    "x_wall, y_wall, w_break, w_mid, w_head, cR, L, p,\\\n",
    "y_coast, y_head, y_break, y_pointA, y_pointB, y_paral, y_base, fluid_depth,\\\n",
    "z_bottom, z_paral, z_pointA, z_pointB, z_break, z_coast = functions_idealized.Mackenzie_measurements(x_wall, y_wall)"
   ]
  },
  {
   "cell_type": "code",
   "execution_count": 5,
   "metadata": {
    "collapsed": true
   },
   "outputs": [],
   "source": [
    "xsize, ysize = x_final-2, y_final-2\n",
    "\n",
    "x, y, y_edge, X, Y = functions_idealized.set_domain_grid(xsize, ysize, x_wall, y_wall)\n",
    "\n",
    "z_ideal = functions_idealized.make_topo_smooth(y_edge, y_base, y_paral, y_pointA, y_pointB, y_break, y_head, y_coast,\n",
    "                                               cR, L, p, x, x_wall, w_break, w_mid, w_head,\n",
    "                                               fluid_depth, z_bottom, z_paral, z_pointA, z_pointB, z_break, z_coast)"
   ]
  },
  {
   "cell_type": "code",
   "execution_count": 17,
   "metadata": {
    "collapsed": true
   },
   "outputs": [],
   "source": [
    "def make_no_canyon(y, y_base, y_break, y_coast, x, x_wall, fluid_depth, z_bottom, z_break, z_coast):\n",
    "    \n",
    "    ''' This function returns the depth field of the continental slope and\n",
    "    shelf with a sech-shaped canyon. It uses the functions tanktopo,\n",
    "    canyontopo, and widthprofile.\n",
    "    \n",
    "    :arg y: Array of cross-shore distances\n",
    "    :arg y_base: Distance to the base of the continental slope\n",
    "    :arg y_break: Distance to the shelf break\n",
    "    :arg y_coast: Distance beyond y_head where shelf flattens\n",
    "    :arg x: Array of alongshore distances\n",
    "    :arg x_wall: Width of the Domain\n",
    "    :arg fluid_depth: Total height of the fluid in the domain.\n",
    "    :arg z_bottom: Depth of the deep ocean (measured upward)\n",
    "    :arg z_break: Depth of the shelf break (measured upward)\n",
    "    :arg z_coast: Depth of shelf beyond y_coast (measured upward)\n",
    "    '''\n",
    "    \n",
    "    # Topography without the canyon\n",
    "    slope_profile = functions_idealized.tanktopo(y, y_base, y_break, y_coast, fluid_depth, z_bottom, z_break, z_coast)\n",
    "    \n",
    "    #canyon_profile = canyontopo(y, y_base, y_paral, y_pointA, y_pointB, y_head, y_coast,\n",
    "    #                            fluid_depth, z_bottom, z_paral, z_pointA, z_pointB, z_break, z_coast)\n",
    "  \n",
    "    # Slope of the canyon as well as the shape\n",
    "    #width_profile = widthprofile(y, y_base, y_head, y_coast, cR, L, p, w_break, w_mid, w_head)\n",
    "  \n",
    "    # Depth of the canyon (negative values set to zero)\n",
    "    #canyondepth = slope_profile - canyon_profile\n",
    "    canyondepth = slope_profile\n",
    "  \n",
    "    #canyondepth[canyondepth < 0] = 0\n",
    "  \n",
    "    # Sech shaped canyon\n",
    "    topography = np.zeros((len(y),len(x)))\n",
    "    for j in np.arange(len(x)):\n",
    "        #topography[:,j] = (slope_profile - canyondepth * \n",
    "        #                   (1.0 / (np.cosh(0.5 / width_profile * (x[j] - (0.5 * x_wall))))**50))\n",
    "        topography[:,j] = slope_profile\n",
    "    topo = -1* topography[0:-1, :]\n",
    "    topo = np.fliplr(np.rot90(topo, 2))\n",
    "   \n",
    "    return topo"
   ]
  },
  {
   "cell_type": "code",
   "execution_count": 22,
   "metadata": {
    "collapsed": false
   },
   "outputs": [
    {
     "data": {
      "text/plain": [
       "(189, 255)"
      ]
     },
     "execution_count": 22,
     "metadata": {},
     "output_type": "execute_result"
    }
   ],
   "source": [
    "z_no_canyon = make_no_canyon(y, y_base, y_break, y_coast, x, x_wall, fluid_depth, z_bottom, z_break, z_coast)\n",
    "z_no_canyon.shape"
   ]
  },
  {
   "cell_type": "code",
   "execution_count": 37,
   "metadata": {
    "collapsed": false
   },
   "outputs": [
    {
     "data": {
      "text/plain": [
       "<matplotlib.contour.QuadContourSet at 0x7f694cbbb1d0>"
      ]
     },
     "execution_count": 37,
     "metadata": {},
     "output_type": "execute_result"
    },
    {
     "data": {
      "image/png": "[encoded data removed]",
      "text/plain": [
       "<matplotlib.figure.Figure at 0x7f694da06a20>"
      ]
     },
     "metadata": {},
     "output_type": "display_data"
    }
   ],
   "source": [
    "fig, (ax1, ax2, ax3) = plt.subplots(1, 3, figsize=(20,6))\n",
    "c1 = ax1.contour(z_ideal, levels = [0, 40, 80, 800, 1299], colors='w', linewidths=1.5)\n",
    "ax1.pcolor(z_ideal, cmap=cm.Spectral_r)\n",
    "c2 = ax2.contour(z_no_canyon, levels = [0, 40, 80, 800, 1299], colors='w', linewidths=1.5)\n",
    "ax2.pcolor(z_no_canyon, cmap=cm.Spectral_r)\n",
    "ax1.clabel(c1, inline=1, fontsize=10)\n",
    "ax2.clabel(c2, inline=1, fontsize=10)\n",
    "ax3.contour(z_ideal, levels = [0, 40, 80, 800, 1299], colors='Navy', linewidths=1.5)\n",
    "ax3.contour(z_no_canyon, levels = [0, 40, 80, 800, 1299], colors='r', linewidths=1.5)\n"
   ]
  }
 ],
 "metadata": {
  "kernelspec": {
   "display_name": "Python 3",
   "language": "python",
   "name": "python3"
  },
  "language_info": {
   "codemirror_mode": {
    "name": "ipython",
    "version": 3
   },
   "file_extension": ".py",
   "mimetype": "text/x-python",
   "name": "python",
   "nbconvert_exporter": "python",
   "pygments_lexer": "ipython3",
   "version": "3.5.0rc4"
  }
 },
 "nbformat": 4,
 "nbformat_minor": 0
}
