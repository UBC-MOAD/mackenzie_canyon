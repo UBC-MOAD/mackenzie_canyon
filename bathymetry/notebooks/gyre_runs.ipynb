{
 "cells": [
  {
   "cell_type": "markdown",
   "metadata": {},
   "source": [
    "May 9: Results of the original GYRE configuration, bathymetry and coordinates for a new gyre configuration, notes on using partial steps for new configuration."
   ]
  },
  {
   "cell_type": "markdown",
   "metadata": {},
   "source": [
    "The new gyre configuration **attempt1** uses the original coordinates (lon/lat/time), grid points (glam/gphi) and scaling factors (e1/e2). This information is taken from mmask and inputted into a new NETCDF file. The file name refers to the rectangular simple bathymetry that is used, but is renamed elsewhere as \"bathy_meter.nc\" and \"coordinates.nc\" for NEMO."
   ]
  },
  {
   "cell_type": "code",
   "execution_count": 1,
   "metadata": {
    "collapsed": false
   },
   "outputs": [],
   "source": [
    "import netCDF4 as nc\n",
    "import numpy as np\n",
    "from netCDF4 import Dataset\n",
    "import time\n",
    "import matplotlib.pyplot as plt\n",
    "import matplotlib.cm as cm\n",
    "from mpl_toolkits.mplot3d import Axes3D\n",
    "import matplotlib.animation as animation\n",
    "%matplotlib inline"
   ]
  },
  {
   "cell_type": "markdown",
   "metadata": {},
   "source": [
    "### GYRE Information"
   ]
  },
  {
   "cell_type": "code",
   "execution_count": 2,
   "metadata": {
    "collapsed": false
   },
   "outputs": [],
   "source": [
    "testT = nc.Dataset('/ocean/imachuca/NEMO-3.6-code/NEMOGCM/CONFIG/GYRE_Test/EXP00/GYRE_5d_00010101_00011230_grid_T.nc')\n",
    "testU = nc.Dataset('/ocean/imachuca/NEMO-3.6-code/NEMOGCM/CONFIG/GYRE_Test/EXP00/GYRE_5d_00010101_00011230_grid_U.nc')\n",
    "testV = nc.Dataset('/ocean/imachuca/NEMO-3.6-code/NEMOGCM/CONFIG/GYRE_Test/EXP00/GYRE_5d_00010101_00011230_grid_V.nc')\n",
    "testW = nc.Dataset('/ocean/imachuca/NEMO-3.6-code/NEMOGCM/CONFIG/GYRE_Test/EXP00/GYRE_5d_00010101_00011230_grid_W.nc')\n",
    "mmask = nc.Dataset('/ocean/imachuca/NEMO-3.6-code/NEMOGCM/CONFIG/GYRE_Test/EXP00/mesh_mask.nc')"
   ]
  },
  {
   "cell_type": "code",
   "execution_count": 3,
   "metadata": {
    "collapsed": false
   },
   "outputs": [
    {
     "data": {
      "text/plain": [
       "<class 'netCDF4._netCDF4.Dataset'>\n",
       "root group (NETCDF3_64BIT data model, file format NETCDF3):\n",
       "    DOMAIN_number_total: 1\n",
       "    DOMAIN_number: 0\n",
       "    DOMAIN_dimensions_ids: [1 2]\n",
       "    DOMAIN_size_global: [32 22]\n",
       "    DOMAIN_size_local: [32 22]\n",
       "    DOMAIN_position_first: [1 1]\n",
       "    DOMAIN_position_last: [32 22]\n",
       "    DOMAIN_halo_size_start: [0 0]\n",
       "    DOMAIN_halo_size_end: [0 0]\n",
       "    DOMAIN_type: BOX\n",
       "    dimensions(sizes): x(32), y(22), z(31), t(1)\n",
       "    variables(dimensions): float32 \u001b[4mnav_lon\u001b[0m(y,x), float32 \u001b[4mnav_lat\u001b[0m(y,x), float32 \u001b[4mnav_lev\u001b[0m(z), float64 \u001b[4mtime_counter\u001b[0m(t), int8 \u001b[4mtmask\u001b[0m(t,z,y,x), int8 \u001b[4mumask\u001b[0m(t,z,y,x), int8 \u001b[4mvmask\u001b[0m(t,z,y,x), int8 \u001b[4mfmask\u001b[0m(t,z,y,x), int8 \u001b[4mtmaskutil\u001b[0m(t,y,x), int8 \u001b[4mumaskutil\u001b[0m(t,y,x), int8 \u001b[4mvmaskutil\u001b[0m(t,y,x), int8 \u001b[4mfmaskutil\u001b[0m(t,y,x), float32 \u001b[4mglamt\u001b[0m(t,y,x), float32 \u001b[4mglamu\u001b[0m(t,y,x), float32 \u001b[4mglamv\u001b[0m(t,y,x), float32 \u001b[4mglamf\u001b[0m(t,y,x), float32 \u001b[4mgphit\u001b[0m(t,y,x), float32 \u001b[4mgphiu\u001b[0m(t,y,x), float32 \u001b[4mgphiv\u001b[0m(t,y,x), float32 \u001b[4mgphif\u001b[0m(t,y,x), float64 \u001b[4me1t\u001b[0m(t,y,x), float64 \u001b[4me1u\u001b[0m(t,y,x), float64 \u001b[4me1v\u001b[0m(t,y,x), float64 \u001b[4me1f\u001b[0m(t,y,x), float64 \u001b[4me2t\u001b[0m(t,y,x), float64 \u001b[4me2u\u001b[0m(t,y,x), float64 \u001b[4me2v\u001b[0m(t,y,x), float64 \u001b[4me2f\u001b[0m(t,y,x), float64 \u001b[4mff\u001b[0m(t,y,x), int16 \u001b[4mmbathy\u001b[0m(t,y,x), int16 \u001b[4mmisf\u001b[0m(t,y,x), float32 \u001b[4misfdraft\u001b[0m(t,y,x), float64 \u001b[4mgdept_1d\u001b[0m(t,z), float64 \u001b[4mgdepw_1d\u001b[0m(t,z), float64 \u001b[4me3t_1d\u001b[0m(t,z), float64 \u001b[4me3w_1d\u001b[0m(t,z)\n",
       "    groups: "
      ]
     },
     "execution_count": 3,
     "metadata": {},
     "output_type": "execute_result"
    }
   ],
   "source": [
    "mmask"
   ]
  },
  {
   "cell_type": "code",
   "execution_count": 4,
   "metadata": {
    "collapsed": false
   },
   "outputs": [],
   "source": [
    "lt = mmask.variables['glamt']\n",
    "lu = mmask.variables['glamu']\n",
    "lv = mmask.variables['glamv']\n",
    "lf = mmask.variables['glamf']\n",
    "\n",
    "pt = mmask.variables['gphit']\n",
    "pu = mmask.variables['gphiu']\n",
    "pv = mmask.variables['gphiv']\n",
    "pf = mmask.variables['gphif']\n",
    "\n",
    "t1 = mmask.variables['e1t']\n",
    "u1 = mmask.variables['e1u']\n",
    "v1 = mmask.variables['e1v']\n",
    "f1 = mmask.variables['e1f']\n",
    "\n",
    "t2 = mmask.variables['e2t']\n",
    "u2 = mmask.variables['e2u']\n",
    "v2 = mmask.variables['e2v']\n",
    "f2 = mmask.variables['e2f']"
   ]
  },
  {
   "cell_type": "code",
   "execution_count": 5,
   "metadata": {
    "collapsed": false
   },
   "outputs": [
    {
     "data": {
      "text/plain": [
       "(1, 22, 32)"
      ]
     },
     "execution_count": 5,
     "metadata": {},
     "output_type": "execute_result"
    }
   ],
   "source": [
    "f2.shape"
   ]
  },
  {
   "cell_type": "markdown",
   "metadata": {},
   "source": [
    "GYRE structure (t, z, y, x) = (72, 31, 22, 32)"
   ]
  },
  {
   "cell_type": "code",
   "execution_count": 6,
   "metadata": {
    "collapsed": false
   },
   "outputs": [],
   "source": [
    "tem = testT.variables['votemper']\n",
    "sal = testT.variables['vosaline']\n",
    "ssh = testT.variables['sossheig']\n",
    "U = testU.variables['vozocrtx']\n",
    "V = testV.variables['vomecrty']\n",
    "W = testW.variables['vovecrtz']\n",
    "lon = mmask.variables['nav_lon']\n",
    "lat = mmask.variables['nav_lat']\n",
    "dep = testT.variables['deptht']"
   ]
  },
  {
   "cell_type": "markdown",
   "metadata": {},
   "source": [
    "The bathymetry used in the gyre run is rectangular with a 1-cell coastline going around the four sides. The rest of the bathymetry is flat at 30 m depth."
   ]
  },
  {
   "cell_type": "code",
   "execution_count": 7,
   "metadata": {
    "collapsed": false
   },
   "outputs": [
    {
     "data": {
      "text/plain": [
       "array([ 0, 30, 30, 30, 30, 30, 30, 30, 30, 30, 30, 30, 30, 30, 30, 30, 30,\n",
       "       30, 30, 30, 30,  0], dtype=int16)"
      ]
     },
     "execution_count": 7,
     "metadata": {},
     "output_type": "execute_result"
    }
   ],
   "source": [
    "mmask.variables['mbathy'][0,:,-2]"
   ]
  },
  {
   "cell_type": "markdown",
   "metadata": {},
   "source": [
    "### GYRE Results"
   ]
  },
  {
   "cell_type": "markdown",
   "metadata": {},
   "source": [
    "Animation showing the results of the gyre run used to test NEMO's configuration settings"
   ]
  },
  {
   "cell_type": "raw",
   "metadata": {
    "collapsed": true
   },
   "source": [
    "def draw(t, axes, varb, ttls, lon, lat, dep_ind):\n",
    "        for ax, var, ttl in zip(axes, varb, ttls):\n",
    "            if var == ssh:\n",
    "                cmax = var[:,1:21,1:31].max()\n",
    "                cmin = var[:,1:21,1:31].min()\n",
    "                c = ax.pcolormesh(lon, lat, var[t,:,:], cmap=cm.gist_ncar, vmin=cmin, vmax=cmax)\n",
    "                if t == 0:\n",
    "                    cbar = fig.colorbar(c, ax=ax)\n",
    "                    cbar.set_clim(cmin,cmax)\n",
    "                else:\n",
    "                    pass\n",
    "            else:\n",
    "                if var == U or var == V or var == W:\n",
    "                    cmax = max(abs(var[:,0,:,:].max()), abs(var[:,0,:,:].min()))\n",
    "                    cmin = -1*max(abs(var[:,0,:,:].max()), abs(var[:,0,:,:].min()))\n",
    "                    cmap0 = cm.seismic\n",
    "                else:\n",
    "                    cmax = var[:,0,1:21,1:31].max()\n",
    "                    cmin = var[:,0,1:21,1:31].min()\n",
    "                    cmap0 = cm.gist_ncar\n",
    "                c = ax.pcolormesh(lon, lat, var[t,dep_ind,:,:], cmap=cmap0, vmin=cmin, vmax=cmax)\n",
    "                if t == 0:\n",
    "                    cbar = fig.colorbar(c, ax=ax)\n",
    "                    cbar.set_clim(cmin,cmax)\n",
    "                else:\n",
    "                    pass\n",
    "            ax.set_title(ttl)\n",
    "            ax.set_ylabel('latitude')\n",
    "            ax.set_xlabel('longitude')\n",
    "        return ax"
   ]
  },
  {
   "cell_type": "code",
   "execution_count": 169,
   "metadata": {
    "collapsed": false
   },
   "outputs": [],
   "source": [
    "def draw_diff(fig, t, axes, varb, ttls, lon, lat, dep_ind):\n",
    "    cmap0 = cm.RdYlBu_r\n",
    "    for ax, var, ttl in zip(axes, varb, ttls):\n",
    "        if ax == ax_ssh:\n",
    "            end_point = max(abs(var[t, 1:21,1:31].max()), abs(var[t, 1:21,1:31].min()))\n",
    "            cmax = end_point\n",
    "            cmin = -1*end_point\n",
    "            c = ax.pcolormesh(lon, lat, var[t,:,:], cmap=cmap0, vmin=cmin, vmax=cmax)\n",
    "            fig.colorbar(c, ax=ax)\n",
    "        else:\n",
    "            end_point = max(abs(var[t,dep_ind, 1:21,1:31].max()), abs(var[t,dep_ind, 1:21,1:31].min()))\n",
    "            cmax = end_point\n",
    "            cmin = -1*end_point\n",
    "            c = ax.pcolormesh(lon, lat, var[t,dep_ind,:,:], cmap=cmap0, vmin=cmin, vmax=cmax)\n",
    "            fig.colorbar(c, ax=ax)\n",
    "        ax.set_title(ttl)\n",
    "        ax.set_ylabel('latitude')\n",
    "        ax.set_xlabel('longitude')\n",
    "    return fig"
   ]
  },
  {
   "cell_type": "code",
   "execution_count": 9,
   "metadata": {
    "collapsed": false
   },
   "outputs": [],
   "source": [
    "def animate_gyre(fig, axes, varb, ttls, dep_ind, frames, file_name):\n",
    "    \n",
    "    def init():\n",
    "        pass\n",
    "\n",
    "    def animate(t):\n",
    "        draw(t, axes, varb, ttls, lon, lat, dep_ind)\n",
    "\n",
    "    anim = animation.FuncAnimation(fig, animate, init_func=init, frames=frames, interval=20, blit=False, repeat=False)\n",
    "    mywriter = animation.FFMpegWriter()\n",
    "    anim.save(file_name, writer=mywriter, fps=1, dpi=200, bitrate=1000000, codec=\"libx264\")"
   ]
  },
  {
   "cell_type": "raw",
   "metadata": {
    "collapsed": false
   },
   "source": [
    "fig, [(ax1,ax2,ax3),(ax4,ax5,ax6)] = plt.subplots(2,3,figsize=(15,10),sharex=True, sharey=True)\n",
    "axes = [ax1, ax2, ax3, ax4, ax5, ax6]\n",
    "varb = [tem, sal, ssh, U, V, W]\n",
    "ttls = ['Temperature', 'Salinity', 'Sea Surface Height', 'U-Velocity', 'V-Velocity', 'W-Velocity']\n",
    "dep_ind = 0\n",
    "frames = 71\n",
    "file_name = 'Gyre_TestRun.mp4'\n",
    "\n",
    "animate_gyre(fig, axes, varb, ttls, dep_ind, frames, file_name)"
   ]
  },
  {
   "cell_type": "markdown",
   "metadata": {},
   "source": [
    "### Test Bathymetry"
   ]
  },
  {
   "cell_type": "markdown",
   "metadata": {},
   "source": [
    "Replace the flat bathymetry used in GYRE with the simple bathymetry below."
   ]
  },
  {
   "cell_type": "code",
   "execution_count": 10,
   "metadata": {
    "collapsed": false
   },
   "outputs": [],
   "source": [
    "x = np.linspace(0,3,32)\n",
    "y = np.linspace(0,2,22)\n",
    "z = np.ones((len(y),len(x)))* 1000\n",
    "for indx in np.arange(10,25):\n",
    "    for indy in np.arange(5,15):\n",
    "        z[indy, indx] = 2300\n",
    "z[-1,:] = 0"
   ]
  },
  {
   "cell_type": "code",
   "execution_count": 11,
   "metadata": {
    "collapsed": false
   },
   "outputs": [
    {
     "data": {
      "text/plain": [
       "<matplotlib.colorbar.Colorbar at 0x7f8089349668>"
      ]
     },
     "execution_count": 11,
     "metadata": {},
     "output_type": "execute_result"
    },
    {
     "data": {
      "image/png": "[encoded data removed]",
      "text/plain": [
       "<matplotlib.figure.Figure at 0x7f808bc6c898>"
      ]
     },
     "metadata": {},
     "output_type": "display_data"
    }
   ],
   "source": [
    "fig = plt.figure(figsize=(15,5))\n",
    "ax = fig.add_subplot(1, 2, 1, projection='3d')\n",
    "X, Y = np.meshgrid(x, y)\n",
    "ax.plot_wireframe(X, Y, z, rstride=10, cstride=10)\n",
    "ax.view_init(elev=0, azim=0)\n",
    "ax.invert_zaxis()\n",
    "\n",
    "ax = fig.add_subplot(1, 2, 2)\n",
    "p = ax.pcolor(z, cmap=cm.rainbow)\n",
    "fig.colorbar(p)"
   ]
  },
  {
   "cell_type": "code",
   "execution_count": 12,
   "metadata": {
    "collapsed": false
   },
   "outputs": [
    {
     "data": {
      "text/plain": [
       "(22, 32)"
      ]
     },
     "execution_count": 12,
     "metadata": {},
     "output_type": "execute_result"
    }
   ],
   "source": [
    "lat.shape"
   ]
  },
  {
   "cell_type": "code",
   "execution_count": 13,
   "metadata": {
    "collapsed": false
   },
   "outputs": [
    {
     "data": {
      "text/plain": [
       "(1, 22, 32)"
      ]
     },
     "execution_count": 13,
     "metadata": {},
     "output_type": "execute_result"
    }
   ],
   "source": [
    "mmask.variables['mbathy'].shape"
   ]
  },
  {
   "cell_type": "code",
   "execution_count": 14,
   "metadata": {
    "collapsed": false
   },
   "outputs": [
    {
     "data": {
      "text/plain": [
       "(22, 32)"
      ]
     },
     "execution_count": 14,
     "metadata": {},
     "output_type": "execute_result"
    }
   ],
   "source": [
    "z.shape"
   ]
  },
  {
   "cell_type": "markdown",
   "metadata": {},
   "source": [
    "bathy files have **variables (dimensions)**: float64 nav_lon(y,x), float64 nav_lat(y,x), float64 Bathymetry(y,x)"
   ]
  },
  {
   "cell_type": "markdown",
   "metadata": {},
   "source": [
    "http://unidata.github.io/netcdf4-python/\n",
    "\n",
    "http://www.ceda.ac.uk/static/media/uploads/ncas-reading-2015/11_create_netcdf_python.pdf"
   ]
  },
  {
   "cell_type": "markdown",
   "metadata": {},
   "source": [
    "The new bathymetry is inputted into gyre in NETCDF4 format. The file has the longitudes and latitudes originally used in gyre. The new bathymetry has the same size as the original, but it has a different depth profile."
   ]
  },
  {
   "cell_type": "raw",
   "metadata": {
    "collapsed": false
   },
   "source": [
    "# Open a new netcdf file in write mode. The default format is NETCDF4.\n",
    "dataset = Dataset('bathy_rectangle.nc', 'w')\n",
    "\n",
    "# Groups serve as containers for variables, dimensions and attributes, \n",
    "# as well as other groups\n",
    "# xxx = test.createGroup(\"xxxxx\")\n",
    "\n",
    "# Dimensions must be created before the variables. To create an unlimited \n",
    "# dimension (can be appended to), the size value is set to None or 0.\n",
    "y = dataset.createDimension('y', 22)\n",
    "x = dataset.createDimension('x', 32)\n",
    "\n",
    "# The variable's dimensions are given by a tuple containing the dimension\n",
    "# names. Datatype specifier 'f8' (64-bit floating point).\n",
    "nav_lon = dataset.createVariable('nav_lon', 'f8', ('y','x'))\n",
    "nav_lat = dataset.createVariable('nav_lat', 'f8', ('y','x'))\n",
    "Bathymetry = dataset.createVariable('Bathymetry', 'f8', ('y','x'))\n",
    "\n",
    "# There are two types of attributes in a netCDF file, global and variable.\n",
    "dataset.title = 'Rectangular Bathymetry for Gyre Test Run'\n",
    "dataset.author = 'Idalia A. Machuca'\n",
    "dataset.institution = 'Dept of Earth, Ocean & Atmospheric Sciences, University of British Columbia'\n",
    "dataset.source = 'bitbucket.org/CanyonsUBC/mackenzie_canyon/raw/tip/bathymetry/notebooks/gyre_test.ipynb'\n",
    "dataset.timeStamp = time.ctime(time.time())\n",
    "nav_lon.standard_name = 'longitude'\n",
    "nav_lon.units = 'degrees_east'\n",
    "nav_lat.standard_name = 'latitude'\n",
    "nav_lat.units = 'degrees_north'\n",
    "Bathymetry.standard_name = 'bathymetry'\n",
    "Bathymetry.units = 'm'\n",
    "Bathymetry.positive = 'down'\n",
    "\n",
    "# Writing data to netCDF variables\n",
    "nav_lon[:] = lon[:]\n",
    "nav_lat[:] = lat[:]\n",
    "Bathymetry[:] = z[:]\n",
    "\n",
    "# Close\n",
    "dataset.close()"
   ]
  },
  {
   "cell_type": "code",
   "execution_count": 15,
   "metadata": {
    "collapsed": false
   },
   "outputs": [],
   "source": [
    "bathy_rectangle = nc.Dataset('/ocean/imachuca/Canyons/mackenzie_canyon/bathymetry/notebooks/bathy_rectangle.nc')"
   ]
  },
  {
   "cell_type": "code",
   "execution_count": 16,
   "metadata": {
    "collapsed": false
   },
   "outputs": [
    {
     "data": {
      "text/plain": [
       "<class 'netCDF4._netCDF4.Dataset'>\n",
       "root group (NETCDF4 data model, file format HDF5):\n",
       "    title: Rectangular Bathymetry for Gyre Test Run\n",
       "    author: Idalia A. Machuca\n",
       "    institution: Dept of Earth, Ocean & Atmospheric Sciences, University of British Columbia\n",
       "    source: bitbucket.org/CanyonsUBC/mackenzie_canyon/raw/tip/bathymetry/notebooks/gyre_test.ipynb\n",
       "    timeStamp: Wed May 25 21:54:12 2016\n",
       "    dimensions(sizes): y(22), x(32)\n",
       "    variables(dimensions): float64 \u001b[4mnav_lon\u001b[0m(y,x), float64 \u001b[4mnav_lat\u001b[0m(y,x), float64 \u001b[4mBathymetry\u001b[0m(y,x)\n",
       "    groups: "
      ]
     },
     "execution_count": 16,
     "metadata": {},
     "output_type": "execute_result"
    }
   ],
   "source": [
    "bathy_rectangle"
   ]
  },
  {
   "cell_type": "code",
   "execution_count": 17,
   "metadata": {
    "collapsed": false
   },
   "outputs": [
    {
     "data": {
      "text/plain": [
       "OrderedDict([('nav_lon', <class 'netCDF4._netCDF4.Variable'>\n",
       "              float64 nav_lon(y, x)\n",
       "                  standard_name: longitude\n",
       "                  units: degrees_east\n",
       "              unlimited dimensions: \n",
       "              current shape = (22, 32)\n",
       "              filling on, default _FillValue of 9.969209968386869e+36 used),\n",
       "             ('nav_lat', <class 'netCDF4._netCDF4.Variable'>\n",
       "              float64 nav_lat(y, x)\n",
       "                  standard_name: latitude\n",
       "                  units: degrees_north\n",
       "              unlimited dimensions: \n",
       "              current shape = (22, 32)\n",
       "              filling on, default _FillValue of 9.969209968386869e+36 used),\n",
       "             ('Bathymetry', <class 'netCDF4._netCDF4.Variable'>\n",
       "              float64 Bathymetry(y, x)\n",
       "                  standard_name: bathymetry\n",
       "                  units: m\n",
       "                  positive: down\n",
       "              unlimited dimensions: \n",
       "              current shape = (22, 32)\n",
       "              filling on, default _FillValue of 9.969209968386869e+36 used)])"
      ]
     },
     "execution_count": 17,
     "metadata": {},
     "output_type": "execute_result"
    }
   ],
   "source": [
    "bathy_rectangle.variables"
   ]
  },
  {
   "cell_type": "code",
   "execution_count": 18,
   "metadata": {
    "collapsed": false
   },
   "outputs": [
    {
     "data": {
      "text/plain": [
       "0.0"
      ]
     },
     "execution_count": 18,
     "metadata": {},
     "output_type": "execute_result"
    }
   ],
   "source": [
    "bat_test = bathy_rectangle.variables['Bathymetry']\n",
    "(bat_test[:]-z[:]).max()"
   ]
  },
  {
   "cell_type": "markdown",
   "metadata": {},
   "source": [
    "### Test Coordinates"
   ]
  },
  {
   "cell_type": "raw",
   "metadata": {
    "collapsed": false
   },
   "source": [
    "dataset = Dataset('coords_rectangle.nc', 'w')\n",
    "#\n",
    "y = dataset.createDimension('y', 22)\n",
    "x = dataset.createDimension('x', 32)\n",
    "time = dataset.createDimension('time', 1)\n",
    "#\n",
    "var_names = ['nav_lon','nav_lat']\n",
    "var_lnames = ['longitude', 'latitude']\n",
    "var_units = ['degrees east', 'degrees north']\n",
    "var_values = [lon[:], lat[:]]\n",
    "for var_name, var_lname, var_unit, var_value in zip(var_names, var_lnames, var_units, var_values):\n",
    "    variable = dataset.createVariable(var_name, 'f4', ('y', 'x'))\n",
    "    variable.standard_name = var_lname\n",
    "    variable.units = var_unit\n",
    "    variable[:] = var_value\n",
    "#\n",
    "var_names = ['glamt', 'glamu', 'glamv', 'glamf', 'gphit', 'gphiu', 'gphiv', 'gphif',\n",
    "            'e1t', 'e1u', 'e1v', 'e1f', 'e2t', 'e2u', 'e2v', 'e2f']\n",
    "var_values = [lt[:], lu[:], lv[:], lf[:], pt[:], pu[:], pv[:], pf[:], \n",
    "              t1[:], u1[:], v1[:], f1[:], t2[:], u2[:], v2[:], f2[:]]\n",
    "for var_name, var_value in zip(var_names, var_values):\n",
    "    variable = dataset.createVariable(var_name, 'f8', ('time', 'y', 'x'))\n",
    "    variable[:] = var_value\n",
    "\n",
    "#\n",
    "dataset.title = 'Rectangular Coordinates for Gyre Test Run'\n",
    "dataset.author = 'Idalia A. Machuca'\n",
    "dataset.institution = 'Dept of Earth, Ocean & Atmospheric Sciences, University of British Columbia'\n",
    "dataset.source = 'bitbucket.org/CanyonsUBC/mackenzie_canyon/raw/tip/bathymetry/notebooks/gyre_test.ipynb'\n",
    "#\n",
    "dataset.close()"
   ]
  },
  {
   "cell_type": "markdown",
   "metadata": {},
   "source": [
    "* float32 nav_lon(y,x), float32 nav_lat(y,x)\n",
    "\n",
    "float32 time(time), int32 time_steps(time)\n",
    "\n",
    "* float64 glamt(time,y,x), float64 glamu(time,y,x), float64 glamv(time,y,x), float64 glamf(time,y,x)\n",
    "\n",
    "* float64 gphit(time,y,x), float64 gphiu(time,y,x), float64 gphiv(time,y,x), float64 gphif(time,y,x)\n",
    "\n",
    "* float64 e1t(time,y,x), float64 e1u(time,y,x), float64 e1v(time,y,x), float64 e1f(time,y,x)\n",
    "\n",
    "* float64 e2t(time,y,x), float64 e2u(time,y,x), float64 e2v(time,y,x), float64 e2f(time,y,x)"
   ]
  },
  {
   "cell_type": "code",
   "execution_count": 19,
   "metadata": {
    "collapsed": false
   },
   "outputs": [],
   "source": [
    "coords_rectangle = nc.Dataset('/ocean/imachuca/Canyons/mackenzie_canyon/bathymetry/notebooks/coords_rectangle.nc')"
   ]
  },
  {
   "cell_type": "code",
   "execution_count": 20,
   "metadata": {
    "collapsed": false
   },
   "outputs": [
    {
     "data": {
      "text/plain": [
       "<class 'netCDF4._netCDF4.Dataset'>\n",
       "root group (NETCDF4 data model, file format HDF5):\n",
       "    title: Rectangular Coordinates for Gyre Test Run\n",
       "    author: Idalia A. Machuca\n",
       "    institution: Dept of Earth, Ocean & Atmospheric Sciences, University of British Columbia\n",
       "    source: bitbucket.org/CanyonsUBC/mackenzie_canyon/raw/tip/bathymetry/notebooks/gyre_test.ipynb\n",
       "    dimensions(sizes): y(22), x(32), time(1)\n",
       "    variables(dimensions): float32 \u001b[4mnav_lon\u001b[0m(y,x), float32 \u001b[4mnav_lat\u001b[0m(y,x), float64 \u001b[4mglamt\u001b[0m(time,y,x), float64 \u001b[4mglamu\u001b[0m(time,y,x), float64 \u001b[4mglamv\u001b[0m(time,y,x), float64 \u001b[4mglamf\u001b[0m(time,y,x), float64 \u001b[4mgphit\u001b[0m(time,y,x), float64 \u001b[4mgphiu\u001b[0m(time,y,x), float64 \u001b[4mgphiv\u001b[0m(time,y,x), float64 \u001b[4mgphif\u001b[0m(time,y,x), float64 \u001b[4me1t\u001b[0m(time,y,x), float64 \u001b[4me1u\u001b[0m(time,y,x), float64 \u001b[4me1v\u001b[0m(time,y,x), float64 \u001b[4me1f\u001b[0m(time,y,x), float64 \u001b[4me2t\u001b[0m(time,y,x), float64 \u001b[4me2u\u001b[0m(time,y,x), float64 \u001b[4me2v\u001b[0m(time,y,x), float64 \u001b[4me2f\u001b[0m(time,y,x)\n",
       "    groups: "
      ]
     },
     "execution_count": 20,
     "metadata": {},
     "output_type": "execute_result"
    }
   ],
   "source": [
    "coords_rectangle"
   ]
  },
  {
   "cell_type": "code",
   "execution_count": 21,
   "metadata": {
    "collapsed": false,
    "scrolled": false
   },
   "outputs": [
    {
     "data": {
      "text/plain": [
       "OrderedDict([('nav_lon', <class 'netCDF4._netCDF4.Variable'>\n",
       "              float32 nav_lon(y, x)\n",
       "                  standard_name: longitude\n",
       "                  units: degrees east\n",
       "              unlimited dimensions: \n",
       "              current shape = (22, 32)\n",
       "              filling on, default _FillValue of 9.969209968386869e+36 used),\n",
       "             ('nav_lat', <class 'netCDF4._netCDF4.Variable'>\n",
       "              float32 nav_lat(y, x)\n",
       "                  standard_name: latitude\n",
       "                  units: degrees north\n",
       "              unlimited dimensions: \n",
       "              current shape = (22, 32)\n",
       "              filling on, default _FillValue of 9.969209968386869e+36 used),\n",
       "             ('glamt', <class 'netCDF4._netCDF4.Variable'>\n",
       "              float64 glamt(time, y, x)\n",
       "              unlimited dimensions: \n",
       "              current shape = (1, 22, 32)\n",
       "              filling on, default _FillValue of 9.969209968386869e+36 used),\n",
       "             ('glamu', <class 'netCDF4._netCDF4.Variable'>\n",
       "              float64 glamu(time, y, x)\n",
       "              unlimited dimensions: \n",
       "              current shape = (1, 22, 32)\n",
       "              filling on, default _FillValue of 9.969209968386869e+36 used),\n",
       "             ('glamv', <class 'netCDF4._netCDF4.Variable'>\n",
       "              float64 glamv(time, y, x)\n",
       "              unlimited dimensions: \n",
       "              current shape = (1, 22, 32)\n",
       "              filling on, default _FillValue of 9.969209968386869e+36 used),\n",
       "             ('glamf', <class 'netCDF4._netCDF4.Variable'>\n",
       "              float64 glamf(time, y, x)\n",
       "              unlimited dimensions: \n",
       "              current shape = (1, 22, 32)\n",
       "              filling on, default _FillValue of 9.969209968386869e+36 used),\n",
       "             ('gphit', <class 'netCDF4._netCDF4.Variable'>\n",
       "              float64 gphit(time, y, x)\n",
       "              unlimited dimensions: \n",
       "              current shape = (1, 22, 32)\n",
       "              filling on, default _FillValue of 9.969209968386869e+36 used),\n",
       "             ('gphiu', <class 'netCDF4._netCDF4.Variable'>\n",
       "              float64 gphiu(time, y, x)\n",
       "              unlimited dimensions: \n",
       "              current shape = (1, 22, 32)\n",
       "              filling on, default _FillValue of 9.969209968386869e+36 used),\n",
       "             ('gphiv', <class 'netCDF4._netCDF4.Variable'>\n",
       "              float64 gphiv(time, y, x)\n",
       "              unlimited dimensions: \n",
       "              current shape = (1, 22, 32)\n",
       "              filling on, default _FillValue of 9.969209968386869e+36 used),\n",
       "             ('gphif', <class 'netCDF4._netCDF4.Variable'>\n",
       "              float64 gphif(time, y, x)\n",
       "              unlimited dimensions: \n",
       "              current shape = (1, 22, 32)\n",
       "              filling on, default _FillValue of 9.969209968386869e+36 used),\n",
       "             ('e1t', <class 'netCDF4._netCDF4.Variable'>\n",
       "              float64 e1t(time, y, x)\n",
       "              unlimited dimensions: \n",
       "              current shape = (1, 22, 32)\n",
       "              filling on, default _FillValue of 9.969209968386869e+36 used),\n",
       "             ('e1u', <class 'netCDF4._netCDF4.Variable'>\n",
       "              float64 e1u(time, y, x)\n",
       "              unlimited dimensions: \n",
       "              current shape = (1, 22, 32)\n",
       "              filling on, default _FillValue of 9.969209968386869e+36 used),\n",
       "             ('e1v', <class 'netCDF4._netCDF4.Variable'>\n",
       "              float64 e1v(time, y, x)\n",
       "              unlimited dimensions: \n",
       "              current shape = (1, 22, 32)\n",
       "              filling on, default _FillValue of 9.969209968386869e+36 used),\n",
       "             ('e1f', <class 'netCDF4._netCDF4.Variable'>\n",
       "              float64 e1f(time, y, x)\n",
       "              unlimited dimensions: \n",
       "              current shape = (1, 22, 32)\n",
       "              filling on, default _FillValue of 9.969209968386869e+36 used),\n",
       "             ('e2t', <class 'netCDF4._netCDF4.Variable'>\n",
       "              float64 e2t(time, y, x)\n",
       "              unlimited dimensions: \n",
       "              current shape = (1, 22, 32)\n",
       "              filling on, default _FillValue of 9.969209968386869e+36 used),\n",
       "             ('e2u', <class 'netCDF4._netCDF4.Variable'>\n",
       "              float64 e2u(time, y, x)\n",
       "              unlimited dimensions: \n",
       "              current shape = (1, 22, 32)\n",
       "              filling on, default _FillValue of 9.969209968386869e+36 used),\n",
       "             ('e2v', <class 'netCDF4._netCDF4.Variable'>\n",
       "              float64 e2v(time, y, x)\n",
       "              unlimited dimensions: \n",
       "              current shape = (1, 22, 32)\n",
       "              filling on, default _FillValue of 9.969209968386869e+36 used),\n",
       "             ('e2f', <class 'netCDF4._netCDF4.Variable'>\n",
       "              float64 e2f(time, y, x)\n",
       "              unlimited dimensions: \n",
       "              current shape = (1, 22, 32)\n",
       "              filling on, default _FillValue of 9.969209968386869e+36 used)])"
      ]
     },
     "execution_count": 21,
     "metadata": {},
     "output_type": "execute_result"
    }
   ],
   "source": [
    "coords_rectangle.variables"
   ]
  },
  {
   "cell_type": "code",
   "execution_count": 22,
   "metadata": {
    "collapsed": false
   },
   "outputs": [
    {
     "data": {
      "text/plain": [
       "0.0"
      ]
     },
     "execution_count": 22,
     "metadata": {},
     "output_type": "execute_result"
    }
   ],
   "source": [
    "coords_rectangle.variables['e2f'][0,0,0] - f2[0,0,0]"
   ]
  },
  {
   "cell_type": "markdown",
   "metadata": {},
   "source": [
    "### Running New Configuration"
   ]
  },
  {
   "cell_type": "markdown",
   "metadata": {
    "collapsed": true
   },
   "source": [
    "**Original: GYRE**\n",
    "\n",
    "**New: attempt1**\n",
    "\n",
    "The code for the gyre run is in /ocean/imachuca/NEMO-3.6-code/NEMOGCM/CONFIG/GYRE/EXP00/. \n",
    "\n",
    "**Make a new NEMO configuration**\n",
    "* Go to /ocean/imachuca/NEMO-3.6-code/NEMOGCM/CONFIG/\n",
    "* ./makenemo -r GYRE -n attempt1\n",
    "\n",
    "This builds a new nemo configuration called attempt1 that is exactly the same as GYRE. \"makenemo\" is a file that is in CONFIG.\n",
    "\n",
    "**Run the new configuration**\n",
    "* cd attempt1/EXP00\n",
    "* nice ./opa &\n",
    "\n",
    "This command runs the nemo model - the new configuation attempt1. \"opa\" is a file in EXP00, which was generated when the configuration was built. The ampersand runs nemo in the background so you can keep using the terminal.\n",
    "\n",
    "\n",
    "**Make changes to the new configuration**\n",
    "* Change EXP00/**namelist_cfg** >>> **namdom** >> **nn_bathy** to 1\n",
    "* In EXP00: ln -s /ocean/imachuca/Canyons/mackenzie_canyon/bathymetry/notebooks/bathy_rectangle.nc **bathy_meter.nc**\n",
    "* In CONFIG: ./makenemo -n attempt1\n",
    "\n",
    "We use \"namelist_cfg\" because \"namelist_ref\" is a symbolic link, so it was probably not being used. The building command is shorter because attempt1 is using itself as a reference since changes have been made to it. Get used to building new configurations until you get used to nemo.\n",
    "\n",
    "**Run the newer configuration**\n",
    "\n",
    "**Other notes:**\n",
    "* tail cfg.txt -------------------------------------- list of nemo configurations\n",
    "* make changes to files in WORK\n",
    "* tail time.step --------------------------------- tracks run time\n",
    "* kill 8282 --------------------------------------- stops nemo when job number is 8282\n",
    "* tail ocean.output ---------------------------- track model run errors\n",
    "* emacs iodef.xml ---------------------------- make changes to frequency of model results\n",
    "* Deleting a previously built configuration and attempting to rebuild it doesn't work.\n",
    "* If a configuration is already built, it doesn't re-run (with \"nice) if it has a bathymetry, but it can still re-run without it ---- solution below.\n",
    "* The new configuration was initially built as Gyre0."
   ]
  },
  {
   "cell_type": "markdown",
   "metadata": {
    "collapsed": true
   },
   "source": [
    "**Finding out what was wrong with attempt1:**\n",
    "* **nice ./opa &** runs nemo (didn't have to rebuild here)\n",
    "* **tail ocean.output** at the bottom of this file is the number of errors that have occurred. Scan through the entire file to find **E R R O R**. In this case, there was one error that said that the file **bathy_level.nc** didn't exist. **bathy_level.nc** is not the same as **bathy_meter.nc**.\n",
    "* **WORK/** is where the nemo code is stored. Don't change anything in here because it will affect the Salish Sea group if the changes are pushed.\n",
    "* **grep 'bathy_level' *.F90** finds the words bathy_level in all files that contain .F90. This should tell us what bathy_level is because it's not in the manual. The result of the search is\n",
    "        domzgr.F90:      !!      ntopo= 1 :   mbathy is read in 'bathy_level.nc' NetCDF file\n",
    "* In routine **zgr_bat** of **domzgr.F90**, the following description is given for topography:\n",
    "\n",
    "        ntopo=-1 :   rectangular channel or bassin with a bump \n",
    "\n",
    "        ntopo= 0 :   flat rectangular channel or basin \n",
    "\n",
    "        ntopo= 1 :   mbathy is read in 'bathy_level.nc' NetCDF file\n",
    "\n",
    "                     bathy  is read in 'bathy_meter.nc' NetCDF file\n",
    "\n",
    "* Further down in the routine, the code defines two conditions when **ntopo=1**:\n",
    "\n",
    "        IF( ln_zco )   THEN                          ! zco : read level bathymetry \n",
    "                    CALL iom_open ( 'bathy_level.nc', inum )\n",
    "\n",
    "        IF( ln_zps .OR. ln_sco )   THEN              ! zps or sco : read meter bathymetry\n",
    "                    CALL iom_open ( 'bathy_meter.nc', inum )\n",
    "\n",
    "* In **namlist_cfg** there is a section **namzgr** that defines details about the vertical coordinates, in particular **ln_zco** and **ln_zps**. I specified the following:\n",
    "\n",
    "       ln_zco      = .false.    !  z-coordinate - full    steps   (T/F)      (\"key_zco\" may also be defined)\n",
    "       ln_zps      = .true.   !  z-coordinate - partial steps   (T/F)\n",
    "\n",
    "    Originally, the true and false were the other way around, but we want to use partial steps so that nemo looks for **bathy_meter.nc**. According to the nemo manual (pg. 58), there shoudl be another option **ln_sco** for an s-coordinate, but that was not included in the namelist I'm using.\n",
    "\n",
    "\n",
    "* Note: In **attempt1/cpp_attempt1.fcm**, there is a list of keys that are used to unlock modules in nemo. Since no key was specified for **ln_zps**, we don't need to add any to the file.\n",
    "\n",
    "* Run nemo and check in **ocean.ouput** if it ran properly:\n",
    "\n",
    "        iom_nf90_rp0123d, file: ./GYRE_00004320_restart.nc, var: sshn written ok\n",
    "        iom_nf90_rp0123d, file: ./GYRE_00004320_restart.nc, var: rhop written ok\n",
    "        iom_close ~~~ close file: ./GYRE_00004320_restart.nc ok\n",
    "\n",
    "\n",
    "**Questions**\n",
    "* Do I need coordinates.nc if i'm using partial steps?\n",
    "* If you use **ln_zco**, you need to define a reference coordinate transformation $z_o(k)$, which is an analytical expression of depth, and its first derivative with respect to k. This is done in **domzgr.F90**.\n",
    "\n",
    "**Changing wind forcing for later**\n",
    "* namelist_cfg has a surface section, but it says that it uses a constant forcing so it's probably getting it from somewhere else\n",
    "* look into WORK/par_oce but there should be a par_gyre\n",
    "* copy par_oce into MY_SRC\n",
    "* It'll use WORK and MY_SRC\n",
    "* Don't change anything in WORK or NEMOGCM/NEMO\n",
    "* More surface code /NEMOGCM/NEMO/OPA_SRC/SBC"
   ]
  },
  {
   "cell_type": "markdown",
   "metadata": {},
   "source": [
    "### attempt1 Results"
   ]
  },
  {
   "cell_type": "code",
   "execution_count": 27,
   "metadata": {
    "collapsed": false
   },
   "outputs": [],
   "source": [
    "attT = nc.Dataset('/ocean/imachuca/NEMO-3.6-code/NEMOGCM/CONFIG/attempt1/EXP00/GYRE_5d_00010101_00011230_grid_T.nc')\n",
    "attU = nc.Dataset('/ocean/imachuca/NEMO-3.6-code/NEMOGCM/CONFIG/attempt1/EXP00/GYRE_5d_00010101_00011230_grid_U.nc')\n",
    "attV = nc.Dataset('/ocean/imachuca/NEMO-3.6-code/NEMOGCM/CONFIG/attempt1/EXP00/GYRE_5d_00010101_00011230_grid_V.nc')\n",
    "attW = nc.Dataset('/ocean/imachuca/NEMO-3.6-code/NEMOGCM/CONFIG/attempt1/EXP00/GYRE_5d_00010101_00011230_grid_W.nc')\n",
    "attmask = nc.Dataset('/ocean/imachuca/NEMO-3.6-code/NEMOGCM/CONFIG/attempt1/EXP00/mesh_mask.nc')"
   ]
  },
  {
   "cell_type": "code",
   "execution_count": 171,
   "metadata": {
    "collapsed": false
   },
   "outputs": [
    {
     "data": {
      "text/plain": [
       "<class 'netCDF4._netCDF4.Dataset'>\n",
       "root group (NETCDF3_64BIT data model, file format NETCDF3):\n",
       "    DOMAIN_number_total: 1\n",
       "    DOMAIN_number: 0\n",
       "    DOMAIN_dimensions_ids: [1 2]\n",
       "    DOMAIN_size_global: [32 22]\n",
       "    DOMAIN_size_local: [32 22]\n",
       "    DOMAIN_position_first: [1 1]\n",
       "    DOMAIN_position_last: [32 22]\n",
       "    DOMAIN_halo_size_start: [0 0]\n",
       "    DOMAIN_halo_size_end: [0 0]\n",
       "    DOMAIN_type: BOX\n",
       "    dimensions(sizes): x(32), y(22), z(31), t(1)\n",
       "    variables(dimensions): float32 \u001b[4mnav_lon\u001b[0m(y,x), float32 \u001b[4mnav_lat\u001b[0m(y,x), float32 \u001b[4mnav_lev\u001b[0m(z), float64 \u001b[4mtime_counter\u001b[0m(t), int8 \u001b[4mtmask\u001b[0m(t,z,y,x), int8 \u001b[4mumask\u001b[0m(t,z,y,x), int8 \u001b[4mvmask\u001b[0m(t,z,y,x), int8 \u001b[4mfmask\u001b[0m(t,z,y,x), int8 \u001b[4mtmaskutil\u001b[0m(t,y,x), int8 \u001b[4mumaskutil\u001b[0m(t,y,x), int8 \u001b[4mvmaskutil\u001b[0m(t,y,x), int8 \u001b[4mfmaskutil\u001b[0m(t,y,x), float32 \u001b[4mglamt\u001b[0m(t,y,x), float32 \u001b[4mglamu\u001b[0m(t,y,x), float32 \u001b[4mglamv\u001b[0m(t,y,x), float32 \u001b[4mglamf\u001b[0m(t,y,x), float32 \u001b[4mgphit\u001b[0m(t,y,x), float32 \u001b[4mgphiu\u001b[0m(t,y,x), float32 \u001b[4mgphiv\u001b[0m(t,y,x), float32 \u001b[4mgphif\u001b[0m(t,y,x), float64 \u001b[4me1t\u001b[0m(t,y,x), float64 \u001b[4me1u\u001b[0m(t,y,x), float64 \u001b[4me1v\u001b[0m(t,y,x), float64 \u001b[4me1f\u001b[0m(t,y,x), float64 \u001b[4me2t\u001b[0m(t,y,x), float64 \u001b[4me2u\u001b[0m(t,y,x), float64 \u001b[4me2v\u001b[0m(t,y,x), float64 \u001b[4me2f\u001b[0m(t,y,x), float64 \u001b[4mff\u001b[0m(t,y,x), int16 \u001b[4mmbathy\u001b[0m(t,y,x), int16 \u001b[4mmisf\u001b[0m(t,y,x), float32 \u001b[4misfdraft\u001b[0m(t,y,x), float64 \u001b[4me3t_0\u001b[0m(t,z,y,x), float64 \u001b[4me3u_0\u001b[0m(t,z,y,x), float64 \u001b[4me3v_0\u001b[0m(t,z,y,x), float64 \u001b[4me3w_0\u001b[0m(t,z,y,x), float32 \u001b[4mgdept_0\u001b[0m(t,z,y,x), float32 \u001b[4mgdepu\u001b[0m(t,z,y,x), float32 \u001b[4mgdepv\u001b[0m(t,z,y,x), float32 \u001b[4mgdepw_0\u001b[0m(t,z,y,x), float64 \u001b[4mgdept_1d\u001b[0m(t,z), float64 \u001b[4mgdepw_1d\u001b[0m(t,z), float64 \u001b[4me3t_1d\u001b[0m(t,z), float64 \u001b[4me3w_1d\u001b[0m(t,z)\n",
       "    groups: "
      ]
     },
     "execution_count": 171,
     "metadata": {},
     "output_type": "execute_result"
    }
   ],
   "source": [
    "# New variables!\n",
    "attmask"
   ]
  },
  {
   "cell_type": "code",
   "execution_count": 174,
   "metadata": {
    "collapsed": false
   },
   "outputs": [
    {
     "data": {
      "text/plain": [
       "(1, 22, 32)"
      ]
     },
     "execution_count": 174,
     "metadata": {},
     "output_type": "execute_result"
    }
   ],
   "source": [
    "mbathy_att.shape"
   ]
  },
  {
   "cell_type": "code",
   "execution_count": null,
   "metadata": {
    "collapsed": true
   },
   "outputs": [],
   "source": [
    "plt.pcolor()"
   ]
  },
  {
   "cell_type": "code",
   "execution_count": 172,
   "metadata": {
    "collapsed": true
   },
   "outputs": [],
   "source": [
    "tem_att = attT.variables['votemper']\n",
    "sal_att = attT.variables['vosaline']\n",
    "ssh_att = attT.variables['sossheig']\n",
    "U_att = attU.variables['vozocrtx']\n",
    "V_att = attV.variables['vomecrty']\n",
    "W_att = attW.variables['vovecrtz']\n",
    "lon_att = attmask.variables['nav_lon']\n",
    "lat_att = attmask.variables['nav_lat']\n",
    "mbathy_att = attmask.variables['mbathy']"
   ]
  },
  {
   "cell_type": "code",
   "execution_count": 156,
   "metadata": {
    "collapsed": false
   },
   "outputs": [],
   "source": [
    "d_tem = np.subtract(tem_att,tem)\n",
    "d_sal = np.subtract(sal_att,sal)\n",
    "d_ssh = np.subtract(ssh_att,ssh)\n",
    "d_U = np.subtract(np.abs(U_att),np.abs(U))\n",
    "d_V = np.subtract(np.abs(V_att),np.abs(V))\n",
    "d_W = np.subtract(np.abs(W_att),np.abs(W))"
   ]
  },
  {
   "cell_type": "markdown",
   "metadata": {},
   "source": [
    "**Summary**: This configuration uses bathy_meter.nc alone and partial steps."
   ]
  },
  {
   "cell_type": "code",
   "execution_count": 170,
   "metadata": {
    "collapsed": false
   },
   "outputs": [
    {
     "data": {
      "image/png": "[encoded data removed]",
      "text/plain": [
       "<matplotlib.figure.Figure at 0x7f807ba0f588>"
      ]
     },
     "metadata": {},
     "output_type": "display_data"
    }
   ],
   "source": [
    "fig, [(ax1, ax2, ax_ssh),(ax_u, ax_v, ax_w)] = plt.subplots(2,3,figsize=(15,10),sharex=True, sharey=True)\n",
    "axes = [ax1, ax2, ax_ssh, ax_u, ax_v, ax_w]\n",
    "varb = [d_tem, d_sal, d_ssh, d_U, d_V, d_W]\n",
    "ttls = ['Temperature', 'Salinity', 'Sea Surface Height', 'U-Velocity', 'V-Velocity', 'W-Velocity']\n",
    "dep_ind = 0\n",
    "t = 47\n",
    "\n",
    "fig = draw_diff(fig, t, axes, varb, ttls, lon, lat, dep_ind)"
   ]
  },
  {
   "cell_type": "code",
   "execution_count": null,
   "metadata": {
    "collapsed": true
   },
   "outputs": [],
   "source": []
  }
 ],
 "metadata": {
  "kernelspec": {
   "display_name": "Python 3",
   "language": "python",
   "name": "python3"
  },
  "language_info": {
   "codemirror_mode": {
    "name": "ipython",
    "version": 3
   },
   "file_extension": ".py",
   "mimetype": "text/x-python",
   "name": "python",
   "nbconvert_exporter": "python",
   "pygments_lexer": "ipython3",
   "version": "3.5.0rc4"
  }
 },
 "nbformat": 4,
 "nbformat_minor": 0
}
